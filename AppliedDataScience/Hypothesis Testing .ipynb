{
 "cells": [
  {
   "cell_type": "markdown",
   "id": "3087155e",
   "metadata": {},
   "source": [
    "## Z-test"
   ]
  },
  {
   "cell_type": "code",
   "execution_count": 3,
   "id": "61c13a8e",
   "metadata": {},
   "outputs": [
    {
     "name": "stdout",
     "output_type": "stream",
     "text": [
      "boundary= 1.959963984540054\n",
      "z-statistic = 2.4999999999999987\n"
     ]
    }
   ],
   "source": [
    "import scipy.stats as st\n",
    "import numpy as np\n",
    "n=100\n",
    "mean=5.3\n",
    "std_dev=1.2\n",
    "mu=5\n",
    "boundary=st.norm.ppf(.975)\n",
    "z_statistic=(mean-mu)/(std_dev/np.sqrt(n))\n",
    "print('boundary=',boundary)\n",
    "print('z-statistic =',z_statistic)"
   ]
  },
  {
   "cell_type": "markdown",
   "id": "77f4a220",
   "metadata": {},
   "source": [
    "## T-test\n"
   ]
  },
  {
   "cell_type": "code",
   "execution_count": 4,
   "id": "7858e808",
   "metadata": {},
   "outputs": [
    {
     "name": "stdout",
     "output_type": "stream",
     "text": [
      "boundary= 2.3646242510102993\n",
      "t-statistic = 1.483679806136839\n"
     ]
    }
   ],
   "source": [
    "import scipy\n",
    "import numpy as np\n",
    "import statistics as st\n",
    "\n",
    "data = [7.06, 7.00, 7.09, 6.98, 7.01, 7.04, 7.02, 6.97]\n",
    "n = len(data)\n",
    "mean = np.mean(data)\n",
    "se=st.stdev(data)\n",
    "sem = se/np.sqrt(n)\n",
    "mu=7\n",
    "boundary=scipy.stats.t._ppf(0.975, n-1)\n",
    "t_statistic=(mean-mu)/sem\n",
    "print('boundary=',boundary)\n",
    "print('t-statistic =',t_statistic)"
   ]
  },
  {
   "cell_type": "markdown",
   "id": "362ce8c8",
   "metadata": {},
   "source": [
    "## Simple Linear Regression"
   ]
  },
  {
   "cell_type": "code",
   "execution_count": 18,
   "id": "df6f68be",
   "metadata": {},
   "outputs": [],
   "source": [
    "#import libraries\n",
    "import numpy as np\n",
    "import matplotlib.pyplot as plt\n",
    "import pandas as pd\n",
    "\n",
    "#splitting the dataset into training and test sets\n",
    "from sklearn.model_selection import train_test_split\n",
    "from sklearn.linear_model import LinearRegression\n",
    "\n",
    "#import dataset\n",
    "ds=pd.read_csv('C:/Users/dz234/OneDrive/Desktop/Learning Process/Applied Data Science/simple_LR_dataset.csv')\n",
    "x=ds.iloc[:,:-1].values\n",
    "y=ds.iloc[:,1].values\n"
   ]
  },
  {
   "cell_type": "code",
   "execution_count": 19,
   "id": "190d23be",
   "metadata": {},
   "outputs": [
    {
     "name": "stdout",
     "output_type": "stream",
     "text": [
      "Coefficients,beta: [0.86720851]\n",
      "Constant,alpha: [14.18635962]\n"
     ]
    }
   ],
   "source": [
    "x_train, x_test, y_train, y_test = train_test_split(x, y, test_size = 0.2, \n",
    "random_state = 0)\n",
    "#Fitting simple linear regression to training set\n",
    "regressor=LinearRegression()\n",
    "regressor.fit(x_train,y_train)\n",
    "print('Coefficients,beta:', regressor.coef_)\n",
    "print('Constant,alpha:', regressor.predict([[0]]))"
   ]
  },
  {
   "cell_type": "code",
   "execution_count": 22,
   "id": "bd771c7b",
   "metadata": {},
   "outputs": [
    {
     "name": "stdout",
     "output_type": "stream",
     "text": [
      "[73.15653798 37.60098927 47.14028282 44.53865731 23.72565318]\n",
      "[70 40 48 50 25]\n"
     ]
    }
   ],
   "source": [
    "#Predicting the results for test set\n",
    "y_pred=regressor.predict(x_test)\n",
    "print(y_pred)\n",
    "print(y_test)"
   ]
  },
  {
   "cell_type": "code",
   "execution_count": 23,
   "id": "87bf9301",
   "metadata": {},
   "outputs": [
    {
     "name": "stdout",
     "output_type": "stream",
     "text": [
      "[[1.        0.9885554]\n",
      " [0.9885554 1.       ]]\n"
     ]
    }
   ],
   "source": [
    "#calculate the correlation coefficient \n",
    "corr = np.corrcoef(y_pred, y_test)\n",
    "print(corr)"
   ]
  },
  {
   "cell_type": "code",
   "execution_count": 24,
   "id": "e83714b5",
   "metadata": {},
   "outputs": [
    {
     "name": "stdout",
     "output_type": "stream",
     "text": [
      "9.581664392196343\n"
     ]
    }
   ],
   "source": [
    "# calculate the MSE \n",
    "from sklearn.metrics import mean_squared_error\n",
    "\n",
    "MSE=mean_squared_error(y_test, y_pred)\n",
    "print(MSE)"
   ]
  },
  {
   "cell_type": "code",
   "execution_count": 21,
   "id": "42be8cfc",
   "metadata": {},
   "outputs": [
    {
     "data": {
      "image/png": "[encoded data removed]",
      "text/plain": [
       "<Figure size 640x480 with 1 Axes>"
      ]
     },
     "metadata": {},
     "output_type": "display_data"
    }
   ],
   "source": [
    "#Simple Linear Regression – Step 4\n",
    "#Visualizing Training set result\n",
    "plt.scatter(x_train,y_train,color='blue') # plot the points\n",
    "plt.plot(x_train, regressor.predict(x_train),color='red') # plot the line\n",
    "plt.title('Price vs Volume (Training set)')\n",
    "plt.xlabel('Volume')\n",
    "plt.ylabel('Price')\n",
    "plt.show()\n"
   ]
  },
  {
   "cell_type": "code",
   "execution_count": null,
   "id": "e8576f23",
   "metadata": {},
   "outputs": [],
   "source": []
  }
 ],
 "metadata": {
  "kernelspec": {
   "display_name": "Python 3",
   "language": "python",
   "name": "python3"
  },
  "language_info": {
   "codemirror_mode": {
    "name": "ipython",
    "version": 3
   },
   "file_extension": ".py",
   "mimetype": "text/x-python",
   "name": "python",
   "nbconvert_exporter": "python",
   "pygments_lexer": "ipython3",
   "version": "3.8.8"
  }
 },
 "nbformat": 4,
 "nbformat_minor": 5
}
