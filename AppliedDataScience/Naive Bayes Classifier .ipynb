{
 "cells": [
  {
   "cell_type": "code",
   "execution_count": 1,
   "id": "44fd68d0",
   "metadata": {},
   "outputs": [],
   "source": [
    "#import libraries\n",
    "import numpy as np\n",
    "import matplotlib.pyplot as plt\n",
    "import pandas as pd\n"
   ]
  },
  {
   "cell_type": "code",
   "execution_count": 2,
   "id": "380c1493",
   "metadata": {},
   "outputs": [
    {
     "data": {
      "text/html": [
       "<div>\n",
       "<style scoped>\n",
       "    .dataframe tbody tr th:only-of-type {\n",
       "        vertical-align: middle;\n",
       "    }\n",
       "\n",
       "    .dataframe tbody tr th {\n",
       "        vertical-align: top;\n",
       "    }\n",
       "\n",
       "    .dataframe thead th {\n",
       "        text-align: right;\n",
       "    }\n",
       "</style>\n",
       "<table border=\"1\" class=\"dataframe\">\n",
       "  <thead>\n",
       "    <tr style=\"text-align: right;\">\n",
       "      <th></th>\n",
       "      <th>outlook</th>\n",
       "      <th>temperature</th>\n",
       "      <th>humidity</th>\n",
       "      <th>windy</th>\n",
       "      <th>Play(Y/N)</th>\n",
       "    </tr>\n",
       "  </thead>\n",
       "  <tbody>\n",
       "    <tr>\n",
       "      <th>0</th>\n",
       "      <td>Sunny</td>\n",
       "      <td>Hot</td>\n",
       "      <td>High</td>\n",
       "      <td>False</td>\n",
       "      <td>No</td>\n",
       "    </tr>\n",
       "    <tr>\n",
       "      <th>1</th>\n",
       "      <td>Sunny</td>\n",
       "      <td>Hot</td>\n",
       "      <td>High</td>\n",
       "      <td>True</td>\n",
       "      <td>No</td>\n",
       "    </tr>\n",
       "    <tr>\n",
       "      <th>2</th>\n",
       "      <td>Rainy</td>\n",
       "      <td>Mild</td>\n",
       "      <td>High</td>\n",
       "      <td>False</td>\n",
       "      <td>Yes</td>\n",
       "    </tr>\n",
       "    <tr>\n",
       "      <th>3</th>\n",
       "      <td>Rainy</td>\n",
       "      <td>Cool</td>\n",
       "      <td>Normal</td>\n",
       "      <td>False</td>\n",
       "      <td>Yes</td>\n",
       "    </tr>\n",
       "    <tr>\n",
       "      <th>4</th>\n",
       "      <td>Rainy</td>\n",
       "      <td>Cool</td>\n",
       "      <td>Normal</td>\n",
       "      <td>True</td>\n",
       "      <td>No</td>\n",
       "    </tr>\n",
       "  </tbody>\n",
       "</table>\n",
       "</div>"
      ],
      "text/plain": [
       "  outlook temperature humidity  windy Play(Y/N)\n",
       "0   Sunny         Hot     High  False        No\n",
       "1   Sunny         Hot     High   True        No\n",
       "2   Rainy        Mild     High  False       Yes\n",
       "3   Rainy        Cool   Normal  False       Yes\n",
       "4   Rainy        Cool   Normal   True        No"
      ]
     },
     "execution_count": 2,
     "metadata": {},
     "output_type": "execute_result"
    }
   ],
   "source": [
    "#import dataset\n",
    "ds=pd.read_csv('C:/Users/dz234/OneDrive/Desktop/Learning Process/Applied Data Science/play.csv')\n",
    "x=ds.iloc[:,:-1].values\n",
    "y=ds.iloc[:,4].values\n",
    "ds.head()"
   ]
  },
  {
   "cell_type": "code",
   "execution_count": 3,
   "id": "afafaedd",
   "metadata": {},
   "outputs": [
    {
     "name": "stdout",
     "output_type": "stream",
     "text": [
      "0 ['Rainy', 'Sunny']\n",
      "1 ['Cool', 'Hot', 'Mild']\n",
      "2 ['High', 'Normal']\n",
      "3 [False, True]\n"
     ]
    }
   ],
   "source": [
    "# set is to get unique data , then make it into list follow by sort\n",
    "# after sortm data in squence 0,1,2\n",
    "\n",
    "i = 0\n",
    "for i in range(0,4):\n",
    "    d=list(set(ds.iloc[:,i].values))\n",
    "    d.sort()\n",
    "    print(i,d)\n",
    "    i=i+1"
   ]
  },
  {
   "cell_type": "code",
   "execution_count": 4,
   "id": "8ff42082",
   "metadata": {},
   "outputs": [
    {
     "name": "stdout",
     "output_type": "stream",
     "text": [
      "[[1 1 0 0]\n",
      " [1 1 0 1]\n",
      " [0 2 0 0]\n",
      " [0 0 1 0]\n",
      " [0 0 1 1]\n",
      " [1 2 0 0]\n",
      " [1 0 1 0]\n",
      " [0 2 1 0]\n",
      " [1 2 1 1]\n",
      " [0 2 0 1]]\n"
     ]
    }
   ],
   "source": [
    "#Handling or Encode categorical variables\n",
    "from sklearn.preprocessing import LabelEncoder\n",
    "labelencoder_X = LabelEncoder()\n",
    "x[:, 0] = labelencoder_X.fit_transform(x[:, 0])\n",
    "x[:, 1] = labelencoder_X.fit_transform(x[:, 1])\n",
    "x[:, 2] = labelencoder_X.fit_transform(x[:, 2])\n",
    "x[:, 3] = labelencoder_X.fit_transform(x[:, 3])\n",
    "print(x)"
   ]
  },
  {
   "cell_type": "code",
   "execution_count": 5,
   "id": "616b9c1f",
   "metadata": {},
   "outputs": [],
   "source": [
    "#fitting Naïve Bayes Classifier to the dataset \n",
    "from sklearn.naive_bayes import BernoulliNB\n",
    "classifier= BernoulliNB()\n",
    "classifier=classifier.fit(x,y)\n",
    "\n",
    "#discrete data used bernoulli \n",
    "#continous/numeric data used gaussian"
   ]
  },
  {
   "cell_type": "code",
   "execution_count": 6,
   "id": "c192d0fd",
   "metadata": {},
   "outputs": [
    {
     "name": "stdout",
     "output_type": "stream",
     "text": [
      "['No']\n"
     ]
    }
   ],
   "source": [
    "#Predict using classifier\n",
    "prediction=classifier.predict([[1., 0., 0., 0.]])#sunny day,cool temperature, humidity high, windy false \n",
    "print(prediction)"
   ]
  }
 ],
 "metadata": {
  "kernelspec": {
   "display_name": "Python 3",
   "language": "python",
   "name": "python3"
  },
  "language_info": {
   "codemirror_mode": {
    "name": "ipython",
    "version": 3
   },
   "file_extension": ".py",
   "mimetype": "text/x-python",
   "name": "python",
   "nbconvert_exporter": "python",
   "pygments_lexer": "ipython3",
   "version": "3.8.8"
  }
 },
 "nbformat": 4,
 "nbformat_minor": 5
}
