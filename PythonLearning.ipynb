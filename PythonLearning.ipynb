{
 "cells": [
  {
   "cell_type": "markdown",
   "id": "f324a57a",
   "metadata": {},
   "source": [
    "## Welcome to Python Learning "
   ]
  },
  {
   "cell_type": "code",
   "execution_count": null,
   "id": "8be71519",
   "metadata": {},
   "outputs": [],
   "source": [
    "print (\"Hello World!\")\n",
    "\n",
    "print (\"Hello Bob!\")"
   ]
  },
  {
   "cell_type": "markdown",
   "id": "dadd358b",
   "metadata": {},
   "source": [
    "print (\"Hello World!\")\n",
    "\n",
    "print (\"Hello Bob!\")\n"
   ]
  },
  {
   "cell_type": "code",
   "execution_count": 5,
   "id": "093727c5",
   "metadata": {},
   "outputs": [
    {
     "data": {
      "text/plain": [
       "4"
      ]
     },
     "execution_count": 5,
     "metadata": {},
     "output_type": "execute_result"
    }
   ],
   "source": [
    "2 + 2 \n"
   ]
  },
  {
   "cell_type": "code",
   "execution_count": 6,
   "id": "a5e5a275",
   "metadata": {},
   "outputs": [
    {
     "data": {
      "text/plain": [
       "2.0"
      ]
     },
     "execution_count": 6,
     "metadata": {},
     "output_type": "execute_result"
    }
   ],
   "source": [
    "4/2"
   ]
  },
  {
   "cell_type": "code",
   "execution_count": 7,
   "id": "66d838bb",
   "metadata": {},
   "outputs": [
    {
     "data": {
      "text/plain": [
       "1"
      ]
     },
     "execution_count": 7,
     "metadata": {},
     "output_type": "execute_result"
    }
   ],
   "source": [
    "3 % 2   # % will give remainder of 3 divide by 2 is 1"
   ]
  },
  {
   "cell_type": "code",
   "execution_count": 8,
   "id": "1a10c9ef",
   "metadata": {},
   "outputs": [
    {
     "data": {
      "text/plain": [
       "9"
      ]
     },
     "execution_count": 8,
     "metadata": {},
     "output_type": "execute_result"
    }
   ],
   "source": [
    "3**2   # power of "
   ]
  },
  {
   "cell_type": "code",
   "execution_count": 9,
   "id": "cf48139b",
   "metadata": {},
   "outputs": [
    {
     "data": {
      "text/plain": [
       "'This is a string '"
      ]
     },
     "execution_count": 9,
     "metadata": {},
     "output_type": "execute_result"
    }
   ],
   "source": [
    "'This is a string '"
   ]
  },
  {
   "cell_type": "code",
   "execution_count": 10,
   "id": "09e5b215",
   "metadata": {},
   "outputs": [
    {
     "data": {
      "text/plain": [
       "'This is a string '"
      ]
     },
     "execution_count": 10,
     "metadata": {},
     "output_type": "execute_result"
    }
   ],
   "source": [
    "\"This is a string \""
   ]
  },
  {
   "cell_type": "code",
   "execution_count": 11,
   "id": "64507d6b",
   "metadata": {},
   "outputs": [
    {
     "name": "stdout",
     "output_type": "stream",
     "text": [
      "HelloWorld!\n"
     ]
    }
   ],
   "source": [
    "print(\"Hello\" + \"World!\")"
   ]
  },
  {
   "cell_type": "code",
   "execution_count": 12,
   "id": "104d56fc",
   "metadata": {},
   "outputs": [
    {
     "data": {
      "text/plain": [
       "3.0"
      ]
     },
     "execution_count": 12,
     "metadata": {},
     "output_type": "execute_result"
    }
   ],
   "source": [
    "6/2 # division will result in float "
   ]
  },
  {
   "cell_type": "code",
   "execution_count": 13,
   "id": "fed3af2d",
   "metadata": {},
   "outputs": [
    {
     "data": {
      "text/plain": [
       "2"
      ]
     },
     "execution_count": 13,
     "metadata": {},
     "output_type": "execute_result"
    }
   ],
   "source": [
    "5 // 2  # floor division, gives the integer part of the division "
   ]
  },
  {
   "cell_type": "code",
   "execution_count": 17,
   "id": "42f57eb3",
   "metadata": {},
   "outputs": [
    {
     "data": {
      "text/plain": [
       "int"
      ]
     },
     "execution_count": 17,
     "metadata": {},
     "output_type": "execute_result"
    }
   ],
   "source": [
    "type(5)"
   ]
  },
  {
   "cell_type": "code",
   "execution_count": 18,
   "id": "239ae8c5",
   "metadata": {},
   "outputs": [
    {
     "data": {
      "text/plain": [
       "float"
      ]
     },
     "execution_count": 18,
     "metadata": {},
     "output_type": "execute_result"
    }
   ],
   "source": [
    "type(3.2)"
   ]
  },
  {
   "cell_type": "code",
   "execution_count": 23,
   "id": "3bf706ff",
   "metadata": {},
   "outputs": [
    {
     "data": {
      "text/plain": [
       "bool"
      ]
     },
     "execution_count": 23,
     "metadata": {},
     "output_type": "execute_result"
    }
   ],
   "source": [
    "type(True)  #binary var"
   ]
  },
  {
   "cell_type": "code",
   "execution_count": 24,
   "id": "4e752394",
   "metadata": {},
   "outputs": [
    {
     "data": {
      "text/plain": [
       "'Hello World!'"
      ]
     },
     "execution_count": 24,
     "metadata": {},
     "output_type": "execute_result"
    }
   ],
   "source": [
    "\"Hello World!\""
   ]
  },
  {
   "cell_type": "code",
   "execution_count": 25,
   "id": "5a4aeb81",
   "metadata": {},
   "outputs": [
    {
     "data": {
      "text/plain": [
       "'Hello Im Dz'"
      ]
     },
     "execution_count": 25,
     "metadata": {},
     "output_type": "execute_result"
    }
   ],
   "source": [
    "\"Hello I'm Dz\"  # used double quote for I'm "
   ]
  },
  {
   "cell_type": "code",
   "execution_count": 28,
   "id": "c092f915",
   "metadata": {},
   "outputs": [
    {
     "name": "stdout",
     "output_type": "stream",
     "text": [
      "Hello Everyone, 2 apples are ready to eat in the plate\n"
     ]
    }
   ],
   "source": [
    "print ('Hello Everyone,', 2 , 'apples are ready to eat in the plate')"
   ]
  },
  {
   "cell_type": "code",
   "execution_count": 29,
   "id": "995bf049",
   "metadata": {},
   "outputs": [
    {
     "name": "stdout",
     "output_type": "stream",
     "text": [
      "Hello everyone\n"
     ]
    }
   ],
   "source": [
    "print ('Hello','everyone ')  # to get extra info on function , click on func, press Shift+Tab"
   ]
  },
  {
   "cell_type": "code",
   "execution_count": null,
   "id": "fc1436e1",
   "metadata": {},
   "outputs": [],
   "source": [
    "# = Assign to varible "
   ]
  },
  {
   "cell_type": "code",
   "execution_count": 31,
   "id": "21cbd8f7",
   "metadata": {},
   "outputs": [],
   "source": [
    "x = 3\n"
   ]
  },
  {
   "cell_type": "code",
   "execution_count": 32,
   "id": "dd790072",
   "metadata": {},
   "outputs": [
    {
     "data": {
      "text/plain": [
       "3"
      ]
     },
     "execution_count": 32,
     "metadata": {},
     "output_type": "execute_result"
    }
   ],
   "source": [
    "x"
   ]
  },
  {
   "cell_type": "code",
   "execution_count": 33,
   "id": "2dd5314d",
   "metadata": {},
   "outputs": [],
   "source": [
    "#boolean variable"
   ]
  },
  {
   "cell_type": "code",
   "execution_count": 34,
   "id": "e35983da",
   "metadata": {},
   "outputs": [],
   "source": [
    "result = True"
   ]
  },
  {
   "cell_type": "code",
   "execution_count": 39,
   "id": "dc8c6e84",
   "metadata": {},
   "outputs": [],
   "source": [
    "result2 = False"
   ]
  },
  {
   "cell_type": "code",
   "execution_count": 40,
   "id": "470d6dc3",
   "metadata": {},
   "outputs": [
    {
     "data": {
      "text/plain": [
       "True"
      ]
     },
     "execution_count": 40,
     "metadata": {},
     "output_type": "execute_result"
    }
   ],
   "source": [
    "result or results2"
   ]
  },
  {
   "cell_type": "code",
   "execution_count": 42,
   "id": "8cfe4423",
   "metadata": {},
   "outputs": [
    {
     "data": {
      "text/plain": [
       "False"
      ]
     },
     "execution_count": 42,
     "metadata": {},
     "output_type": "execute_result"
    }
   ],
   "source": [
    "result and result2"
   ]
  },
  {
   "cell_type": "code",
   "execution_count": 43,
   "id": "591b3760",
   "metadata": {},
   "outputs": [
    {
     "data": {
      "text/plain": [
       "bool"
      ]
     },
     "execution_count": 43,
     "metadata": {},
     "output_type": "execute_result"
    }
   ],
   "source": [
    "type(result)"
   ]
  },
  {
   "cell_type": "code",
   "execution_count": 45,
   "id": "34c46d87",
   "metadata": {},
   "outputs": [
    {
     "name": "stdout",
     "output_type": "stream",
     "text": [
      "hello everyone!\n"
     ]
    }
   ],
   "source": [
    "greeting = \"hello everyone!\"\n",
    "print(greeting)"
   ]
  },
  {
   "cell_type": "code",
   "execution_count": 48,
   "id": "9b0e3bf9",
   "metadata": {},
   "outputs": [
    {
     "name": "stdout",
     "output_type": "stream",
     "text": [
      "What's your name? Dz\n"
     ]
    }
   ],
   "source": [
    "name = input(\"What's your name? \")  # input function save to the variable as a string"
   ]
  },
  {
   "cell_type": "code",
   "execution_count": 49,
   "id": "004106e3",
   "metadata": {},
   "outputs": [
    {
     "name": "stdout",
     "output_type": "stream",
     "text": [
      "How old are you ?20\n"
     ]
    }
   ],
   "source": [
    "age = input(\"How old are you ?\")"
   ]
  },
  {
   "cell_type": "code",
   "execution_count": 50,
   "id": "b753b660",
   "metadata": {},
   "outputs": [
    {
     "data": {
      "text/plain": [
       "str"
      ]
     },
     "execution_count": 50,
     "metadata": {},
     "output_type": "execute_result"
    }
   ],
   "source": [
    "type(age)"
   ]
  },
  {
   "cell_type": "code",
   "execution_count": 54,
   "id": "9e083a65",
   "metadata": {},
   "outputs": [
    {
     "data": {
      "text/plain": [
       "22"
      ]
     },
     "execution_count": 54,
     "metadata": {},
     "output_type": "execute_result"
    }
   ],
   "source": [
    "int(age) + 2 "
   ]
  },
  {
   "cell_type": "code",
   "execution_count": 51,
   "id": "78720f45",
   "metadata": {},
   "outputs": [
    {
     "data": {
      "text/plain": [
       "2"
      ]
     },
     "execution_count": 51,
     "metadata": {},
     "output_type": "execute_result"
    }
   ],
   "source": [
    "int(2.4)  # gives the integer part of an input "
   ]
  },
  {
   "cell_type": "code",
   "execution_count": 52,
   "id": "8bf79447",
   "metadata": {},
   "outputs": [
    {
     "data": {
      "text/plain": [
       "5"
      ]
     },
     "execution_count": 52,
     "metadata": {},
     "output_type": "execute_result"
    }
   ],
   "source": [
    "round(4.6)"
   ]
  },
  {
   "cell_type": "code",
   "execution_count": 53,
   "id": "5072f445",
   "metadata": {},
   "outputs": [
    {
     "data": {
      "text/plain": [
       "1.35"
      ]
     },
     "execution_count": 53,
     "metadata": {},
     "output_type": "execute_result"
    }
   ],
   "source": [
    "round(1.34534, 2)"
   ]
  },
  {
   "cell_type": "code",
   "execution_count": 55,
   "id": "7bf4d54b",
   "metadata": {},
   "outputs": [
    {
     "name": "stdout",
     "output_type": "stream",
     "text": [
      "Please enter your age : 20\n"
     ]
    }
   ],
   "source": [
    "age = int(input('Please enter your age : '))"
   ]
  },
  {
   "cell_type": "code",
   "execution_count": 56,
   "id": "83ff5843",
   "metadata": {},
   "outputs": [
    {
     "data": {
      "text/plain": [
       "int"
      ]
     },
     "execution_count": 56,
     "metadata": {},
     "output_type": "execute_result"
    }
   ],
   "source": [
    "type (age)"
   ]
  },
  {
   "cell_type": "code",
   "execution_count": 76,
   "id": "692d48ab",
   "metadata": {},
   "outputs": [
    {
     "name": "stdout",
     "output_type": "stream",
     "text": [
      "What is your name ?Dz\n",
      "What is your Age ?12\n",
      "2101\n",
      "Dz, you will turn 100 in the year 2109\n"
     ]
    }
   ],
   "source": [
    "Name= input(\"What is your name ?\")\n",
    "\n",
    "Age= int(input(\"What is your Age ?\"))\n",
    "\n",
    "print (Name + \", you will turn 100 y/o in the year\" , 2021 - Age + 100)"
   ]
  },
  {
   "cell_type": "code",
   "execution_count": 78,
   "id": "62467a3e",
   "metadata": {},
   "outputs": [
    {
     "name": "stdout",
     "output_type": "stream",
     "text": [
      "What is your name ?dz\n",
      "What is your Age ?10\n",
      "dz, you will turn 100 y/o in the year 2101\n"
     ]
    }
   ],
   "source": [
    "Name= input(\"What is your name ?\")\n",
    "\n",
    "\n",
    "Age= int(input(\"What is your Age ?\"))\n",
    "\n",
    "hundred = 2021 - age + 100\n",
    "\n",
    "\n",
    "print (Name + \", you will turn 100 y/o in the year\" , hundred)"
   ]
  },
  {
   "cell_type": "code",
   "execution_count": 88,
   "id": "9c41ea5b",
   "metadata": {},
   "outputs": [
    {
     "name": "stdout",
     "output_type": "stream",
     "text": [
      "Hi , What do you want to order ? Grande capucino\n"
     ]
    }
   ],
   "source": [
    "Order = input (\"Hi , What do you want to order ? \")"
   ]
  },
  {
   "cell_type": "code",
   "execution_count": 89,
   "id": "bcfec645",
   "metadata": {},
   "outputs": [
    {
     "name": "stdout",
     "output_type": "stream",
     "text": [
      "How many cups do you want ? 2\n"
     ]
    }
   ],
   "source": [
    "Cup = input (\"How many cups do you want ? \")\n"
   ]
  },
  {
   "cell_type": "code",
   "execution_count": 92,
   "id": "43e474e2",
   "metadata": {},
   "outputs": [
    {
     "name": "stdout",
     "output_type": "stream",
     "text": [
      "Here you go dz, your order of 2 of Grande capucino\n"
     ]
    }
   ],
   "source": [
    "print(\"Here you go \" + Name + \", your order of \" + Cup + \" of \" + Order) # better to use \",\" instead of \"+\""
   ]
  },
  {
   "cell_type": "markdown",
   "id": "12b6133d",
   "metadata": {},
   "source": [
    "### Flow control"
   ]
  },
  {
   "cell_type": "code",
   "execution_count": 4,
   "id": "894a6e4a",
   "metadata": {},
   "outputs": [
    {
     "name": "stdout",
     "output_type": "stream",
     "text": [
      "1  is smaller than 7\n"
     ]
    }
   ],
   "source": [
    "x = 1\n",
    "\n",
    "while x > 7 : \n",
    "    print(x, \"X is bigger than 7\" )\n",
    "    print(x, \"X is also bigger than 8\" )\n",
    "    \n",
    "print( x, \" is smaller than 7\")"
   ]
  },
  {
   "cell_type": "code",
   "execution_count": 5,
   "id": "83c71cb1",
   "metadata": {},
   "outputs": [
    {
     "name": "stdout",
     "output_type": "stream",
     "text": [
      "0\n",
      "1\n",
      "2\n",
      "3\n",
      "4\n",
      "while loop complete!\n"
     ]
    }
   ],
   "source": [
    "# while loop will continue to execute until it doesnt meet the condition\n",
    "\n",
    "count = 0\n",
    "\n",
    "while count < 5:\n",
    "    print(count)\n",
    "    count = count + 1\n",
    "    \n",
    "print(\"while loop complete!\")"
   ]
  },
  {
   "cell_type": "code",
   "execution_count": 6,
   "id": "ec22c626",
   "metadata": {},
   "outputs": [
    {
     "name": "stdout",
     "output_type": "stream",
     "text": [
      "1\n",
      "2\n",
      "3\n",
      "4\n",
      "5\n",
      "while loop complete!\n"
     ]
    }
   ],
   "source": [
    "count = 0\n",
    "\n",
    "while count < 5:\n",
    "    count = count + 1\n",
    "    print(count)\n",
    "    \n",
    "print(\"while loop complete!\")"
   ]
  },
  {
   "cell_type": "code",
   "execution_count": 11,
   "id": "204356db",
   "metadata": {},
   "outputs": [
    {
     "name": "stdout",
     "output_type": "stream",
     "text": [
      "What is the value for total =  18\n"
     ]
    }
   ],
   "source": [
    "x = 5\n",
    "total = 0 \n",
    "\n",
    "while x < 8 :\n",
    "    total = total + x \n",
    "    x = x + 1 \n",
    "    \n",
    "print(\"What is the value for total = \",total)"
   ]
  },
  {
   "cell_type": "code",
   "execution_count": 13,
   "id": "46b98a57",
   "metadata": {},
   "outputs": [
    {
     "name": "stdout",
     "output_type": "stream",
     "text": [
      "3\n",
      "4\n",
      "5\n"
     ]
    }
   ],
   "source": [
    "# for loop \n",
    "for x in range(3,6):       # range (0,3)  ---> [0,1,2] \n",
    "    print(x)"
   ]
  },
  {
   "cell_type": "code",
   "execution_count": 18,
   "id": "b76ea499",
   "metadata": {},
   "outputs": [
    {
     "name": "stdout",
     "output_type": "stream",
     "text": [
      "For height in 145  the height in M is :  1.45\n",
      "For height in 167  the height in M is :  1.67\n",
      "For height in 178  the height in M is :  1.78\n",
      "For height in 135  the height in M is :  1.35\n",
      "For height in 188  the height in M is :  1.88\n"
     ]
    }
   ],
   "source": [
    "cm = [145, 167, 178, 135, 188]\n",
    "for x in cm:\n",
    "    m = x/100\n",
    "    print(\"For height in\", x, \" the height in M is : \", m)"
   ]
  },
  {
   "cell_type": "code",
   "execution_count": 19,
   "id": "2001fdc1",
   "metadata": {},
   "outputs": [
    {
     "name": "stdout",
     "output_type": "stream",
     "text": [
      "a is less than b\n"
     ]
    }
   ],
   "source": [
    "# if statement \n",
    "a = 1\n",
    "b = 2 \n",
    "if a < b:\n",
    "    print('a is less than b')"
   ]
  },
  {
   "cell_type": "code",
   "execution_count": 21,
   "id": "effcbc95",
   "metadata": {},
   "outputs": [
    {
     "name": "stdout",
     "output_type": "stream",
     "text": [
      "a is bigger than b\n"
     ]
    }
   ],
   "source": [
    "\n",
    "a = 4\n",
    "b = 2 \n",
    "if a < b:\n",
    "    print('a is less than b')\n",
    "else:\n",
    "    print ('a is bigger than b')"
   ]
  },
  {
   "cell_type": "code",
   "execution_count": 23,
   "id": "09f60d49",
   "metadata": {},
   "outputs": [
    {
     "name": "stdout",
     "output_type": "stream",
     "text": [
      "a is less than b\n",
      "if statement complete\n"
     ]
    }
   ],
   "source": [
    "a = 1\n",
    "b = 2 \n",
    "if a < b:\n",
    "    print('a is less than b')\n",
    "else:\n",
    "    print ('a is bigger than b')\n",
    "    \n",
    "print(\"if statement complete\")"
   ]
  },
  {
   "cell_type": "code",
   "execution_count": 25,
   "id": "c2dc4972",
   "metadata": {},
   "outputs": [
    {
     "name": "stdout",
     "output_type": "stream",
     "text": [
      "a is equal to b\n",
      "if statement complete\n"
     ]
    }
   ],
   "source": [
    "# if - elif - else statement \n",
    "\n",
    "a = 1 \n",
    "b = 1\n",
    "\n",
    "if a < b:\n",
    "    print('a is less than b')\n",
    "    \n",
    "elif a == b:\n",
    "    print ('a is equal to b')\n",
    "    \n",
    "else: \n",
    "    print ('a is more than b')\n",
    "    \n",
    "print('if statement complete')"
   ]
  },
  {
   "cell_type": "code",
   "execution_count": 27,
   "id": "1e8b4ba1",
   "metadata": {},
   "outputs": [
    {
     "name": "stdout",
     "output_type": "stream",
     "text": [
      "a is less or equal b\n",
      "if statement complete\n"
     ]
    }
   ],
   "source": [
    " # you can have elif (in between statement) as much as possible, but only 1 if or else \n",
    "a = 1                     \n",
    "b = 1\n",
    "\n",
    "if a <= b:\n",
    "    print('a is less or equal b')\n",
    "    \n",
    "elif a == b:\n",
    "    print ('a is equal to b')\n",
    "    \n",
    "else: \n",
    "    print ('a is more than b')\n",
    "    \n",
    "print('if statement complete')"
   ]
  },
  {
   "cell_type": "code",
   "execution_count": 30,
   "id": "27613cc3",
   "metadata": {},
   "outputs": [
    {
     "name": "stdout",
     "output_type": "stream",
     "text": [
      "Please enter a number between 1 and 1001\n",
      "The number is not more than 55\n"
     ]
    }
   ],
   "source": [
    "number = int(input(\"Please enter a number between 1 and 100 \"))\n",
    "if number > 55:\n",
    "    print(\"The number is more than 55\")\n",
    "else:\n",
    "    print('The number is not more than 55')"
   ]
  },
  {
   "cell_type": "code",
   "execution_count": 33,
   "id": "0d53a8bc",
   "metadata": {},
   "outputs": [
    {
     "name": "stdout",
     "output_type": "stream",
     "text": [
      "Please enter a number between 1 and 100: 56\n",
      "The number is more than 55\n"
     ]
    }
   ],
   "source": [
    "number = int(input(\"Please enter a number between 1 and 100: \"))\n",
    "if number > 55:\n",
    "    print(\"The number is more than 55\")\n",
    "else:\n",
    "    print('The number is not more than 55')\n"
   ]
  },
  {
   "cell_type": "markdown",
   "id": "546e554b",
   "metadata": {},
   "source": [
    "# Python Collections \n",
    "List - uses square bracket l = [1,2,3]\n",
    "Tuples - uses parentheses t = (1,2,2'a')  cannot mutable \n",
    "Dictionary used curly brackets ( have key and value )"
   ]
  },
  {
   "cell_type": "code",
   "execution_count": 35,
   "id": "535fdb56",
   "metadata": {},
   "outputs": [],
   "source": [
    "a = [11,22,33,44,55,66,77,88,99]"
   ]
  },
  {
   "cell_type": "code",
   "execution_count": 36,
   "id": "59e0e7ed",
   "metadata": {},
   "outputs": [
    {
     "data": {
      "text/plain": [
       "55"
      ]
     },
     "execution_count": 36,
     "metadata": {},
     "output_type": "execute_result"
    }
   ],
   "source": [
    "a[4]"
   ]
  },
  {
   "cell_type": "code",
   "execution_count": 37,
   "id": "7c4814e7",
   "metadata": {},
   "outputs": [
    {
     "data": {
      "text/plain": [
       "6"
      ]
     },
     "execution_count": 37,
     "metadata": {},
     "output_type": "execute_result"
    }
   ],
   "source": [
    "a.index(77) #find out the index number of the (first occurence) in a value "
   ]
  },
  {
   "cell_type": "code",
   "execution_count": 59,
   "id": "a5b21a9b",
   "metadata": {},
   "outputs": [],
   "source": [
    "b = [22,55,33,22,44,33,22,44,33,22,44]"
   ]
  },
  {
   "cell_type": "code",
   "execution_count": 40,
   "id": "d9b638fb",
   "metadata": {},
   "outputs": [
    {
     "data": {
      "text/plain": [
       "0"
      ]
     },
     "execution_count": 40,
     "metadata": {},
     "output_type": "execute_result"
    }
   ],
   "source": [
    "b.index(22)"
   ]
  },
  {
   "cell_type": "code",
   "execution_count": 41,
   "id": "4b04b8c2",
   "metadata": {},
   "outputs": [],
   "source": [
    "b.append(999)"
   ]
  },
  {
   "cell_type": "code",
   "execution_count": 42,
   "id": "71d70742",
   "metadata": {},
   "outputs": [
    {
     "data": {
      "text/plain": [
       "[22, 55, 33, 22, 44, 33, 22, 999]"
      ]
     },
     "execution_count": 42,
     "metadata": {},
     "output_type": "execute_result"
    }
   ],
   "source": [
    "b"
   ]
  },
  {
   "cell_type": "code",
   "execution_count": 43,
   "id": "a7498fe5",
   "metadata": {},
   "outputs": [
    {
     "data": {
      "text/plain": [
       "999"
      ]
     },
     "execution_count": 43,
     "metadata": {},
     "output_type": "execute_result"
    }
   ],
   "source": [
    "b.pop()"
   ]
  },
  {
   "cell_type": "code",
   "execution_count": 44,
   "id": "a5927f99",
   "metadata": {},
   "outputs": [
    {
     "data": {
      "text/plain": [
       "[22, 55, 33, 22, 44, 33, 22]"
      ]
     },
     "execution_count": 44,
     "metadata": {},
     "output_type": "execute_result"
    }
   ],
   "source": [
    "b"
   ]
  },
  {
   "cell_type": "code",
   "execution_count": 45,
   "id": "5a4f30d6",
   "metadata": {},
   "outputs": [],
   "source": [
    "c = [11,22,33]"
   ]
  },
  {
   "cell_type": "code",
   "execution_count": 46,
   "id": "d1e954af",
   "metadata": {},
   "outputs": [
    {
     "name": "stdout",
     "output_type": "stream",
     "text": [
      "[11, 22, 33, 43]\n"
     ]
    }
   ],
   "source": [
    "c.append(43)\n",
    "print(c)"
   ]
  },
  {
   "cell_type": "code",
   "execution_count": 51,
   "id": "86be3e2f",
   "metadata": {},
   "outputs": [
    {
     "data": {
      "text/plain": [
       "33"
      ]
     },
     "execution_count": 51,
     "metadata": {},
     "output_type": "execute_result"
    }
   ],
   "source": [
    "c.pop() # it will remove the last index in the list unless specify in ()"
   ]
  },
  {
   "cell_type": "code",
   "execution_count": 52,
   "id": "bb31b687",
   "metadata": {},
   "outputs": [
    {
     "name": "stdout",
     "output_type": "stream",
     "text": [
      "[11, 888, 22]\n"
     ]
    }
   ],
   "source": [
    "print(c)"
   ]
  },
  {
   "cell_type": "code",
   "execution_count": 49,
   "id": "5bf9b05a",
   "metadata": {},
   "outputs": [],
   "source": [
    "c.insert(1,888) # insert at index no.1 , the value of 888"
   ]
  },
  {
   "cell_type": "code",
   "execution_count": 50,
   "id": "8721a104",
   "metadata": {},
   "outputs": [
    {
     "data": {
      "text/plain": [
       "[11, 888, 22, 33]"
      ]
     },
     "execution_count": 50,
     "metadata": {},
     "output_type": "execute_result"
    }
   ],
   "source": [
    "c"
   ]
  },
  {
   "cell_type": "code",
   "execution_count": 54,
   "id": "3885929b",
   "metadata": {},
   "outputs": [
    {
     "data": {
      "text/plain": [
       "[11, 888, 22]"
      ]
     },
     "execution_count": 54,
     "metadata": {},
     "output_type": "execute_result"
    }
   ],
   "source": [
    "c"
   ]
  },
  {
   "cell_type": "code",
   "execution_count": 55,
   "id": "8681fe6d",
   "metadata": {},
   "outputs": [],
   "source": [
    "c.remove (11)"
   ]
  },
  {
   "cell_type": "code",
   "execution_count": 56,
   "id": "f55d0c98",
   "metadata": {},
   "outputs": [
    {
     "data": {
      "text/plain": [
       "[888, 22]"
      ]
     },
     "execution_count": 56,
     "metadata": {},
     "output_type": "execute_result"
    }
   ],
   "source": [
    "c"
   ]
  },
  {
   "cell_type": "code",
   "execution_count": 60,
   "id": "2e0386db",
   "metadata": {},
   "outputs": [
    {
     "data": {
      "text/plain": [
       "[55, 33, 44, 33, 44, 33, 44]"
      ]
     },
     "execution_count": 60,
     "metadata": {},
     "output_type": "execute_result"
    }
   ],
   "source": [
    "while b.count(22) > 0:\n",
    "    b.remove(22)\n",
    "    \n",
    "b"
   ]
  },
  {
   "cell_type": "code",
   "execution_count": 61,
   "id": "82333405",
   "metadata": {},
   "outputs": [
    {
     "data": {
      "text/plain": [
       "[55, 33, 33, 33]"
      ]
     },
     "execution_count": 61,
     "metadata": {},
     "output_type": "execute_result"
    }
   ],
   "source": [
    "while 44 in b:\n",
    "    b.remove(44)\n",
    "b"
   ]
  },
  {
   "cell_type": "code",
   "execution_count": 62,
   "id": "8cb64140",
   "metadata": {},
   "outputs": [],
   "source": [
    "b.extend(c)"
   ]
  },
  {
   "cell_type": "code",
   "execution_count": 63,
   "id": "3ba79149",
   "metadata": {},
   "outputs": [
    {
     "data": {
      "text/plain": [
       "[55, 33, 33, 33, 888, 22]"
      ]
     },
     "execution_count": 63,
     "metadata": {},
     "output_type": "execute_result"
    }
   ],
   "source": [
    "b"
   ]
  },
  {
   "cell_type": "code",
   "execution_count": 64,
   "id": "676beea0",
   "metadata": {},
   "outputs": [],
   "source": [
    "d = [\"Hello\",\"amy\"]"
   ]
  },
  {
   "cell_type": "code",
   "execution_count": 65,
   "id": "a8a7ee2f",
   "metadata": {},
   "outputs": [],
   "source": [
    "c.extend(d)"
   ]
  },
  {
   "cell_type": "code",
   "execution_count": 66,
   "id": "1965788b",
   "metadata": {},
   "outputs": [
    {
     "data": {
      "text/plain": [
       "[888, 22, 'Hello', 'amy']"
      ]
     },
     "execution_count": 66,
     "metadata": {},
     "output_type": "execute_result"
    }
   ],
   "source": [
    "c"
   ]
  },
  {
   "cell_type": "code",
   "execution_count": 103,
   "id": "d236d7c9",
   "metadata": {},
   "outputs": [
    {
     "data": {
      "text/plain": [
       "[22, 'hello', 65, 11]"
      ]
     },
     "execution_count": 103,
     "metadata": {},
     "output_type": "execute_result"
    }
   ],
   "source": [
    "b = [22, 65, 11, 66]\n",
    "b.insert(1,\"hello\")\n",
    "c = b\n",
    "c.pop()\n",
    "c"
   ]
  },
  {
   "cell_type": "code",
   "execution_count": 95,
   "id": "670fd9a0",
   "metadata": {},
   "outputs": [
    {
     "data": {
      "text/plain": [
       "[22, 'hello', 65, 11]"
      ]
     },
     "execution_count": 95,
     "metadata": {},
     "output_type": "execute_result"
    }
   ],
   "source": [
    "c = b\n",
    "c"
   ]
  },
  {
   "cell_type": "code",
   "execution_count": 96,
   "id": "70b1ffef",
   "metadata": {},
   "outputs": [
    {
     "data": {
      "text/plain": [
       "[11, 22, 33, 44, 55, 66, 77, 88, 99]"
      ]
     },
     "execution_count": 96,
     "metadata": {},
     "output_type": "execute_result"
    }
   ],
   "source": [
    "a "
   ]
  },
  {
   "cell_type": "code",
   "execution_count": 97,
   "id": "064ab235",
   "metadata": {},
   "outputs": [
    {
     "data": {
      "text/plain": [
       "[33, 44]"
      ]
     },
     "execution_count": 97,
     "metadata": {},
     "output_type": "execute_result"
    }
   ],
   "source": [
    "# slicing\n",
    "a[2:4] "
   ]
  },
  {
   "cell_type": "code",
   "execution_count": 100,
   "id": "2db412a0",
   "metadata": {},
   "outputs": [
    {
     "data": {
      "text/plain": [
       "11"
      ]
     },
     "execution_count": 100,
     "metadata": {},
     "output_type": "execute_result"
    }
   ],
   "source": []
  },
  {
   "cell_type": "code",
   "execution_count": 104,
   "id": "3da5efa3",
   "metadata": {},
   "outputs": [
    {
     "data": {
      "text/plain": [
       "[44, 55, 66]"
      ]
     },
     "execution_count": 104,
     "metadata": {},
     "output_type": "execute_result"
    }
   ],
   "source": [
    "a[3:-3]"
   ]
  },
  {
   "cell_type": "code",
   "execution_count": 107,
   "id": "6afabb5d",
   "metadata": {},
   "outputs": [
    {
     "data": {
      "text/plain": [
       "[33]"
      ]
     },
     "execution_count": 107,
     "metadata": {},
     "output_type": "execute_result"
    }
   ],
   "source": [
    "a[2:-6]"
   ]
  },
  {
   "cell_type": "code",
   "execution_count": 108,
   "id": "172b4359",
   "metadata": {},
   "outputs": [
    {
     "data": {
      "text/plain": [
       "[11, 22, 33, 44, 55, 66, 77, 88, 99]"
      ]
     },
     "execution_count": 108,
     "metadata": {},
     "output_type": "execute_result"
    }
   ],
   "source": [
    "a[:]"
   ]
  },
  {
   "cell_type": "code",
   "execution_count": 109,
   "id": "b2061f73",
   "metadata": {},
   "outputs": [
    {
     "data": {
      "text/plain": [
       "[11, 22, 33, 44, 55, 66, 77, 88, 99]"
      ]
     },
     "execution_count": 109,
     "metadata": {},
     "output_type": "execute_result"
    }
   ],
   "source": [
    "a[::1]  # step number  ( skip by 1 )"
   ]
  },
  {
   "cell_type": "code",
   "execution_count": 110,
   "id": "f0a69d78",
   "metadata": {},
   "outputs": [
    {
     "data": {
      "text/plain": [
       "[11, 22, 33, 44, 55, 66, 77, 88, 99]"
      ]
     },
     "execution_count": 110,
     "metadata": {},
     "output_type": "execute_result"
    }
   ],
   "source": [
    "a[::] "
   ]
  },
  {
   "cell_type": "code",
   "execution_count": 111,
   "id": "e1b9977d",
   "metadata": {},
   "outputs": [
    {
     "data": {
      "text/plain": [
       "[11, 33, 55, 77, 99]"
      ]
     },
     "execution_count": 111,
     "metadata": {},
     "output_type": "execute_result"
    }
   ],
   "source": [
    "a[::2]# step number 2 meaning skip by 2 "
   ]
  },
  {
   "cell_type": "code",
   "execution_count": 112,
   "id": "14a74daf",
   "metadata": {},
   "outputs": [
    {
     "data": {
      "text/plain": [
       "[22, 44, 66, 88]"
      ]
     },
     "execution_count": 112,
     "metadata": {},
     "output_type": "execute_result"
    }
   ],
   "source": [
    "a[1:8:2]"
   ]
  },
  {
   "cell_type": "code",
   "execution_count": 113,
   "id": "93e99818",
   "metadata": {},
   "outputs": [
    {
     "data": {
      "text/plain": [
       "[33, 66]"
      ]
     },
     "execution_count": 113,
     "metadata": {},
     "output_type": "execute_result"
    }
   ],
   "source": [
    "a[2:6:3]"
   ]
  },
  {
   "cell_type": "code",
   "execution_count": 114,
   "id": "2a72777e",
   "metadata": {},
   "outputs": [
    {
     "data": {
      "text/plain": [
       "[11, 22, 33, 44, 55, 66, 77, 88, 99]"
      ]
     },
     "execution_count": 114,
     "metadata": {},
     "output_type": "execute_result"
    }
   ],
   "source": [
    "a"
   ]
  },
  {
   "cell_type": "code",
   "execution_count": 7,
   "id": "ff872d95",
   "metadata": {},
   "outputs": [
    {
     "data": {
      "text/plain": [
       "[45, 56, 101, 67, 78, 90, 111]"
      ]
     },
     "execution_count": 7,
     "metadata": {},
     "output_type": "execute_result"
    }
   ],
   "source": [
    "#Exercise 1\n",
    "e = [45, 56, 67, 78, 89, 90]\n",
    "e.insert(2,101)\n",
    "\n",
    "e.remove(89)\n",
    "\n",
    "e.append(111)\n",
    "\n",
    "e"
   ]
  },
  {
   "cell_type": "code",
   "execution_count": 10,
   "id": "f281055f",
   "metadata": {},
   "outputs": [
    {
     "data": {
      "text/plain": [
       "[3, 6, 9]"
      ]
     },
     "execution_count": 10,
     "metadata": {},
     "output_type": "execute_result"
    }
   ],
   "source": [
    "# Exercise 2 \n",
    "f = [1,2,3,4,5,6,7,8,9,10,11,12]\n",
    "f[2:10:3]"
   ]
  },
  {
   "cell_type": "code",
   "execution_count": 11,
   "id": "aa48bc78",
   "metadata": {},
   "outputs": [
    {
     "data": {
      "text/plain": [
       "[12, 11, 10, 9, 8, 7, 6, 5, 4, 3, 2, 1]"
      ]
     },
     "execution_count": 11,
     "metadata": {},
     "output_type": "execute_result"
    }
   ],
   "source": [
    "f[::-1]  # reverse the list "
   ]
  },
  {
   "cell_type": "code",
   "execution_count": 13,
   "id": "5f2223a2",
   "metadata": {},
   "outputs": [
    {
     "data": {
      "text/plain": [
       "'olleh'"
      ]
     },
     "execution_count": 13,
     "metadata": {},
     "output_type": "execute_result"
    }
   ],
   "source": [
    "greeting= 'Hello'  # reverse can be applied to string \n",
    "greeting [::-1]"
   ]
  },
  {
   "cell_type": "code",
   "execution_count": 25,
   "id": "f9f18d37",
   "metadata": {},
   "outputs": [
    {
     "name": "stdout",
     "output_type": "stream",
     "text": [
      "What is your palingdrome word ?wow\n",
      "wow  is palindrome\n",
      "you have completed the task!\n"
     ]
    }
   ],
   "source": [
    "# Exercise 3 Palindrome , word that reads the same from front and back \n",
    "# ex: level, civic, tenet, anna, oppo, wow, madam , refer, brb, lol, radar\n",
    " \n",
    "word = input(\"What is your palingdrome word ?\")\n",
    "word = word.lower()\n",
    "reverseword = word[::-1]\n",
    "\n",
    "if word == reverseword:\n",
    "    print (word, \" is palindrome\")\n",
    "    print(\"you have completed the task!\")\n",
    "else:\n",
    "    print(\"not true, try again\")\n"
   ]
  },
  {
   "cell_type": "code",
   "execution_count": 31,
   "id": "a34b50ba",
   "metadata": {},
   "outputs": [
    {
     "name": "stdout",
     "output_type": "stream",
     "text": [
      "What is your palingdrome word ? 121\n",
      "121  is palindrome\n",
      "you have completed the task!\n"
     ]
    }
   ],
   "source": [
    "# Exercise 3 Palindrome , word that reads the same from front and back \n",
    "# ex: level, civic, tenet, anna, oppo, wow, madam , refer, brb, lol, radar\n",
    " \n",
    "word = input(\"What is your palingdrome word ? \")\n",
    "wordly = word.lower()\n",
    "reverseword = wordly[::-1]\n",
    "\n",
    "if wordly == reverseword:\n",
    "    print (word, \" is palindrome\")\n",
    "    print(\"you have completed the task!\")\n",
    "else:\n",
    "    print(word,\"is not a palindrome, try again\")\n"
   ]
  },
  {
   "cell_type": "markdown",
   "id": "b0f0006c",
   "metadata": {},
   "source": [
    "## Dictionary \n"
   ]
  },
  {
   "cell_type": "code",
   "execution_count": 33,
   "id": "21090acf",
   "metadata": {},
   "outputs": [],
   "source": [
    "#### Dictionary stores (key,value) pairs . \n",
    "#### Dictionary come in pairs \n",
    "#### dictionary does not have a sequence "
   ]
  },
  {
   "cell_type": "code",
   "execution_count": 34,
   "id": "dba6a734",
   "metadata": {},
   "outputs": [],
   "source": [
    "mycat = {'size': 'fat', 'color': 'white', 'personality':'playful'}"
   ]
  },
  {
   "cell_type": "code",
   "execution_count": null,
   "id": "64719915",
   "metadata": {},
   "outputs": [],
   "source": [
    "type(mycat)"
   ]
  },
  {
   "cell_type": "code",
   "execution_count": 41,
   "id": "26917de2",
   "metadata": {},
   "outputs": [
    {
     "data": {
      "text/plain": [
       "'fat'"
      ]
     },
     "execution_count": 41,
     "metadata": {},
     "output_type": "execute_result"
    }
   ],
   "source": [
    "mycat['size']  # use the key to get the value for each pair"
   ]
  },
  {
   "cell_type": "code",
   "execution_count": 42,
   "id": "1b8c0efd",
   "metadata": {},
   "outputs": [
    {
     "data": {
      "text/plain": [
       "dict_keys(['size', 'color', 'personality'])"
      ]
     },
     "execution_count": 42,
     "metadata": {},
     "output_type": "execute_result"
    }
   ],
   "source": [
    "mycat.keys() # show all the key in the dictionary"
   ]
  },
  {
   "cell_type": "code",
   "execution_count": 39,
   "id": "f3ca3319",
   "metadata": {},
   "outputs": [
    {
     "data": {
      "text/plain": [
       "dict_values(['fat', 'white', 'playful'])"
      ]
     },
     "execution_count": 39,
     "metadata": {},
     "output_type": "execute_result"
    }
   ],
   "source": [
    "mycat.values()"
   ]
  },
  {
   "cell_type": "code",
   "execution_count": 46,
   "id": "32890430",
   "metadata": {},
   "outputs": [
    {
     "data": {
      "text/plain": [
       "'black'"
      ]
     },
     "execution_count": 46,
     "metadata": {},
     "output_type": "execute_result"
    }
   ],
   "source": [
    "mycat['color'] = 'black' # it will replace the current value \n",
    "mycat['color']"
   ]
  },
  {
   "cell_type": "code",
   "execution_count": 49,
   "id": "93cd5f1d",
   "metadata": {},
   "outputs": [
    {
     "data": {
      "text/plain": [
       "{'size': 'fat', 'color': 'black', 'personality': 'playful', 'age': 2}"
      ]
     },
     "execution_count": 49,
     "metadata": {},
     "output_type": "execute_result"
    }
   ],
   "source": [
    "mycat['age'] = 2  # can add another key and value at the end\n",
    "mycat"
   ]
  },
  {
   "cell_type": "code",
   "execution_count": 50,
   "id": "d85f8e0c",
   "metadata": {},
   "outputs": [],
   "source": [
    "mycat['gender'] = 'female'"
   ]
  },
  {
   "cell_type": "code",
   "execution_count": 51,
   "id": "2eb5d111",
   "metadata": {},
   "outputs": [],
   "source": [
    "mycat['breed'] = 'shorthair'"
   ]
  },
  {
   "cell_type": "code",
   "execution_count": 52,
   "id": "a8175dca",
   "metadata": {},
   "outputs": [
    {
     "data": {
      "text/plain": [
       "{'size': 'fat',\n",
       " 'color': 'black',\n",
       " 'personality': 'playful',\n",
       " 'age': 2,\n",
       " 'gender': 'female',\n",
       " 'breed': 'shorthair'}"
      ]
     },
     "execution_count": 52,
     "metadata": {},
     "output_type": "execute_result"
    }
   ],
   "source": [
    "mycat"
   ]
  },
  {
   "cell_type": "code",
   "execution_count": 53,
   "id": "a55ace47",
   "metadata": {},
   "outputs": [
    {
     "data": {
      "text/plain": [
       "dict"
      ]
     },
     "execution_count": 53,
     "metadata": {},
     "output_type": "execute_result"
    }
   ],
   "source": [
    "d={}        # create new dict\n",
    "type(d)"
   ]
  },
  {
   "cell_type": "code",
   "execution_count": 54,
   "id": "cd594708",
   "metadata": {},
   "outputs": [],
   "source": [
    "d['morning break'] = '10.30am' # can be added to the dict"
   ]
  },
  {
   "cell_type": "code",
   "execution_count": 55,
   "id": "62873bbf",
   "metadata": {},
   "outputs": [],
   "source": [
    "d['lunch break'] = '12.30pm'"
   ]
  },
  {
   "cell_type": "code",
   "execution_count": 56,
   "id": "9484d7cf",
   "metadata": {},
   "outputs": [],
   "source": [
    "d[1] = 123"
   ]
  },
  {
   "cell_type": "code",
   "execution_count": 57,
   "id": "936d5ca2",
   "metadata": {},
   "outputs": [
    {
     "data": {
      "text/plain": [
       "{'morning break': '10.30am', 'lunch break': '12.30pm', 1: 123}"
      ]
     },
     "execution_count": 57,
     "metadata": {},
     "output_type": "execute_result"
    }
   ],
   "source": [
    "d"
   ]
  },
  {
   "cell_type": "code",
   "execution_count": 58,
   "id": "4bb91c07",
   "metadata": {},
   "outputs": [
    {
     "data": {
      "text/plain": [
       "123"
      ]
     },
     "execution_count": 58,
     "metadata": {},
     "output_type": "execute_result"
    }
   ],
   "source": [
    "d.pop(1)"
   ]
  },
  {
   "cell_type": "code",
   "execution_count": 59,
   "id": "f4a3e3e2",
   "metadata": {},
   "outputs": [
    {
     "data": {
      "text/plain": [
       "{'morning break': '10.30am', 'lunch break': '12.30pm'}"
      ]
     },
     "execution_count": 59,
     "metadata": {},
     "output_type": "execute_result"
    }
   ],
   "source": [
    "d"
   ]
  },
  {
   "cell_type": "code",
   "execution_count": 63,
   "id": "8dbd5b58",
   "metadata": {},
   "outputs": [
    {
     "name": "stdout",
     "output_type": "stream",
     "text": [
      "{0: 2, 1: 3, 2: 4, 3: 5, 4: 6}\n"
     ]
    }
   ],
   "source": [
    "f = {}\n",
    "\n",
    "for x in range(0,5):\n",
    "    f[x] = x + 2\n",
    "    \n",
    "print(f)"
   ]
  },
  {
   "cell_type": "code",
   "execution_count": 68,
   "id": "81c62a24",
   "metadata": {},
   "outputs": [
    {
     "name": "stdout",
     "output_type": "stream",
     "text": [
      "please enter a number 7\n",
      "{2: 4, 3: 9, 4: 16, 5: 25, 6: 36, 7: 49}\n"
     ]
    }
   ],
   "source": [
    "#Exercise 4\n",
    "\n",
    "n = int(input(\"please enter a number \"))\n",
    "a= {}\n",
    "\n",
    "for i in range(2,n+1):\n",
    "    a[i] = i**2\n",
    "print(a)"
   ]
  },
  {
   "cell_type": "markdown",
   "id": "b1056da7",
   "metadata": {},
   "source": [
    "## Functions \n"
   ]
  },
  {
   "cell_type": "code",
   "execution_count": 69,
   "id": "5900bb80",
   "metadata": {},
   "outputs": [],
   "source": [
    "def AreaofSquare(sidelength):  # with Input argument\n",
    "    area = sidelength**2\n",
    "    return area"
   ]
  },
  {
   "cell_type": "code",
   "execution_count": 70,
   "id": "eda8ed55",
   "metadata": {},
   "outputs": [],
   "source": [
    "def GeneralGreeting():  # without argument \n",
    "    print(\"Hello World !\") "
   ]
  },
  {
   "cell_type": "code",
   "execution_count": 71,
   "id": "3bae4d18",
   "metadata": {},
   "outputs": [
    {
     "name": "stdout",
     "output_type": "stream",
     "text": [
      "Hello World !\n"
     ]
    }
   ],
   "source": [
    "GeneralGreeting()\n"
   ]
  },
  {
   "cell_type": "code",
   "execution_count": 72,
   "id": "06904107",
   "metadata": {},
   "outputs": [
    {
     "data": {
      "text/plain": [
       "9"
      ]
     },
     "execution_count": 72,
     "metadata": {},
     "output_type": "execute_result"
    }
   ],
   "source": [
    "AreaofSquare(3)"
   ]
  },
  {
   "cell_type": "code",
   "execution_count": 76,
   "id": "ba9ca76a",
   "metadata": {},
   "outputs": [],
   "source": [
    "def breakfast(breakfast):\n",
    "    print(\" I ate \", breakfast, 'for breakfast')"
   ]
  },
  {
   "cell_type": "code",
   "execution_count": 77,
   "id": "841b154d",
   "metadata": {},
   "outputs": [
    {
     "name": "stdout",
     "output_type": "stream",
     "text": [
      " I ate  rice for breakfast\n"
     ]
    }
   ],
   "source": [
    "breakfast('rice')"
   ]
  },
  {
   "cell_type": "code",
   "execution_count": 82,
   "id": "0e542a1d",
   "metadata": {},
   "outputs": [],
   "source": [
    "# fucntions with more than 1 arguments \n",
    "\n",
    "def weathertoday(morning,noon, evening):\n",
    "    print('The weather today is:\\nmorning:', morning, '\\nafternoon: ', noon,'\\nevening : ', evening )"
   ]
  },
  {
   "cell_type": "code",
   "execution_count": 83,
   "id": "497773c2",
   "metadata": {},
   "outputs": [
    {
     "name": "stdout",
     "output_type": "stream",
     "text": [
      "The weather today is:\n",
      "morning: sunny \n",
      "afternoon:  rainy \n",
      "evening :  cloudy\n"
     ]
    }
   ],
   "source": [
    "weathertoday('sunny','rainy','cloudy')"
   ]
  },
  {
   "cell_type": "code",
   "execution_count": 84,
   "id": "c0e0ca44",
   "metadata": {},
   "outputs": [],
   "source": [
    "# functions with default arguments \n",
    "\n",
    "def Hello(name = 'everybody'):  \n",
    "    print('Hello', name)"
   ]
  },
  {
   "cell_type": "code",
   "execution_count": 86,
   "id": "aaab557e",
   "metadata": {},
   "outputs": [
    {
     "name": "stdout",
     "output_type": "stream",
     "text": [
      "Hello everobody\n"
     ]
    }
   ],
   "source": [
    "Hello()"
   ]
  },
  {
   "cell_type": "code",
   "execution_count": 87,
   "id": "e9c03b48",
   "metadata": {},
   "outputs": [],
   "source": [
    "def weathertoday(morning = 'unknown',noon = 'unknown', evening = 'unknown'):\n",
    "    print('The weather today is:\\nmorning:', morning, '\\nafternoon: ', noon,'\\nevening : ', evening )"
   ]
  },
  {
   "cell_type": "code",
   "execution_count": 88,
   "id": "c7e58cc1",
   "metadata": {},
   "outputs": [
    {
     "name": "stdout",
     "output_type": "stream",
     "text": [
      "The weather today is:\n",
      "morning: sunny \n",
      "afternoon:  rain \n",
      "evening :  unknown\n"
     ]
    }
   ],
   "source": [
    "weathertoday('sunny','rain')"
   ]
  },
  {
   "cell_type": "code",
   "execution_count": 89,
   "id": "b1f8e96b",
   "metadata": {},
   "outputs": [
    {
     "name": "stdout",
     "output_type": "stream",
     "text": [
      "The youngest child is Dz\n"
     ]
    }
   ],
   "source": [
    "# functions Arbitrary arguments \n",
    "\n",
    "def WhoisLast(*kids):\n",
    "    print('The youngest child is', kids[-1])\n",
    "\n",
    "WhoisLast('Thomas', \"Timothy\",'Dz')"
   ]
  },
  {
   "cell_type": "code",
   "execution_count": 90,
   "id": "0559d1fc",
   "metadata": {},
   "outputs": [
    {
     "name": "stdout",
     "output_type": "stream",
     "text": [
      "The youngest child is Sofeia\n"
     ]
    }
   ],
   "source": [
    "WhoisLast('Thomas', \"Timothy\",'Dz',\"Anna\",\"Sofeia\")"
   ]
  },
  {
   "cell_type": "markdown",
   "id": "f93188f0",
   "metadata": {},
   "source": [
    "### Regular Expressions"
   ]
  },
  {
   "cell_type": "code",
   "execution_count": 91,
   "id": "0928617e",
   "metadata": {},
   "outputs": [],
   "source": [
    "# most common uses : search , match \n",
    "import re"
   ]
  },
  {
   "cell_type": "code",
   "execution_count": 104,
   "id": "1886bcd9",
   "metadata": {},
   "outputs": [
    {
     "name": "stdout",
     "output_type": "stream",
     "text": [
      "<re.Match object; span=(0, 2), match='Hi'>\n"
     ]
    }
   ],
   "source": [
    "# re.match() to look for a certain pattern at the beginning of a string , \n",
    "# remember to put r at the beginning as indicate or \"raw\" in string \n",
    "\n",
    "result = re.match(r'Hi', 'Hi, I am new here')\n",
    "print(result)"
   ]
  },
  {
   "cell_type": "code",
   "execution_count": 102,
   "id": "c8b95253",
   "metadata": {},
   "outputs": [
    {
     "name": "stdout",
     "output_type": "stream",
     "text": [
      "None\n"
     ]
    }
   ],
   "source": [
    "result = re.match(r'Hi', ' I am new here, Hi !')\n",
    "print(result)"
   ]
  },
  {
   "cell_type": "code",
   "execution_count": 99,
   "id": "65c5a3ee",
   "metadata": {},
   "outputs": [
    {
     "name": "stdout",
     "output_type": "stream",
     "text": [
      "<re.Match object; span=(16, 18), match='Hi'>\n"
     ]
    }
   ],
   "source": [
    "# re.search () to look inside a string, but it only looks once!\n",
    "\n",
    "result = re.search(r'Hi', ' I am new here, Hi !')\n",
    "print(result)"
   ]
  },
  {
   "cell_type": "code",
   "execution_count": 109,
   "id": "9bcf5c52",
   "metadata": {},
   "outputs": [
    {
     "name": "stdout",
     "output_type": "stream",
     "text": [
      "['Hi', 'Hi', 'Hi']\n"
     ]
    }
   ],
   "source": [
    "#re.findall() looks for all occurences of a pattern\n",
    "\n",
    "result = re.findall(r'Hi', 'Hi,  I am new here, Hiy OHi !')\n",
    "print(result)"
   ]
  },
  {
   "cell_type": "code",
   "execution_count": 112,
   "id": "af0619de",
   "metadata": {},
   "outputs": [
    {
     "name": "stdout",
     "output_type": "stream",
     "text": [
      "['I', 'ate', '300', 'apples', 'today!']\n"
     ]
    }
   ],
   "source": [
    "#re.split() to split at the location of the pattern (also removing the pattern)\n",
    "\n",
    "result = re.split(r' ', 'I ate 300 apples today!')\n",
    "print(result)"
   ]
  },
  {
   "cell_type": "code",
   "execution_count": 113,
   "id": "67bbe982",
   "metadata": {},
   "outputs": [
    {
     "name": "stdout",
     "output_type": "stream",
     "text": [
      "I love you!\n"
     ]
    }
   ],
   "source": [
    "#re.sub(pattern,sub,string) to find pattern, then subsitute with another string \n",
    "\n",
    "result = re.sub(r'hate', 'love', 'I hate you!')\n",
    "print(result)"
   ]
  },
  {
   "cell_type": "code",
   "execution_count": 115,
   "id": "8f5c2c08",
   "metadata": {},
   "outputs": [
    {
     "name": "stdout",
     "output_type": "stream",
     "text": [
      "['I', 'am', 'feeling', 'great', 'today']\n"
     ]
    }
   ],
   "source": [
    "# Exercise 5\n",
    "\n",
    "x = \"I am feeling great today\"\n",
    "x = re.split(r' ', x)\n",
    "print(x)"
   ]
  },
  {
   "cell_type": "code",
   "execution_count": 119,
   "id": "2f43c9c5",
   "metadata": {},
   "outputs": [
    {
     "name": "stdout",
     "output_type": "stream",
     "text": [
      "['strawberries', 'strawberries']\n"
     ]
    },
    {
     "data": {
      "text/plain": [
       "2"
      ]
     },
     "execution_count": 119,
     "metadata": {},
     "output_type": "execute_result"
    }
   ],
   "source": [
    "# Exercise 6 \n",
    "\n",
    "x = \"I love strawberries, I eat 300 strawberries a day\"\n",
    "x = re.findall(r'strawberries', x)\n",
    "print(x)\n",
    "len(x)"
   ]
  },
  {
   "cell_type": "code",
   "execution_count": 125,
   "id": "5e69fd33",
   "metadata": {},
   "outputs": [
    {
     "name": "stdout",
     "output_type": "stream",
     "text": [
      "The melons in the basket are fresh, I love melons !\n"
     ]
    },
    {
     "data": {
      "text/plain": [
       "51"
      ]
     },
     "execution_count": 125,
     "metadata": {},
     "output_type": "execute_result"
    }
   ],
   "source": [
    "# Exercise 7\n",
    "\n",
    "x = \"The grapes in the basket are fresh, I love grapes !\"\n",
    "x = re.sub(r'grapes','melons', x)\n",
    "print(x)\n",
    "len(x)"
   ]
  },
  {
   "cell_type": "code",
   "execution_count": 126,
   "id": "3f7554b9",
   "metadata": {},
   "outputs": [
    {
     "name": "stdout",
     "output_type": "stream",
     "text": [
      "The melons in the basket are fresh, I love melons !\n"
     ]
    }
   ],
   "source": [
    "# re.compile() combine a regular expression pattern into a pattern object\n",
    "\n",
    "pattern = re.compile(r'grapes')\n",
    "\n",
    "result = re.sub(pattern, 'melons', x)\n",
    "print(result)"
   ]
  },
  {
   "cell_type": "code",
   "execution_count": 127,
   "id": "c691daab",
   "metadata": {},
   "outputs": [
    {
     "data": {
      "text/plain": [
       "re.compile(r'grapes', re.UNICODE)"
      ]
     },
     "execution_count": 127,
     "metadata": {},
     "output_type": "execute_result"
    }
   ],
   "source": [
    "pattern"
   ]
  },
  {
   "cell_type": "code",
   "execution_count": 130,
   "id": "f4aaaacf",
   "metadata": {},
   "outputs": [
    {
     "name": "stdout",
     "output_type": "stream",
     "text": [
      "['I', ' ', 'l', 'i', 'k', 'e', ' ', 'a', 'p', 'p', 'l', 'e', 's']\n"
     ]
    }
   ],
   "source": [
    "# metacharacters\n",
    "# '.' find any single character\n",
    "\n",
    "result = re.findall(r'.','I like apples')\n",
    "print(result)"
   ]
  },
  {
   "cell_type": "code",
   "execution_count": 136,
   "id": "5c8246b9",
   "metadata": {},
   "outputs": [
    {
     "name": "stdout",
     "output_type": "stream",
     "text": [
      "['k', 'e', 'a', 'e']\n"
     ]
    }
   ],
   "source": [
    "# '[]' find any single character inside the square bracket\n",
    "\n",
    "result = re.findall(r'[eak]','I like apples')\n",
    "print(result)"
   ]
  },
  {
   "cell_type": "code",
   "execution_count": 138,
   "id": "d9d58d1b",
   "metadata": {},
   "outputs": [
    {
     "name": "stdout",
     "output_type": "stream",
     "text": [
      "['I', 'l', 'i', 'k', 'e', 'a', 'p', 'p', 'l', 'e', 's']\n"
     ]
    }
   ],
   "source": [
    "# '[]' find any single character inside the square bracket\n",
    "\n",
    "result = re.findall(r'[a-z,A-Z]','I like apples')\n",
    "print(result)"
   ]
  },
  {
   "cell_type": "code",
   "execution_count": 144,
   "id": "4be72bdc",
   "metadata": {},
   "outputs": [
    {
     "name": "stdout",
     "output_type": "stream",
     "text": [
      "['i', 'am', 'new', 'here', '200', 'days', 'earlier']\n"
     ]
    }
   ],
   "source": [
    "# '[]' find any single character inside the square bracket\n",
    "# + can be used to group words together \n",
    "\n",
    "result = re.findall(r'[a-z0-9]+','Hi I am new here 200 days earlier')\n",
    "print(result)"
   ]
  },
  {
   "cell_type": "code",
   "execution_count": 145,
   "id": "6f2bd21d",
   "metadata": {},
   "outputs": [
    {
     "name": "stdout",
     "output_type": "stream",
     "text": [
      "['Hi', 'I', 'am', 'new', 'here', '200', 'days', 'earlier']\n"
     ]
    }
   ],
   "source": [
    "# '\\w' find any alphanumeric character \n",
    "# + can be used to group words together \n",
    "\n",
    "result = re.findall(r'\\w+','Hi I am new here 200 days earlier')\n",
    "print(result)"
   ]
  },
  {
   "cell_type": "code",
   "execution_count": 148,
   "id": "d336fc56",
   "metadata": {},
   "outputs": [
    {
     "name": "stdout",
     "output_type": "stream",
     "text": [
      "[' ', ' ', ' ', ' ', ' ', ' ', '!']\n"
     ]
    }
   ],
   "source": [
    "# '\\W' find any non-alphanumeric character \n",
    "\n",
    "result = re.findall(r'\\W+','Hi I am here 200 days earlier!')\n",
    "print(result)"
   ]
  },
  {
   "cell_type": "code",
   "execution_count": 149,
   "id": "80573744",
   "metadata": {},
   "outputs": [
    {
     "name": "stdout",
     "output_type": "stream",
     "text": [
      "['300', '400', '31']\n"
     ]
    }
   ],
   "source": [
    "# Exercise 8 \n",
    "\n",
    "result = re.findall(r'[0-9]+','I want to buy 300 apples and 400 oranges on the 31st of August')\n",
    "print(result)"
   ]
  },
  {
   "cell_type": "code",
   "execution_count": 152,
   "id": "fc055f20",
   "metadata": {},
   "outputs": [
    {
     "name": "stdout",
     "output_type": "stream",
     "text": [
      "['300', '400', '31']\n"
     ]
    }
   ],
   "source": [
    "result = re.findall(r'\\d+','I want to buy 300 apples and 400 oranges on the 31st of August')\n",
    "print(result)"
   ]
  },
  {
   "cell_type": "code",
   "execution_count": 153,
   "id": "86bb2f7a",
   "metadata": {},
   "outputs": [
    {
     "name": "stdout",
     "output_type": "stream",
     "text": [
      "[' ', ' ', ' ', ' ', ' ', ' ', ' ', ' ', ' ', ' ', ' ', ' ', ' ']\n"
     ]
    }
   ],
   "source": [
    "result = re.findall(r'\\s+','I want to buy 300 apples and 400 oranges on the 31st of August')\n",
    "print(result)"
   ]
  },
  {
   "cell_type": "code",
   "execution_count": 154,
   "id": "b6424846",
   "metadata": {},
   "outputs": [
    {
     "name": "stdout",
     "output_type": "stream",
     "text": [
      "['Charlie', 'goes', 'to', 'the', 'gym', '3', 'times', 'a', 'week']\n"
     ]
    }
   ],
   "source": [
    "# Exercise 9 \n",
    "\n",
    "result = re.findall(r'\\w+','Charlie goes to the gym 3 times a week')\n",
    "print(result)"
   ]
  },
  {
   "cell_type": "code",
   "execution_count": 174,
   "id": "9248cf4d",
   "metadata": {},
   "outputs": [
    {
     "name": "stdout",
     "output_type": "stream",
     "text": [
      "['grey', 'gray']\n"
     ]
    }
   ],
   "source": [
    "# Exercise 10\n",
    "\n",
    "result = re.findall(r'(gr[ea]y)','grey gray groy black greay')\n",
    "print(result)"
   ]
  },
  {
   "cell_type": "code",
   "execution_count": 186,
   "id": "8167b5a7",
   "metadata": {},
   "outputs": [
    {
     "name": "stdout",
     "output_type": "stream",
     "text": [
      "['grey', 'gray']\n"
     ]
    }
   ],
   "source": [
    "result = re.findall(r'grey|gray','grey gray groy black greay')\n",
    "print(result)"
   ]
  },
  {
   "cell_type": "code",
   "execution_count": 187,
   "id": "802924e0",
   "metadata": {},
   "outputs": [
    {
     "name": "stdout",
     "output_type": "stream",
     "text": [
      "['colour', 'color', 'colour']\n"
     ]
    }
   ],
   "source": [
    "# ? is used to find either with or without the pattern on its left\n",
    "\n",
    "result = re.findall(r'colou?r', 'colour color colour')\n",
    "print(result)"
   ]
  },
  {
   "cell_type": "code",
   "execution_count": 188,
   "id": "f9f0c9bc",
   "metadata": {},
   "outputs": [
    {
     "name": "stdout",
     "output_type": "stream",
     "text": [
      "['XX', 'X-X', 'X--------------------------X']\n"
     ]
    }
   ],
   "source": [
    "# * is used to find 0 or more occurence of the pattern on its left \n",
    "\n",
    "result= re.findall(r'X-*X', 'XX X-X X--------------------------X')\n",
    "print(result)"
   ]
  },
  {
   "cell_type": "code",
   "execution_count": 189,
   "id": "0692f1c2",
   "metadata": {},
   "outputs": [
    {
     "name": "stdout",
     "output_type": "stream",
     "text": [
      "['XX', 'X-X']\n"
     ]
    }
   ],
   "source": [
    "# ? is used to find 0 or 1 occurence of the pattern on its left \n",
    "\n",
    "result= re.findall(r'X-?X', 'XX X-X X--------------------------X')\n",
    "print(result)"
   ]
  },
  {
   "cell_type": "code",
   "execution_count": 190,
   "id": "54b113e0",
   "metadata": {},
   "outputs": [
    {
     "name": "stdout",
     "output_type": "stream",
     "text": [
      "['X-X', 'X--------------------------X']\n"
     ]
    }
   ],
   "source": [
    "# + is used to find 1 or more occurence of the pattern on its left \n",
    "\n",
    "result= re.findall(r'X-+X', 'XX X-X X--------------------------X')\n",
    "print(result)"
   ]
  },
  {
   "cell_type": "code",
   "execution_count": 196,
   "id": "195fff77",
   "metadata": {},
   "outputs": [
    {
     "name": "stdout",
     "output_type": "stream",
     "text": [
      "['0AA5', '0A5']\n"
     ]
    }
   ],
   "source": [
    "# Excercise 11 \n",
    "\n",
    "result= re.findall(r'0AA?5', '0AA5 0Awerwsfwrt5 0A5')\n",
    "print(result)"
   ]
  },
  {
   "cell_type": "code",
   "execution_count": 197,
   "id": "748fc6ab",
   "metadata": {},
   "outputs": [
    {
     "name": "stdout",
     "output_type": "stream",
     "text": [
      "['Dz']\n"
     ]
    }
   ],
   "source": [
    "# '^' (at the beginning of the string ) and the '$' (at the end of the string )\n",
    "result= re.findall(r'^\\w+', 'Dz wants 214 apples and 250 oranges')\n",
    "print(result)"
   ]
  },
  {
   "cell_type": "code",
   "execution_count": 198,
   "id": "3673d83b",
   "metadata": {},
   "outputs": [
    {
     "name": "stdout",
     "output_type": "stream",
     "text": [
      "['oranges']\n"
     ]
    }
   ],
   "source": [
    "result= re.findall(r'\\w+$', 'Dz wants 214 apples and 250 oranges')\n",
    "print(result)"
   ]
  },
  {
   "cell_type": "code",
   "execution_count": 205,
   "id": "97c4a617",
   "metadata": {},
   "outputs": [
    {
     "name": "stdout",
     "output_type": "stream",
     "text": [
      "['1239456']\n"
     ]
    }
   ],
   "source": [
    "result= re.findall(r'^\\d+$', '1239456')\n",
    "print(result)"
   ]
  },
  {
   "cell_type": "code",
   "execution_count": 208,
   "id": "e22da634",
   "metadata": {},
   "outputs": [
    {
     "name": "stdout",
     "output_type": "stream",
     "text": [
      "[]\n"
     ]
    }
   ],
   "source": [
    "result= re.findall(r'^\\d+$', '24435A')\n",
    "print(result)"
   ]
  },
  {
   "cell_type": "code",
   "execution_count": 210,
   "id": "6c1b9966",
   "metadata": {},
   "outputs": [
    {
     "name": "stdout",
     "output_type": "stream",
     "text": [
      "1239456 contains only number\n",
      "24435A contains non-number characters\n"
     ]
    }
   ],
   "source": [
    "numbers = ['1239456','24435A']\n",
    "\n",
    "for i in numbers:\n",
    "    result= re.findall(r'^\\d+$', i )\n",
    "    if result:\n",
    "        print(i, 'contains only number')\n",
    "    else:\n",
    "        print(i, 'contains non-number characters')\n"
   ]
  },
  {
   "cell_type": "markdown",
   "id": "f9f1ab31",
   "metadata": {},
   "source": [
    "### Applications of Regular Expression"
   ]
  },
  {
   "cell_type": "code",
   "execution_count": 211,
   "id": "666b5837",
   "metadata": {},
   "outputs": [
    {
     "name": "stdout",
     "output_type": "stream",
     "text": [
      "['12-04-2121', '11-09-2020']\n"
     ]
    }
   ],
   "source": [
    "# ' john 32-234- 12-04-2121 mary 23-234- 11-09-2020'\n",
    "\n",
    "result = re.findall(r'\\d\\d-\\d\\d-\\d\\d\\d\\d', 'john 32-234- 12-04-2121 mary 23-234- 11-09-2020')\n",
    "print(result)"
   ]
  },
  {
   "cell_type": "code",
   "execution_count": 212,
   "id": "aa84cf32",
   "metadata": {},
   "outputs": [
    {
     "name": "stdout",
     "output_type": "stream",
     "text": [
      "['12-04-2121', '11-09-2020']\n"
     ]
    }
   ],
   "source": [
    "# {n} can be used to to indicates numbers of pattern required\n",
    "\n",
    "result = re.findall(r'\\d{2}-\\d{2}-\\d{4}', 'john 32-234- 12-04-2121 mary 23-234- 11-09-2020')\n",
    "print(result)"
   ]
  },
  {
   "cell_type": "code",
   "execution_count": 213,
   "id": "c0415366",
   "metadata": {},
   "outputs": [
    {
     "name": "stdout",
     "output_type": "stream",
     "text": [
      "['adef', 'afde', 'wero', 'fwer', 'werd']\n"
     ]
    }
   ],
   "source": [
    "# 'adef,afde;wero.fwer werd' to split at different delimitters\n",
    "\n",
    "result = re.split(r'[,;.\\s]', 'adef,afde;wero.fwer werd')\n",
    "print(result)"
   ]
  },
  {
   "cell_type": "code",
   "execution_count": 215,
   "id": "311bee60",
   "metadata": {},
   "outputs": [
    {
     "name": "stdout",
     "output_type": "stream",
     "text": [
      "adef/afde/wero/fwer/werd\n"
     ]
    }
   ],
   "source": [
    "result = re.sub(r'[,;.\\s]','/','adef,afde;wero.fwer werd')\n",
    "print(result)"
   ]
  },
  {
   "cell_type": "code",
   "execution_count": 219,
   "id": "5a1a3e10",
   "metadata": {},
   "outputs": [
    {
     "data": {
      "text/plain": [
       "['@gmail', '@hotmail', '@gmx']"
      ]
     },
     "execution_count": 219,
     "metadata": {},
     "output_type": "execute_result"
    }
   ],
   "source": [
    "# 'amy@gmail.com simon@hotmail.com john@gmx.com'\n",
    "\n",
    "result = re.findall(r'@\\w+','amy@gmail.com simon@hotmail.com john@gmx.com' )\n",
    "result"
   ]
  },
  {
   "cell_type": "code",
   "execution_count": 220,
   "id": "db965b5b",
   "metadata": {},
   "outputs": [
    {
     "data": {
      "text/plain": [
       "['gmail', 'hotmail', 'gmx']"
      ]
     },
     "execution_count": 220,
     "metadata": {},
     "output_type": "execute_result"
    }
   ],
   "source": [
    "# the () excluded the @ in the ouput / it shows only the inside pattern in the bracket \n",
    "\n",
    "result = re.findall(r'@(\\w+)','amy@gmail.com simon@hotmail.com john@gmx.com' )\n",
    "result"
   ]
  },
  {
   "cell_type": "code",
   "execution_count": 225,
   "id": "61bbc6c1",
   "metadata": {},
   "outputs": [
    {
     "data": {
      "text/plain": [
       "['trending',\n",
       " 'viral',\n",
       " 'love',\n",
       " 'instagram',\n",
       " 'tiktok',\n",
       " 'explorepage',\n",
       " 'instagood',\n",
       " 'follow',\n",
       " 'like',\n",
       " 'fashion',\n",
       " 'explore',\n",
       " 'likeforlikes',\n",
       " 'followforfollowback',\n",
       " 'photography',\n",
       " 'memes',\n",
       " 'music',\n",
       " 'india',\n",
       " 'trend',\n",
       " 'instadaily',\n",
       " 'likes',\n",
       " 'style',\n",
       " 'photooftheday',\n",
       " 'trendingnow',\n",
       " 'dance',\n",
       " 'model',\n",
       " 'bollywood',\n",
       " 'foryou',\n",
       " 'bhfyp',\n",
       " 'kerala',\n",
       " 'bhfyp']"
      ]
     },
     "execution_count": 225,
     "metadata": {},
     "output_type": "execute_result"
    }
   ],
   "source": [
    "hashtags = '#trending #viral #love #instagram #tiktok #explorepage #instagood #follow #like #fashion #explore #likeforlikes #followforfollowback #photography #memes #music #india #trend #instadaily #likes #style #photooftheday #trendingnow #dance #model #bollywood #foryou #bhfyp #kerala #bhfyp'\n",
    "result = re.findall(r'#(\\w+)',hashtags )\n",
    "result"
   ]
  },
  {
   "cell_type": "code",
   "execution_count": 229,
   "id": "03f380d2",
   "metadata": {},
   "outputs": [
    {
     "name": "stdout",
     "output_type": "stream",
     "text": [
      "Amy is valid\n",
      "Amy is my best friend is not valid\n",
      "my best pal is Amy is not valid\n"
     ]
    }
   ],
   "source": [
    "# Exercise 11 \n",
    "e = ['Amy', 'Amy is my best friend' , 'my best pal is Amy']\n",
    "\n",
    "for i in e:\n",
    "    result= re.findall(r'^Amy$', i )\n",
    "    if result:\n",
    "        print(i, 'is valid')\n",
    "    else:\n",
    "        print(i, 'is not valid')"
   ]
  },
  {
   "cell_type": "code",
   "execution_count": 237,
   "id": "9c8a247d",
   "metadata": {},
   "outputs": [
    {
     "name": "stdout",
     "output_type": "stream",
     "text": [
      "8989298989 is valid\n",
      "9989298989 is valid\n",
      "90123456789 is valid\n",
      "1000000000 is not valid\n",
      "8000000abc is valid\n"
     ]
    }
   ],
   "source": [
    " l = ['8989298989', '9989298989', '90123456789', '1000000000', '8000000abc']\n",
    "\n",
    "for i in l:\n",
    "    result= re.findall(r'^[89]', i )\n",
    "    \n",
    "    if result:\n",
    "        print(i, 'is valid')\n",
    "    else:\n",
    "        print(i, 'is not valid')"
   ]
  },
  {
   "cell_type": "code",
   "execution_count": 245,
   "id": "0f38a063",
   "metadata": {},
   "outputs": [
    {
     "name": "stdout",
     "output_type": "stream",
     "text": [
      "8989298989 is valid\n",
      "9989298989 is valid\n",
      "90123456789 is not valid\n",
      "1000000000 is not valid\n",
      "8000000abc is not valid\n"
     ]
    }
   ],
   "source": [
    " l = ['8989298989', '9989298989', '90123456789', '1000000000', '8000000abc']\n",
    "\n",
    "for i in l:\n",
    "    result= re.findall(r'^[89]\\d{9}$', i )  \n",
    "    if result:\n",
    "        print(i, 'is valid')\n",
    "    else:\n",
    "        print(i, 'is not valid')"
   ]
  },
  {
   "cell_type": "code",
   "execution_count": 246,
   "id": "c5e4e9de",
   "metadata": {},
   "outputs": [
    {
     "name": "stdout",
     "output_type": "stream",
     "text": [
      "True\n",
      "False\n",
      "True\n",
      "False\n"
     ]
    }
   ],
   "source": [
    "# difference between == and is in python \n",
    "\n",
    "\n",
    "# python3 code to\n",
    "# illustrate the\n",
    "# difference between\n",
    "# == and is operator\n",
    "# [] is an empty list\n",
    "list1 = []\n",
    "list2 = []\n",
    "list3=list1\n",
    " \n",
    "if (list1 == list2):\n",
    "    print(\"True\")\n",
    "else:\n",
    "    print(\"False\")\n",
    " \n",
    "if (list1 is list2):\n",
    "    print(\"True\")\n",
    "else:\n",
    "    print(\"False\")\n",
    " \n",
    "if (list1 is list3):\n",
    "    print(\"True\")\n",
    "else:   \n",
    "    print(\"False\")\n",
    " \n",
    "list3 = list3 + list2\n",
    " \n",
    "if (list1 is list3):\n",
    "    print(\"True\")\n",
    "else:   \n",
    "    print(\"False\")"
   ]
  },
  {
   "cell_type": "code",
   "execution_count": null,
   "id": "dc417828",
   "metadata": {},
   "outputs": [],
   "source": []
  }
 ],
 "metadata": {
  "kernelspec": {
   "display_name": "Python 3",
   "language": "python",
   "name": "python3"
  },
  "language_info": {
   "codemirror_mode": {
    "name": "ipython",
    "version": 3
   },
   "file_extension": ".py",
   "mimetype": "text/x-python",
   "name": "python",
   "nbconvert_exporter": "python",
   "pygments_lexer": "ipython3",
   "version": "3.8.8"
  }
 },
 "nbformat": 4,
 "nbformat_minor": 5
}
