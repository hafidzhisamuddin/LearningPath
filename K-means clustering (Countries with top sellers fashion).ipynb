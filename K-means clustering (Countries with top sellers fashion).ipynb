{
 "cells": [
  {
   "cell_type": "code",
   "execution_count": 13,
   "id": "356d15fe",
   "metadata": {},
   "outputs": [],
   "source": [
    "import numpy as np\n",
    "import pandas as pd \n",
    "import matplotlib.pyplot as plt\n",
    "%matplotlib inline\n",
    "import seaborn as sns\n",
    "\n",
    "from sklearn.cluster import KMeans\n",
    "from sklearn.metrics import silhouette_score\n",
    "from sklearn.preprocessing import StandardScaler"
   ]
  },
  {
   "cell_type": "code",
   "execution_count": 14,
   "id": "89232f2d",
   "metadata": {},
   "outputs": [],
   "source": [
    "X = pd.read_csv('C:/Users/dz234/OneDrive/Desktop/Learning Process/Applied Data Science/countries_with_top_sellers_fashion_c2c.csv')"
   ]
  },
  {
   "cell_type": "code",
   "execution_count": 15,
   "id": "0fd61b3b",
   "metadata": {},
   "outputs": [
    {
     "data": {
      "text/html": [
       "<div>\n",
       "<style scoped>\n",
       "    .dataframe tbody tr th:only-of-type {\n",
       "        vertical-align: middle;\n",
       "    }\n",
       "\n",
       "    .dataframe tbody tr th {\n",
       "        vertical-align: top;\n",
       "    }\n",
       "\n",
       "    .dataframe thead th {\n",
       "        text-align: right;\n",
       "    }\n",
       "</style>\n",
       "<table border=\"1\" class=\"dataframe\">\n",
       "  <thead>\n",
       "    <tr style=\"text-align: right;\">\n",
       "      <th></th>\n",
       "      <th>country</th>\n",
       "      <th>sellers</th>\n",
       "      <th>topsellers</th>\n",
       "      <th>topsellerratio</th>\n",
       "      <th>femalesellersratio</th>\n",
       "      <th>topfemalesellersratio</th>\n",
       "      <th>femalesellers</th>\n",
       "      <th>malesellers</th>\n",
       "      <th>topfemalesellers</th>\n",
       "      <th>topmalesellers</th>\n",
       "      <th>...</th>\n",
       "      <th>topmeanproductssold</th>\n",
       "      <th>topmeanproductslisted</th>\n",
       "      <th>meanproductssold</th>\n",
       "      <th>meanproductslisted</th>\n",
       "      <th>meanofflinedays</th>\n",
       "      <th>topmeanofflinedays</th>\n",
       "      <th>meanfollowers</th>\n",
       "      <th>meanfollowing</th>\n",
       "      <th>topmeanfollowers</th>\n",
       "      <th>topmeanfollowing</th>\n",
       "    </tr>\n",
       "  </thead>\n",
       "  <tbody>\n",
       "    <tr>\n",
       "      <th>0</th>\n",
       "      <td>Taiwan</td>\n",
       "      <td>1</td>\n",
       "      <td>1</td>\n",
       "      <td>100.0</td>\n",
       "      <td>100.0</td>\n",
       "      <td>100.0</td>\n",
       "      <td>1</td>\n",
       "      <td>0</td>\n",
       "      <td>1</td>\n",
       "      <td>0</td>\n",
       "      <td>...</td>\n",
       "      <td>57.00</td>\n",
       "      <td>56.00</td>\n",
       "      <td>57.000000</td>\n",
       "      <td>56.000000</td>\n",
       "      <td>11.0</td>\n",
       "      <td>11.0</td>\n",
       "      <td>83.0</td>\n",
       "      <td>8.0</td>\n",
       "      <td>83.0</td>\n",
       "      <td>8.0</td>\n",
       "    </tr>\n",
       "    <tr>\n",
       "      <th>1</th>\n",
       "      <td>Slovaquie</td>\n",
       "      <td>2</td>\n",
       "      <td>1</td>\n",
       "      <td>50.0</td>\n",
       "      <td>0.0</td>\n",
       "      <td>0.0</td>\n",
       "      <td>0</td>\n",
       "      <td>2</td>\n",
       "      <td>0</td>\n",
       "      <td>1</td>\n",
       "      <td>...</td>\n",
       "      <td>27.00</td>\n",
       "      <td>14.00</td>\n",
       "      <td>14.000000</td>\n",
       "      <td>7.000000</td>\n",
       "      <td>17.0</td>\n",
       "      <td>15.0</td>\n",
       "      <td>10.5</td>\n",
       "      <td>8.5</td>\n",
       "      <td>15.0</td>\n",
       "      <td>8.0</td>\n",
       "    </tr>\n",
       "    <tr>\n",
       "      <th>2</th>\n",
       "      <td>Lettonie</td>\n",
       "      <td>4</td>\n",
       "      <td>2</td>\n",
       "      <td>50.0</td>\n",
       "      <td>100.0</td>\n",
       "      <td>100.0</td>\n",
       "      <td>4</td>\n",
       "      <td>0</td>\n",
       "      <td>2</td>\n",
       "      <td>0</td>\n",
       "      <td>...</td>\n",
       "      <td>40.50</td>\n",
       "      <td>18.00</td>\n",
       "      <td>20.750000</td>\n",
       "      <td>9.000000</td>\n",
       "      <td>120.3</td>\n",
       "      <td>11.5</td>\n",
       "      <td>21.0</td>\n",
       "      <td>52.3</td>\n",
       "      <td>38.0</td>\n",
       "      <td>98.5</td>\n",
       "    </tr>\n",
       "    <tr>\n",
       "      <th>3</th>\n",
       "      <td>Bulgarie</td>\n",
       "      <td>9</td>\n",
       "      <td>4</td>\n",
       "      <td>44.4</td>\n",
       "      <td>66.7</td>\n",
       "      <td>100.0</td>\n",
       "      <td>6</td>\n",
       "      <td>3</td>\n",
       "      <td>4</td>\n",
       "      <td>0</td>\n",
       "      <td>...</td>\n",
       "      <td>36.25</td>\n",
       "      <td>17.25</td>\n",
       "      <td>18.888889</td>\n",
       "      <td>9.111111</td>\n",
       "      <td>98.3</td>\n",
       "      <td>19.0</td>\n",
       "      <td>28.6</td>\n",
       "      <td>31.6</td>\n",
       "      <td>46.3</td>\n",
       "      <td>19.0</td>\n",
       "    </tr>\n",
       "    <tr>\n",
       "      <th>4</th>\n",
       "      <td>Chypre</td>\n",
       "      <td>4</td>\n",
       "      <td>1</td>\n",
       "      <td>25.0</td>\n",
       "      <td>100.0</td>\n",
       "      <td>100.0</td>\n",
       "      <td>4</td>\n",
       "      <td>0</td>\n",
       "      <td>1</td>\n",
       "      <td>0</td>\n",
       "      <td>...</td>\n",
       "      <td>41.00</td>\n",
       "      <td>66.00</td>\n",
       "      <td>14.000000</td>\n",
       "      <td>20.250000</td>\n",
       "      <td>17.3</td>\n",
       "      <td>11.0</td>\n",
       "      <td>21.3</td>\n",
       "      <td>10.3</td>\n",
       "      <td>39.0</td>\n",
       "      <td>17.0</td>\n",
       "    </tr>\n",
       "  </tbody>\n",
       "</table>\n",
       "<p>5 rows × 26 columns</p>\n",
       "</div>"
      ],
      "text/plain": [
       "     country  sellers  topsellers  topsellerratio  femalesellersratio  \\\n",
       "0     Taiwan        1           1           100.0               100.0   \n",
       "1  Slovaquie        2           1            50.0                 0.0   \n",
       "2   Lettonie        4           2            50.0               100.0   \n",
       "3   Bulgarie        9           4            44.4                66.7   \n",
       "4     Chypre        4           1            25.0               100.0   \n",
       "\n",
       "   topfemalesellersratio  femalesellers  malesellers  topfemalesellers  \\\n",
       "0                  100.0              1            0                 1   \n",
       "1                    0.0              0            2                 0   \n",
       "2                  100.0              4            0                 2   \n",
       "3                  100.0              6            3                 4   \n",
       "4                  100.0              4            0                 1   \n",
       "\n",
       "   topmalesellers  ...  topmeanproductssold  topmeanproductslisted  \\\n",
       "0               0  ...                57.00                  56.00   \n",
       "1               1  ...                27.00                  14.00   \n",
       "2               0  ...                40.50                  18.00   \n",
       "3               0  ...                36.25                  17.25   \n",
       "4               0  ...                41.00                  66.00   \n",
       "\n",
       "   meanproductssold  meanproductslisted  meanofflinedays  topmeanofflinedays  \\\n",
       "0         57.000000           56.000000             11.0                11.0   \n",
       "1         14.000000            7.000000             17.0                15.0   \n",
       "2         20.750000            9.000000            120.3                11.5   \n",
       "3         18.888889            9.111111             98.3                19.0   \n",
       "4         14.000000           20.250000             17.3                11.0   \n",
       "\n",
       "   meanfollowers  meanfollowing  topmeanfollowers  topmeanfollowing  \n",
       "0           83.0            8.0              83.0               8.0  \n",
       "1           10.5            8.5              15.0               8.0  \n",
       "2           21.0           52.3              38.0              98.5  \n",
       "3           28.6           31.6              46.3              19.0  \n",
       "4           21.3           10.3              39.0              17.0  \n",
       "\n",
       "[5 rows x 26 columns]"
      ]
     },
     "execution_count": 15,
     "metadata": {},
     "output_type": "execute_result"
    }
   ],
   "source": [
    "X.head()"
   ]
  },
  {
   "cell_type": "code",
   "execution_count": 16,
   "id": "00179b2e",
   "metadata": {},
   "outputs": [
    {
     "name": "stdout",
     "output_type": "stream",
     "text": [
      "<class 'pandas.core.frame.DataFrame'>\n",
      "RangeIndex: 19 entries, 0 to 18\n",
      "Data columns (total 26 columns):\n",
      " #   Column                  Non-Null Count  Dtype  \n",
      "---  ------                  --------------  -----  \n",
      " 0   country                 19 non-null     object \n",
      " 1   sellers                 19 non-null     int64  \n",
      " 2   topsellers              19 non-null     int64  \n",
      " 3   topsellerratio          19 non-null     float64\n",
      " 4   femalesellersratio      19 non-null     float64\n",
      " 5   topfemalesellersratio   19 non-null     float64\n",
      " 6   femalesellers           19 non-null     int64  \n",
      " 7   malesellers             19 non-null     int64  \n",
      " 8   topfemalesellers        19 non-null     int64  \n",
      " 9   topmalesellers          19 non-null     int64  \n",
      " 10  countrysoldratio        19 non-null     float64\n",
      " 11  bestsoldratio           19 non-null     float64\n",
      " 12  toptotalproductssold    19 non-null     int64  \n",
      " 13  totalproductssold       19 non-null     int64  \n",
      " 14  toptotalproductslisted  19 non-null     int64  \n",
      " 15  totalproductslisted     19 non-null     int64  \n",
      " 16  topmeanproductssold     19 non-null     float64\n",
      " 17  topmeanproductslisted   19 non-null     float64\n",
      " 18  meanproductssold        19 non-null     float64\n",
      " 19  meanproductslisted      19 non-null     float64\n",
      " 20  meanofflinedays         19 non-null     float64\n",
      " 21  topmeanofflinedays      19 non-null     float64\n",
      " 22  meanfollowers           19 non-null     float64\n",
      " 23  meanfollowing           19 non-null     float64\n",
      " 24  topmeanfollowers        19 non-null     float64\n",
      " 25  topmeanfollowing        19 non-null     float64\n",
      "dtypes: float64(15), int64(10), object(1)\n",
      "memory usage: 4.0+ KB\n"
     ]
    }
   ],
   "source": [
    "# understand dataset \n",
    "X.info()"
   ]
  },
  {
   "cell_type": "code",
   "execution_count": 17,
   "id": "0aa1d3c5",
   "metadata": {},
   "outputs": [
    {
     "name": "stdout",
     "output_type": "stream",
     "text": [
      "    topsellers  totalproductslisted\n",
      "0            1                   56\n",
      "1            1                   14\n",
      "2            2                   36\n",
      "3            4                   82\n",
      "4            1                   81\n",
      "5            1                   26\n",
      "6            2                   77\n",
      "7            1                    8\n",
      "8           13                  594\n",
      "9           35                 2218\n",
      "10           1                   69\n",
      "11           1                   55\n",
      "12           3                  231\n",
      "13          21                  927\n",
      "14           1                   37\n",
      "15           5                  264\n",
      "16           6                  816\n",
      "17           2                  139\n",
      "18          25                 1892\n"
     ]
    }
   ],
   "source": [
    "X1 = X.iloc[:,[2,15]]\n",
    "print(X1)"
   ]
  },
  {
   "cell_type": "code",
   "execution_count": 18,
   "id": "0d76cd8a",
   "metadata": {},
   "outputs": [
    {
     "data": {
      "text/plain": [
       "<AxesSubplot:>"
      ]
     },
     "execution_count": 18,
     "metadata": {},
     "output_type": "execute_result"
    },
    {
     "data": {
      "image/png": "[encoded data removed]",
      "text/plain": [
       "<Figure size 432x288 with 2 Axes>"
      ]
     },
     "metadata": {
      "needs_background": "light"
     },
     "output_type": "display_data"
    }
   ],
   "source": [
    "# checkk correlation \n",
    "cor = X1.corr()\n",
    "sns.heatmap(cor, square = True)"
   ]
  },
  {
   "cell_type": "code",
   "execution_count": 19,
   "id": "c202a7ac",
   "metadata": {},
   "outputs": [
    {
     "name": "stdout",
     "output_type": "stream",
     "text": [
      "[[   1   56]\n",
      " [   1   14]\n",
      " [   2   36]\n",
      " [   4   82]\n",
      " [   1   81]\n",
      " [   1   26]\n",
      " [   2   77]\n",
      " [   1    8]\n",
      " [  13  594]\n",
      " [  35 2218]\n",
      " [   1   69]\n",
      " [   1   55]\n",
      " [   3  231]\n",
      " [  21  927]\n",
      " [   1   37]\n",
      " [   5  264]\n",
      " [   6  816]\n",
      " [   2  139]\n",
      " [  25 1892]]\n"
     ]
    }
   ],
   "source": [
    "X2 = X.iloc[:,[2,15]].values\n",
    "print(X2)"
   ]
  },
  {
   "cell_type": "code",
   "execution_count": 20,
   "id": "aca5ae4c",
   "metadata": {},
   "outputs": [],
   "source": [
    "# scalling the dataset \n",
    "from sklearn.preprocessing import StandardScaler\n",
    "\n",
    "ss = StandardScaler()\n",
    "XX = ss.fit_transform(X2)\n",
    "XX"
   ]
  },
  {
   "cell_type": "code",
   "execution_count": 21,
   "id": "7b53d0f8",
   "metadata": {},
   "outputs": [
    {
     "name": "stderr",
     "output_type": "stream",
     "text": [
      "C:\\Users\\dz234\\anaconda3\\lib\\site-packages\\sklearn\\cluster\\_kmeans.py:881: UserWarning: KMeans is known to have a memory leak on Windows with MKL, when there are less chunks than available threads. You can avoid it by setting the environment variable OMP_NUM_THREADS=1.\n",
      "  warnings.warn(\n"
     ]
    },
    {
     "data": {
      "image/png": "[encoded data removed]",
      "text/plain": [
       "<Figure size 432x288 with 1 Axes>"
      ]
     },
     "metadata": {
      "needs_background": "light"
     },
     "output_type": "display_data"
    }
   ],
   "source": [
    "# find number of cluster, K \n",
    "from sklearn.cluster import KMeans\n",
    "wcss = []\n",
    "for i in range (1,11):\n",
    "    kmeans = KMeans(n_clusters = i, init='k-means++', random_state = 42)\n",
    "    kmeans.fit(XX) # using dataset after scalled \n",
    "    wcss.append(kmeans.inertia_) #inertia is the wcss value \n",
    "plt.plot(range(1,11),wcss)\n",
    "plt.title('The Elbow Method')\n",
    "plt.xlabel('Number of clusters')\n",
    "plt.ylabel('WCSS')\n",
    "plt.show()"
   ]
  },
  {
   "cell_type": "code",
   "execution_count": 22,
   "id": "eeb9602e",
   "metadata": {},
   "outputs": [
    {
     "data": {
      "text/plain": [
       "array([0, 0, 0, 0, 0, 0, 0, 0, 2, 1, 0, 0, 0, 2, 0, 0, 2, 0, 1])"
      ]
     },
     "execution_count": 22,
     "metadata": {},
     "output_type": "execute_result"
    }
   ],
   "source": [
    "kmeans = KMeans(n_clusters = 3, init = 'k-means++', random_state = 42)\n",
    "y_kmeans = kmeans.fit_predict(XX)\n",
    "y_kmeans"
   ]
  },
  {
   "cell_type": "code",
   "execution_count": 23,
   "id": "75cfa31a",
   "metadata": {},
   "outputs": [
    {
     "name": "stderr",
     "output_type": "stream",
     "text": [
      "C:\\Users\\dz234\\anaconda3\\lib\\site-packages\\seaborn\\_decorators.py:36: FutureWarning: Pass the following variables as keyword args: x, y. From version 0.12, the only valid positional argument will be `data`, and passing other arguments without an explicit keyword will result in an error or misinterpretation.\n",
      "  warnings.warn(\n"
     ]
    },
    {
     "data": {
      "text/plain": [
       "<function matplotlib.pyplot.show(close=None, block=None)>"
      ]
     },
     "execution_count": 23,
     "metadata": {},
     "output_type": "execute_result"
    },
    {
     "data": {
      "image/png": "[encoded data removed]",
      "text/plain": [
       "<Figure size 432x288 with 1 Axes>"
      ]
     },
     "metadata": {
      "needs_background": "light"
     },
     "output_type": "display_data"
    }
   ],
   "source": [
    "# visualizing K- Means Clustering \n",
    "sns.scatterplot(XX[:,0], XX[:,1], hue =['cluster-{}'.format(x) for x in y_kmeans])\n",
    "plt.scatter(kmeans.cluster_centers_[:, 0], kmeans.cluster_centers_[:,1], s = 200, c ='orange', label = 'Centroids')\n",
    "plt.title('Clusters and Centroids')\n",
    "plt.xlabel('X-axis')\n",
    "plt.ylabel('Y-axis')\n",
    "plt.legend()\n",
    "plt.show"
   ]
  },
  {
   "cell_type": "code",
   "execution_count": 24,
   "id": "ddcfbbcb",
   "metadata": {},
   "outputs": [
    {
     "name": "stdout",
     "output_type": "stream",
     "text": [
      "0.7429155534862315\n"
     ]
    }
   ],
   "source": [
    "# check score \n",
    "score = silhouette_score(XX, kmeans.labels_, metric = 'euclidean')\n",
    "print(score)"
   ]
  },
  {
   "cell_type": "code",
   "execution_count": null,
   "id": "02f0fe64",
   "metadata": {},
   "outputs": [],
   "source": [
    "for i in range(1, 26):\n",
    "    for j in range(1, 26):\n",
    "        \n",
    "        X1 = X.iloc[:,[i,j]]\n",
    "        print(X1)\n",
    "        X2 = X.iloc[:,[i,j]].values\n",
    "        \n",
    "        ss = StandardScaler()\n",
    "        XX = ss.fit_transform(X2)\n",
    "        \n",
    "        wcss = []\n",
    "        for i in range (1,11):\n",
    "            kmeans = KMeans(n_clusters = i, init='k-means++', random_state = 42)\n",
    "            kmeans.fit(XX) # using dataset after scalled \n",
    "            wcss.append(kmeans.inertia_) #inertia is the wcss value\n",
    "        plt.plot(range(1,11),wcss)\n",
    "        plt.title('The Elbow Method')\n",
    "        plt.xlabel('Number of clusters')\n",
    "        plt.ylabel('WCSS')\n",
    "        plt.show()\n",
    "        \n",
    "        score = silhouette_score(XX, kmeans.labels_, metric = 'euclidean')\n",
    "        print(score)\n",
    "        \n",
    "    print()\n"
   ]
  },
  {
   "cell_type": "code",
   "execution_count": null,
   "id": "f3acff04",
   "metadata": {},
   "outputs": [],
   "source": []
  }
 ],
 "metadata": {
  "kernelspec": {
   "display_name": "Python 3",
   "language": "python",
   "name": "python3"
  },
  "language_info": {
   "codemirror_mode": {
    "name": "ipython",
    "version": 3
   },
   "file_extension": ".py",
   "mimetype": "text/x-python",
   "name": "python",
   "nbconvert_exporter": "python",
   "pygments_lexer": "ipython3",
   "version": "3.8.8"
  }
 },
 "nbformat": 4,
 "nbformat_minor": 5
}
