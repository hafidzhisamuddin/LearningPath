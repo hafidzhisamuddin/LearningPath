{
 "cells": [
  {
   "cell_type": "code",
   "execution_count": 2,
   "id": "6e1bda5e",
   "metadata": {},
   "outputs": [
    {
     "data": {
      "text/html": [
       "<div>\n",
       "<style scoped>\n",
       "    .dataframe tbody tr th:only-of-type {\n",
       "        vertical-align: middle;\n",
       "    }\n",
       "\n",
       "    .dataframe tbody tr th {\n",
       "        vertical-align: top;\n",
       "    }\n",
       "\n",
       "    .dataframe thead th {\n",
       "        text-align: right;\n",
       "    }\n",
       "</style>\n",
       "<table border=\"1\" class=\"dataframe\">\n",
       "  <thead>\n",
       "    <tr style=\"text-align: right;\">\n",
       "      <th></th>\n",
       "      <th>S&amp;P department (spend)</th>\n",
       "      <th>Admin department(spend)</th>\n",
       "      <th>Operation department(spend)</th>\n",
       "      <th>Profit</th>\n",
       "    </tr>\n",
       "  </thead>\n",
       "  <tbody>\n",
       "    <tr>\n",
       "      <th>0</th>\n",
       "      <td>101184</td>\n",
       "      <td>70674</td>\n",
       "      <td>97009</td>\n",
       "      <td>259480</td>\n",
       "    </tr>\n",
       "    <tr>\n",
       "      <th>1</th>\n",
       "      <td>70132</td>\n",
       "      <td>52030</td>\n",
       "      <td>63587</td>\n",
       "      <td>137019</td>\n",
       "    </tr>\n",
       "    <tr>\n",
       "      <th>2</th>\n",
       "      <td>149539</td>\n",
       "      <td>98535</td>\n",
       "      <td>199994</td>\n",
       "      <td>495552</td>\n",
       "    </tr>\n",
       "    <tr>\n",
       "      <th>3</th>\n",
       "      <td>75821</td>\n",
       "      <td>53649</td>\n",
       "      <td>66500</td>\n",
       "      <td>165057</td>\n",
       "    </tr>\n",
       "    <tr>\n",
       "      <th>4</th>\n",
       "      <td>97730</td>\n",
       "      <td>68667</td>\n",
       "      <td>91754</td>\n",
       "      <td>247841</td>\n",
       "    </tr>\n",
       "  </tbody>\n",
       "</table>\n",
       "</div>"
      ],
      "text/plain": [
       "   S&P department (spend)  Admin department(spend)  \\\n",
       "0                  101184                    70674   \n",
       "1                   70132                    52030   \n",
       "2                  149539                    98535   \n",
       "3                   75821                    53649   \n",
       "4                   97730                    68667   \n",
       "\n",
       "   Operation department(spend)  Profit  \n",
       "0                        97009  259480  \n",
       "1                        63587  137019  \n",
       "2                       199994  495552  \n",
       "3                        66500  165057  \n",
       "4                        91754  247841  "
      ]
     },
     "execution_count": 2,
     "metadata": {},
     "output_type": "execute_result"
    }
   ],
   "source": [
    "## Multiple Linear Regression\n",
    "\n",
    "#import libraries\n",
    "import numpy as np\n",
    "import matplotlib.pyplot as plt\n",
    "import pandas as pd\n",
    "\n",
    "#splitting the dataset into training and test sets\n",
    "from sklearn.model_selection import train_test_split\n",
    "from sklearn.linear_model import LinearRegression\n",
    "\n",
    "#import dataset\n",
    "ds=pd.read_csv('C:/Users/dz234/OneDrive/Desktop/Learning Process/Applied Data Science/MLR_numeric.csv')\n",
    "x=ds.iloc[:,:-1].values\n",
    "y=ds.iloc[:,3].values\n",
    "ds.head()"
   ]
  },
  {
   "cell_type": "code",
   "execution_count": 4,
   "id": "71bcdcd3",
   "metadata": {},
   "outputs": [
    {
     "data": {
      "text/html": [
       "<div>\n",
       "<style scoped>\n",
       "    .dataframe tbody tr th:only-of-type {\n",
       "        vertical-align: middle;\n",
       "    }\n",
       "\n",
       "    .dataframe tbody tr th {\n",
       "        vertical-align: top;\n",
       "    }\n",
       "\n",
       "    .dataframe thead th {\n",
       "        text-align: right;\n",
       "    }\n",
       "</style>\n",
       "<table border=\"1\" class=\"dataframe\">\n",
       "  <thead>\n",
       "    <tr style=\"text-align: right;\">\n",
       "      <th></th>\n",
       "      <th>S&amp;P department (spend)</th>\n",
       "      <th>Admin department(spend)</th>\n",
       "      <th>Operation department(spend)</th>\n",
       "      <th>Profit</th>\n",
       "    </tr>\n",
       "  </thead>\n",
       "  <tbody>\n",
       "    <tr>\n",
       "      <th>S&amp;P department (spend)</th>\n",
       "      <td>1.000000</td>\n",
       "      <td>0.984560</td>\n",
       "      <td>0.976437</td>\n",
       "      <td>0.982576</td>\n",
       "    </tr>\n",
       "    <tr>\n",
       "      <th>Admin department(spend)</th>\n",
       "      <td>0.984560</td>\n",
       "      <td>1.000000</td>\n",
       "      <td>0.980723</td>\n",
       "      <td>0.993823</td>\n",
       "    </tr>\n",
       "    <tr>\n",
       "      <th>Operation department(spend)</th>\n",
       "      <td>0.976437</td>\n",
       "      <td>0.980723</td>\n",
       "      <td>1.000000</td>\n",
       "      <td>0.975566</td>\n",
       "    </tr>\n",
       "    <tr>\n",
       "      <th>Profit</th>\n",
       "      <td>0.982576</td>\n",
       "      <td>0.993823</td>\n",
       "      <td>0.975566</td>\n",
       "      <td>1.000000</td>\n",
       "    </tr>\n",
       "  </tbody>\n",
       "</table>\n",
       "</div>"
      ],
      "text/plain": [
       "                             S&P department (spend)  Admin department(spend)  \\\n",
       "S&P department (spend)                     1.000000                 0.984560   \n",
       "Admin department(spend)                    0.984560                 1.000000   \n",
       "Operation department(spend)                0.976437                 0.980723   \n",
       "Profit                                     0.982576                 0.993823   \n",
       "\n",
       "                             Operation department(spend)    Profit  \n",
       "S&P department (spend)                          0.976437  0.982576  \n",
       "Admin department(spend)                         0.980723  0.993823  \n",
       "Operation department(spend)                     1.000000  0.975566  \n",
       "Profit                                          0.975566  1.000000  "
      ]
     },
     "execution_count": 4,
     "metadata": {},
     "output_type": "execute_result"
    }
   ],
   "source": [
    "# calculate corr\n",
    "corr = ds.corr()\n",
    "corr"
   ]
  },
  {
   "cell_type": "code",
   "execution_count": 15,
   "id": "190d23be",
   "metadata": {},
   "outputs": [
    {
     "name": "stdout",
     "output_type": "stream",
     "text": [
      "Coefficients,beta: [ 0.74568222  6.6837466  -0.17261534]\n",
      "Constant,alpha: [-245992.40257836]\n"
     ]
    }
   ],
   "source": [
    "x_train, x_test, y_train, y_test = train_test_split(x, y, test_size = 0.2, \n",
    "random_state = 0)\n",
    "#Fitting simple linear regression to training set\n",
    "regressor=LinearRegression()\n",
    "regressor.fit(x_train,y_train)\n",
    "print('Coefficients,beta:', regressor.coef_)\n",
    "print('Constant,alpha:', regressor.predict([[0,0,0]]))"
   ]
  },
  {
   "cell_type": "code",
   "execution_count": 16,
   "id": "bd771c7b",
   "metadata": {},
   "outputs": [
    {
     "name": "stdout",
     "output_type": "stream",
     "text": [
      "[474262.32345618 311167.2377158  182212.30728899 254661.21837792\n",
      " 489577.11092428 388254.76244367 216897.80322374 227697.88060702\n",
      " 456234.34442673 269997.80127102]\n",
      "[466013 305250 188824 241206 495552 397289 222793 229567 438294 247841]\n"
     ]
    }
   ],
   "source": [
    "#Predicting the results for test set\n",
    "y_pred=regressor.predict(x_test)\n",
    "print(y_pred)\n",
    "print(y_test)"
   ]
  },
  {
   "cell_type": "code",
   "execution_count": 11,
   "id": "87bf9301",
   "metadata": {},
   "outputs": [
    {
     "name": "stdout",
     "output_type": "stream",
     "text": [
      "[[1.         0.99521366]\n",
      " [0.99521366 1.        ]]\n"
     ]
    }
   ],
   "source": [
    "#calculate the correlation coefficient \n",
    "corr = np.corrcoef(y_pred, y_test)\n",
    "print(corr)"
   ]
  },
  {
   "cell_type": "code",
   "execution_count": 17,
   "id": "e83714b5",
   "metadata": {},
   "outputs": [
    {
     "name": "stdout",
     "output_type": "stream",
     "text": [
      "129616592.25129478\n"
     ]
    }
   ],
   "source": [
    "# calculate the MSE \n",
    "from sklearn.metrics import mean_squared_error\n",
    "\n",
    "MSE=mean_squared_error(y_test, y_pred)\n",
    "print(MSE)"
   ]
  },
  {
   "cell_type": "code",
   "execution_count": 23,
   "id": "42be8cfc",
   "metadata": {},
   "outputs": [],
   "source": [
    "#Simple Linear Regression – Step 4\n",
    "#Visualizing Training set result\n",
    "#plt.scatter(x_train,y_train,color='blue') # plot the points\n",
    "#plt.plot(x_train, regressor.predict(x_train),color='red') # plot the line\n",
    "#plt.title('Advert Cost vs Sales (Training set)')\n",
    "#plt.xlabel('Adverising Cost')\n",
    "#plt.ylabel('Sales')\n",
    "#plt.show()\n"
   ]
  },
  {
   "cell_type": "code",
   "execution_count": 24,
   "id": "e8576f23",
   "metadata": {},
   "outputs": [
    {
     "name": "stdout",
     "output_type": "stream",
     "text": [
      "[173811.18025181]\n"
     ]
    }
   ],
   "source": [
    "a=[[90020,55200,94230]]\n",
    "y_predict=regressor.predict(a)\n",
    "print(y_predict)\n"
   ]
  },
  {
   "cell_type": "markdown",
   "id": "d73ab8f1",
   "metadata": {},
   "source": [
    "# 2nd Exercise "
   ]
  },
  {
   "cell_type": "code",
   "execution_count": 37,
   "id": "fa12f61a",
   "metadata": {},
   "outputs": [
    {
     "data": {
      "text/html": [
       "<div>\n",
       "<style scoped>\n",
       "    .dataframe tbody tr th:only-of-type {\n",
       "        vertical-align: middle;\n",
       "    }\n",
       "\n",
       "    .dataframe tbody tr th {\n",
       "        vertical-align: top;\n",
       "    }\n",
       "\n",
       "    .dataframe thead th {\n",
       "        text-align: right;\n",
       "    }\n",
       "</style>\n",
       "<table border=\"1\" class=\"dataframe\">\n",
       "  <thead>\n",
       "    <tr style=\"text-align: right;\">\n",
       "      <th></th>\n",
       "      <th>S&amp;P department (spend)</th>\n",
       "      <th>Admin department(spend)</th>\n",
       "      <th>Operation department(spend)</th>\n",
       "      <th>state</th>\n",
       "      <th>Profit</th>\n",
       "    </tr>\n",
       "  </thead>\n",
       "  <tbody>\n",
       "    <tr>\n",
       "      <th>0</th>\n",
       "      <td>101184</td>\n",
       "      <td>70674</td>\n",
       "      <td>97009</td>\n",
       "      <td>A</td>\n",
       "      <td>259480</td>\n",
       "    </tr>\n",
       "    <tr>\n",
       "      <th>1</th>\n",
       "      <td>70132</td>\n",
       "      <td>52030</td>\n",
       "      <td>63587</td>\n",
       "      <td>B</td>\n",
       "      <td>137019</td>\n",
       "    </tr>\n",
       "    <tr>\n",
       "      <th>2</th>\n",
       "      <td>149539</td>\n",
       "      <td>98535</td>\n",
       "      <td>199994</td>\n",
       "      <td>A</td>\n",
       "      <td>495552</td>\n",
       "    </tr>\n",
       "    <tr>\n",
       "      <th>3</th>\n",
       "      <td>75821</td>\n",
       "      <td>53649</td>\n",
       "      <td>66500</td>\n",
       "      <td>B</td>\n",
       "      <td>165057</td>\n",
       "    </tr>\n",
       "    <tr>\n",
       "      <th>4</th>\n",
       "      <td>97730</td>\n",
       "      <td>68667</td>\n",
       "      <td>91754</td>\n",
       "      <td>B</td>\n",
       "      <td>247841</td>\n",
       "    </tr>\n",
       "  </tbody>\n",
       "</table>\n",
       "</div>"
      ],
      "text/plain": [
       "   S&P department (spend)  Admin department(spend)  \\\n",
       "0                  101184                    70674   \n",
       "1                   70132                    52030   \n",
       "2                  149539                    98535   \n",
       "3                   75821                    53649   \n",
       "4                   97730                    68667   \n",
       "\n",
       "   Operation department(spend) state  Profit  \n",
       "0                        97009     A  259480  \n",
       "1                        63587     B  137019  \n",
       "2                       199994     A  495552  \n",
       "3                        66500     B  165057  \n",
       "4                        91754     B  247841  "
      ]
     },
     "execution_count": 37,
     "metadata": {},
     "output_type": "execute_result"
    }
   ],
   "source": [
    "#import dataset\n",
    "ds=pd.read_csv('C:/Users/dz234/OneDrive/Desktop/Learning Process/Applied Data Science/MLR_mix.csv')\n",
    "x=ds.iloc[:,:-1].values\n",
    "y=ds.iloc[:,4].values\n",
    "ds.head()"
   ]
  },
  {
   "cell_type": "code",
   "execution_count": 38,
   "id": "e6265f68",
   "metadata": {},
   "outputs": [
    {
     "data": {
      "text/html": [
       "<div>\n",
       "<style scoped>\n",
       "    .dataframe tbody tr th:only-of-type {\n",
       "        vertical-align: middle;\n",
       "    }\n",
       "\n",
       "    .dataframe tbody tr th {\n",
       "        vertical-align: top;\n",
       "    }\n",
       "\n",
       "    .dataframe thead th {\n",
       "        text-align: right;\n",
       "    }\n",
       "</style>\n",
       "<table border=\"1\" class=\"dataframe\">\n",
       "  <thead>\n",
       "    <tr style=\"text-align: right;\">\n",
       "      <th></th>\n",
       "      <th>S&amp;P department (spend)</th>\n",
       "      <th>Admin department(spend)</th>\n",
       "      <th>Operation department(spend)</th>\n",
       "      <th>Profit</th>\n",
       "    </tr>\n",
       "  </thead>\n",
       "  <tbody>\n",
       "    <tr>\n",
       "      <th>S&amp;P department (spend)</th>\n",
       "      <td>1.000000</td>\n",
       "      <td>0.984560</td>\n",
       "      <td>0.976437</td>\n",
       "      <td>0.982576</td>\n",
       "    </tr>\n",
       "    <tr>\n",
       "      <th>Admin department(spend)</th>\n",
       "      <td>0.984560</td>\n",
       "      <td>1.000000</td>\n",
       "      <td>0.980723</td>\n",
       "      <td>0.993823</td>\n",
       "    </tr>\n",
       "    <tr>\n",
       "      <th>Operation department(spend)</th>\n",
       "      <td>0.976437</td>\n",
       "      <td>0.980723</td>\n",
       "      <td>1.000000</td>\n",
       "      <td>0.975566</td>\n",
       "    </tr>\n",
       "    <tr>\n",
       "      <th>Profit</th>\n",
       "      <td>0.982576</td>\n",
       "      <td>0.993823</td>\n",
       "      <td>0.975566</td>\n",
       "      <td>1.000000</td>\n",
       "    </tr>\n",
       "  </tbody>\n",
       "</table>\n",
       "</div>"
      ],
      "text/plain": [
       "                             S&P department (spend)  Admin department(spend)  \\\n",
       "S&P department (spend)                     1.000000                 0.984560   \n",
       "Admin department(spend)                    0.984560                 1.000000   \n",
       "Operation department(spend)                0.976437                 0.980723   \n",
       "Profit                                     0.982576                 0.993823   \n",
       "\n",
       "                             Operation department(spend)    Profit  \n",
       "S&P department (spend)                          0.976437  0.982576  \n",
       "Admin department(spend)                         0.980723  0.993823  \n",
       "Operation department(spend)                     1.000000  0.975566  \n",
       "Profit                                          0.975566  1.000000  "
      ]
     },
     "execution_count": 38,
     "metadata": {},
     "output_type": "execute_result"
    }
   ],
   "source": [
    "# calculate corr\n",
    "corr = ds.corr()\n",
    "corr"
   ]
  },
  {
   "cell_type": "code",
   "execution_count": 39,
   "id": "6e64a586",
   "metadata": {},
   "outputs": [
    {
     "name": "stdout",
     "output_type": "stream",
     "text": [
      "[[1.0 0.0 101184 70674 97009]\n",
      " [0.0 1.0 70132 52030 63587]\n",
      " [1.0 0.0 149539 98535 199994]\n",
      " [0.0 1.0 75821 53649 66500]\n",
      " [0.0 1.0 97730 68667 91754]\n",
      " [0.0 1.0 84544 60923 81618]\n",
      " [1.0 0.0 117490 85379 146277]\n",
      " [0.0 1.0 119913 86499 150579]\n",
      " [0.0 1.0 145244 95108 189066]\n",
      " [1.0 0.0 147217 95598 190309]\n",
      " [0.0 1.0 81746 56815 72351]\n",
      " [1.0 0.0 107967 74058 106215]\n",
      " [1.0 0.0 74692 52493 64267]\n",
      " [1.0 0.0 72228 52210 63719]\n",
      " [0.0 1.0 96292 68521 90007]\n",
      " [1.0 0.0 124506 86995 153382]\n",
      " [0.0 1.0 113543 82796 122345]\n",
      " [1.0 0.0 142585 94589 184603]\n",
      " [1.0 0.0 118057 86227 146948]\n",
      " [1.0 0.0 86260 63082 85320]\n",
      " [1.0 0.0 63601 51026 59932]\n",
      " [1.0 0.0 113200 76388 115984]\n",
      " [0.0 1.0 141331 93725 171453]\n",
      " [1.0 0.0 79667 54864 69102]\n",
      " [0.0 1.0 112208 75407 115316]\n",
      " [1.0 0.0 82622 59754 72987]\n",
      " [0.0 1.0 127721 88888 153477]\n",
      " [0.0 1.0 117901 85532 146822]\n",
      " [0.0 1.0 147364 96275 191812]\n",
      " [1.0 0.0 110661 75404 114864]\n",
      " [0.0 1.0 107360 73604 100773]\n",
      " [0.0 1.0 87194 63403 87468]\n",
      " [1.0 0.0 75381 52575 66116]\n",
      " [1.0 0.0 113427 78653 119763]\n",
      " [0.0 1.0 103004 71720 100065]\n",
      " [0.0 1.0 109249 74209 109578]\n",
      " [0.0 1.0 134157 92647 167690]\n",
      " [1.0 0.0 116481 83866 141719]\n",
      " [0.0 1.0 85908 61800 82411]\n",
      " [0.0 1.0 131088 89489 154742]\n",
      " [1.0 0.0 81818 57716 72492]\n",
      " [0.0 1.0 87227 67434 87488]\n",
      " [1.0 0.0 103666 72280 100346]\n",
      " [0.0 1.0 134089 91457 166994]\n",
      " [1.0 0.0 100846 69194 95680]\n",
      " [0.0 1.0 63540 50907 57776]\n",
      " [1.0 0.0 114384 83388 126691]\n",
      " [0.0 1.0 53199 50191 52911]\n",
      " [1.0 0.0 131777 89570 160129]\n",
      " [1.0 0.0 110643 74362 112527]]\n"
     ]
    }
   ],
   "source": [
    "#Multiple Linear Regression – Step 2:\n",
    "#Handling or Encode categorical variables\n",
    "\n",
    "from sklearn.preprocessing import LabelEncoder, OneHotEncoder\n",
    "from sklearn.compose import ColumnTransformer\n",
    "labelencoder_x = LabelEncoder()\n",
    "x[:, 3] = labelencoder_x.fit_transform(x[:, 3])\n",
    "\n",
    "ct = ColumnTransformer([(\"State\", OneHotEncoder(), [3])], remainder = 'passthrough')\n",
    "x = ct.fit_transform(x)\n",
    "print(x)"
   ]
  },
  {
   "cell_type": "code",
   "execution_count": 40,
   "id": "8baaf0b9",
   "metadata": {},
   "outputs": [
    {
     "name": "stdout",
     "output_type": "stream",
     "text": [
      "[[0.0 101184 70674 97009]\n",
      " [1.0 70132 52030 63587]\n",
      " [0.0 149539 98535 199994]\n",
      " [1.0 75821 53649 66500]\n",
      " [1.0 97730 68667 91754]\n",
      " [1.0 84544 60923 81618]\n",
      " [0.0 117490 85379 146277]\n",
      " [1.0 119913 86499 150579]\n",
      " [1.0 145244 95108 189066]\n",
      " [0.0 147217 95598 190309]\n",
      " [1.0 81746 56815 72351]\n",
      " [0.0 107967 74058 106215]\n",
      " [0.0 74692 52493 64267]\n",
      " [0.0 72228 52210 63719]\n",
      " [1.0 96292 68521 90007]\n",
      " [0.0 124506 86995 153382]\n",
      " [1.0 113543 82796 122345]\n",
      " [0.0 142585 94589 184603]\n",
      " [0.0 118057 86227 146948]\n",
      " [0.0 86260 63082 85320]\n",
      " [0.0 63601 51026 59932]\n",
      " [0.0 113200 76388 115984]\n",
      " [1.0 141331 93725 171453]\n",
      " [0.0 79667 54864 69102]\n",
      " [1.0 112208 75407 115316]\n",
      " [0.0 82622 59754 72987]\n",
      " [1.0 127721 88888 153477]\n",
      " [1.0 117901 85532 146822]\n",
      " [1.0 147364 96275 191812]\n",
      " [0.0 110661 75404 114864]\n",
      " [1.0 107360 73604 100773]\n",
      " [1.0 87194 63403 87468]\n",
      " [0.0 75381 52575 66116]\n",
      " [0.0 113427 78653 119763]\n",
      " [1.0 103004 71720 100065]\n",
      " [1.0 109249 74209 109578]\n",
      " [1.0 134157 92647 167690]\n",
      " [0.0 116481 83866 141719]\n",
      " [1.0 85908 61800 82411]\n",
      " [1.0 131088 89489 154742]\n",
      " [0.0 81818 57716 72492]\n",
      " [1.0 87227 67434 87488]\n",
      " [0.0 103666 72280 100346]\n",
      " [1.0 134089 91457 166994]\n",
      " [0.0 100846 69194 95680]\n",
      " [1.0 63540 50907 57776]\n",
      " [0.0 114384 83388 126691]\n",
      " [1.0 53199 50191 52911]\n",
      " [0.0 131777 89570 160129]\n",
      " [0.0 110643 74362 112527]]\n"
     ]
    }
   ],
   "source": [
    "# Multiple linear regression - Step 3\n",
    "x = x[:,1:] #keep B\n",
    "print(x)"
   ]
  },
  {
   "cell_type": "code",
   "execution_count": 42,
   "id": "ca6d0228",
   "metadata": {},
   "outputs": [
    {
     "data": {
      "text/plain": [
       "LinearRegression()"
      ]
     },
     "execution_count": 42,
     "metadata": {},
     "output_type": "execute_result"
    }
   ],
   "source": [
    "# Split and call linear regression - Step 4\n",
    "x_train, x_test, y_train, y_test = train_test_split(x, y, test_size = 0.2, \n",
    "random_state = 0)\n",
    "#Fitting simple linear regression to training set\n",
    "regressor=LinearRegression()\n",
    "regressor.fit(x_train,y_train)\n",
    "#print('Coefficients,beta:', regressor.coef_)\n",
    "#print('Constant,alpha:', regressor.predict([[0,0,0]]))"
   ]
  },
  {
   "cell_type": "code",
   "execution_count": 43,
   "id": "dbcd482b",
   "metadata": {},
   "outputs": [
    {
     "name": "stdout",
     "output_type": "stream",
     "text": [
      "[469131.79514153 314305.95098855 177031.76224272 251333.22466428\n",
      " 492265.59457446 384791.47672058 212333.02403266 223303.09210661\n",
      " 451563.42840049 265608.51763769]\n",
      "[466013 305250 188824 241206 495552 397289 222793 229567 438294 247841]\n"
     ]
    }
   ],
   "source": [
    "#Predicting the results for test set - Step 5 \n",
    "y_pred=regressor.predict(x_test)\n",
    "print(y_pred)\n",
    "print(y_test)"
   ]
  },
  {
   "cell_type": "code",
   "execution_count": 44,
   "id": "35ce394e",
   "metadata": {},
   "outputs": [
    {
     "name": "stdout",
     "output_type": "stream",
     "text": [
      "[166756.20638859]\n"
     ]
    }
   ],
   "source": [
    "#Prediction\n",
    "x = [[1.0,90020.0,55200.0,94230.0]]#0 is A, 1 is B\n",
    "y_predict=regressor.predict(x)\n",
    "print(y_predict) "
   ]
  },
  {
   "cell_type": "code",
   "execution_count": null,
   "id": "a305d427",
   "metadata": {},
   "outputs": [],
   "source": []
  }
 ],
 "metadata": {
  "kernelspec": {
   "display_name": "Python 3",
   "language": "python",
   "name": "python3"
  },
  "language_info": {
   "codemirror_mode": {
    "name": "ipython",
    "version": 3
   },
   "file_extension": ".py",
   "mimetype": "text/x-python",
   "name": "python",
   "nbconvert_exporter": "python",
   "pygments_lexer": "ipython3",
   "version": "3.8.8"
  }
 },
 "nbformat": 4,
 "nbformat_minor": 5
}
