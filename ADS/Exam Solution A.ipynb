{
 "cells": [
  {
   "cell_type": "markdown",
   "metadata": {},
   "source": [
    "# Question A"
   ]
  },
  {
   "cell_type": "code",
   "execution_count": 1,
   "metadata": {},
   "outputs": [],
   "source": [
    "#import libraries\n",
    "import numpy as np\n",
    "import pandas as pd\n",
    "import matplotlib.pyplot as plt\n",
    "%matplotlib inline"
   ]
  },
  {
   "cell_type": "code",
   "execution_count": 2,
   "metadata": {},
   "outputs": [],
   "source": [
    "# Import dataset\n",
    "df = pd.read_csv('exam_dataset.csv')"
   ]
  },
  {
   "cell_type": "code",
   "execution_count": 3,
   "metadata": {},
   "outputs": [
    {
     "data": {
      "text/html": [
       "<div>\n",
       "<style scoped>\n",
       "    .dataframe tbody tr th:only-of-type {\n",
       "        vertical-align: middle;\n",
       "    }\n",
       "\n",
       "    .dataframe tbody tr th {\n",
       "        vertical-align: top;\n",
       "    }\n",
       "\n",
       "    .dataframe thead th {\n",
       "        text-align: right;\n",
       "    }\n",
       "</style>\n",
       "<table border=\"1\" class=\"dataframe\">\n",
       "  <thead>\n",
       "    <tr style=\"text-align: right;\">\n",
       "      <th></th>\n",
       "      <th>Age</th>\n",
       "      <th>BusinessTravel</th>\n",
       "      <th>MonthlyIncome</th>\n",
       "      <th>JobSatisfaction</th>\n",
       "      <th>Bonus</th>\n",
       "      <th>Department</th>\n",
       "      <th>DistanceFromHome</th>\n",
       "      <th>Education</th>\n",
       "      <th>EducationField</th>\n",
       "      <th>EmployeeCount</th>\n",
       "      <th>EmployeeNumber</th>\n",
       "      <th>EnvironmentSatisfaction</th>\n",
       "      <th>Gender</th>\n",
       "      <th>JobLevel</th>\n",
       "      <th>JobRole</th>\n",
       "      <th>MaritalStatus</th>\n",
       "      <th>PerformanceRating</th>\n",
       "      <th>StockOptionLevel</th>\n",
       "      <th>TrainingTimesLastYear</th>\n",
       "      <th>WorkLifeBalance</th>\n",
       "      <th>YearsAtCompany</th>\n",
       "      <th>YearsSinceLastPromotion</th>\n",
       "      <th>OverTime</th>\n",
       "      <th>Attrition</th>\n",
       "    </tr>\n",
       "  </thead>\n",
       "  <tbody>\n",
       "    <tr>\n",
       "      <th>0</th>\n",
       "      <td>41</td>\n",
       "      <td>Travel_Rarely</td>\n",
       "      <td>5993</td>\n",
       "      <td>4</td>\n",
       "      <td>17979</td>\n",
       "      <td>Sales</td>\n",
       "      <td>1</td>\n",
       "      <td>2</td>\n",
       "      <td>Life Sciences</td>\n",
       "      <td>1</td>\n",
       "      <td>1</td>\n",
       "      <td>2</td>\n",
       "      <td>Female</td>\n",
       "      <td>2</td>\n",
       "      <td>Sales Executive</td>\n",
       "      <td>Single</td>\n",
       "      <td>3</td>\n",
       "      <td>0</td>\n",
       "      <td>0</td>\n",
       "      <td>1</td>\n",
       "      <td>6</td>\n",
       "      <td>0</td>\n",
       "      <td>Yes</td>\n",
       "      <td>Yes</td>\n",
       "    </tr>\n",
       "    <tr>\n",
       "      <th>1</th>\n",
       "      <td>49</td>\n",
       "      <td>Travel_Frequently</td>\n",
       "      <td>5130</td>\n",
       "      <td>2</td>\n",
       "      <td>20520</td>\n",
       "      <td>Research &amp; Development</td>\n",
       "      <td>8</td>\n",
       "      <td>1</td>\n",
       "      <td>Life Sciences</td>\n",
       "      <td>1</td>\n",
       "      <td>2</td>\n",
       "      <td>3</td>\n",
       "      <td>Male</td>\n",
       "      <td>2</td>\n",
       "      <td>Research Scientist</td>\n",
       "      <td>Married</td>\n",
       "      <td>4</td>\n",
       "      <td>1</td>\n",
       "      <td>3</td>\n",
       "      <td>3</td>\n",
       "      <td>10</td>\n",
       "      <td>1</td>\n",
       "      <td>No</td>\n",
       "      <td>No</td>\n",
       "    </tr>\n",
       "    <tr>\n",
       "      <th>2</th>\n",
       "      <td>37</td>\n",
       "      <td>Travel_Rarely</td>\n",
       "      <td>2090</td>\n",
       "      <td>3</td>\n",
       "      <td>6270</td>\n",
       "      <td>Research &amp; Development</td>\n",
       "      <td>2</td>\n",
       "      <td>2</td>\n",
       "      <td>Other</td>\n",
       "      <td>1</td>\n",
       "      <td>4</td>\n",
       "      <td>4</td>\n",
       "      <td>Male</td>\n",
       "      <td>1</td>\n",
       "      <td>Laboratory Technician</td>\n",
       "      <td>Single</td>\n",
       "      <td>3</td>\n",
       "      <td>0</td>\n",
       "      <td>3</td>\n",
       "      <td>3</td>\n",
       "      <td>0</td>\n",
       "      <td>0</td>\n",
       "      <td>Yes</td>\n",
       "      <td>Yes</td>\n",
       "    </tr>\n",
       "    <tr>\n",
       "      <th>3</th>\n",
       "      <td>33</td>\n",
       "      <td>Travel_Frequently</td>\n",
       "      <td>2909</td>\n",
       "      <td>3</td>\n",
       "      <td>8727</td>\n",
       "      <td>Research &amp; Development</td>\n",
       "      <td>3</td>\n",
       "      <td>4</td>\n",
       "      <td>Life Sciences</td>\n",
       "      <td>1</td>\n",
       "      <td>5</td>\n",
       "      <td>4</td>\n",
       "      <td>Female</td>\n",
       "      <td>1</td>\n",
       "      <td>Research Scientist</td>\n",
       "      <td>Married</td>\n",
       "      <td>3</td>\n",
       "      <td>0</td>\n",
       "      <td>3</td>\n",
       "      <td>3</td>\n",
       "      <td>8</td>\n",
       "      <td>3</td>\n",
       "      <td>Yes</td>\n",
       "      <td>No</td>\n",
       "    </tr>\n",
       "    <tr>\n",
       "      <th>4</th>\n",
       "      <td>27</td>\n",
       "      <td>Travel_Rarely</td>\n",
       "      <td>3468</td>\n",
       "      <td>2</td>\n",
       "      <td>10404</td>\n",
       "      <td>Research &amp; Development</td>\n",
       "      <td>2</td>\n",
       "      <td>1</td>\n",
       "      <td>Medical</td>\n",
       "      <td>1</td>\n",
       "      <td>7</td>\n",
       "      <td>1</td>\n",
       "      <td>Male</td>\n",
       "      <td>1</td>\n",
       "      <td>Laboratory Technician</td>\n",
       "      <td>Married</td>\n",
       "      <td>3</td>\n",
       "      <td>1</td>\n",
       "      <td>3</td>\n",
       "      <td>3</td>\n",
       "      <td>2</td>\n",
       "      <td>2</td>\n",
       "      <td>No</td>\n",
       "      <td>No</td>\n",
       "    </tr>\n",
       "    <tr>\n",
       "      <th>...</th>\n",
       "      <td>...</td>\n",
       "      <td>...</td>\n",
       "      <td>...</td>\n",
       "      <td>...</td>\n",
       "      <td>...</td>\n",
       "      <td>...</td>\n",
       "      <td>...</td>\n",
       "      <td>...</td>\n",
       "      <td>...</td>\n",
       "      <td>...</td>\n",
       "      <td>...</td>\n",
       "      <td>...</td>\n",
       "      <td>...</td>\n",
       "      <td>...</td>\n",
       "      <td>...</td>\n",
       "      <td>...</td>\n",
       "      <td>...</td>\n",
       "      <td>...</td>\n",
       "      <td>...</td>\n",
       "      <td>...</td>\n",
       "      <td>...</td>\n",
       "      <td>...</td>\n",
       "      <td>...</td>\n",
       "      <td>...</td>\n",
       "    </tr>\n",
       "    <tr>\n",
       "      <th>1465</th>\n",
       "      <td>36</td>\n",
       "      <td>Travel_Frequently</td>\n",
       "      <td>2571</td>\n",
       "      <td>4</td>\n",
       "      <td>7713</td>\n",
       "      <td>Research &amp; Development</td>\n",
       "      <td>23</td>\n",
       "      <td>2</td>\n",
       "      <td>Medical</td>\n",
       "      <td>1</td>\n",
       "      <td>2061</td>\n",
       "      <td>3</td>\n",
       "      <td>Male</td>\n",
       "      <td>2</td>\n",
       "      <td>Laboratory Technician</td>\n",
       "      <td>Married</td>\n",
       "      <td>3</td>\n",
       "      <td>1</td>\n",
       "      <td>3</td>\n",
       "      <td>3</td>\n",
       "      <td>5</td>\n",
       "      <td>0</td>\n",
       "      <td>No</td>\n",
       "      <td>No</td>\n",
       "    </tr>\n",
       "    <tr>\n",
       "      <th>1466</th>\n",
       "      <td>39</td>\n",
       "      <td>Travel_Rarely</td>\n",
       "      <td>9991</td>\n",
       "      <td>1</td>\n",
       "      <td>29973</td>\n",
       "      <td>Research &amp; Development</td>\n",
       "      <td>6</td>\n",
       "      <td>1</td>\n",
       "      <td>Medical</td>\n",
       "      <td>1</td>\n",
       "      <td>2062</td>\n",
       "      <td>4</td>\n",
       "      <td>Male</td>\n",
       "      <td>3</td>\n",
       "      <td>Healthcare Representative</td>\n",
       "      <td>Married</td>\n",
       "      <td>3</td>\n",
       "      <td>1</td>\n",
       "      <td>5</td>\n",
       "      <td>3</td>\n",
       "      <td>7</td>\n",
       "      <td>1</td>\n",
       "      <td>No</td>\n",
       "      <td>No</td>\n",
       "    </tr>\n",
       "    <tr>\n",
       "      <th>1467</th>\n",
       "      <td>27</td>\n",
       "      <td>Travel_Rarely</td>\n",
       "      <td>6142</td>\n",
       "      <td>2</td>\n",
       "      <td>24568</td>\n",
       "      <td>Research &amp; Development</td>\n",
       "      <td>4</td>\n",
       "      <td>3</td>\n",
       "      <td>Life Sciences</td>\n",
       "      <td>1</td>\n",
       "      <td>2064</td>\n",
       "      <td>2</td>\n",
       "      <td>Male</td>\n",
       "      <td>2</td>\n",
       "      <td>Manufacturing Director</td>\n",
       "      <td>Married</td>\n",
       "      <td>4</td>\n",
       "      <td>1</td>\n",
       "      <td>0</td>\n",
       "      <td>3</td>\n",
       "      <td>6</td>\n",
       "      <td>0</td>\n",
       "      <td>Yes</td>\n",
       "      <td>No</td>\n",
       "    </tr>\n",
       "    <tr>\n",
       "      <th>1468</th>\n",
       "      <td>49</td>\n",
       "      <td>Travel_Frequently</td>\n",
       "      <td>5390</td>\n",
       "      <td>2</td>\n",
       "      <td>16170</td>\n",
       "      <td>Sales</td>\n",
       "      <td>2</td>\n",
       "      <td>3</td>\n",
       "      <td>Medical</td>\n",
       "      <td>1</td>\n",
       "      <td>2065</td>\n",
       "      <td>4</td>\n",
       "      <td>Male</td>\n",
       "      <td>2</td>\n",
       "      <td>Sales Executive</td>\n",
       "      <td>Married</td>\n",
       "      <td>3</td>\n",
       "      <td>0</td>\n",
       "      <td>3</td>\n",
       "      <td>2</td>\n",
       "      <td>9</td>\n",
       "      <td>0</td>\n",
       "      <td>No</td>\n",
       "      <td>No</td>\n",
       "    </tr>\n",
       "    <tr>\n",
       "      <th>1469</th>\n",
       "      <td>34</td>\n",
       "      <td>Travel_Rarely</td>\n",
       "      <td>4404</td>\n",
       "      <td>3</td>\n",
       "      <td>13212</td>\n",
       "      <td>Research &amp; Development</td>\n",
       "      <td>8</td>\n",
       "      <td>3</td>\n",
       "      <td>Medical</td>\n",
       "      <td>1</td>\n",
       "      <td>2068</td>\n",
       "      <td>2</td>\n",
       "      <td>Male</td>\n",
       "      <td>2</td>\n",
       "      <td>Laboratory Technician</td>\n",
       "      <td>Married</td>\n",
       "      <td>3</td>\n",
       "      <td>0</td>\n",
       "      <td>3</td>\n",
       "      <td>4</td>\n",
       "      <td>4</td>\n",
       "      <td>1</td>\n",
       "      <td>No</td>\n",
       "      <td>No</td>\n",
       "    </tr>\n",
       "  </tbody>\n",
       "</table>\n",
       "<p>1470 rows × 24 columns</p>\n",
       "</div>"
      ],
      "text/plain": [
       "      Age     BusinessTravel  MonthlyIncome  JobSatisfaction  Bonus  \\\n",
       "0      41      Travel_Rarely           5993                4  17979   \n",
       "1      49  Travel_Frequently           5130                2  20520   \n",
       "2      37      Travel_Rarely           2090                3   6270   \n",
       "3      33  Travel_Frequently           2909                3   8727   \n",
       "4      27      Travel_Rarely           3468                2  10404   \n",
       "...   ...                ...            ...              ...    ...   \n",
       "1465   36  Travel_Frequently           2571                4   7713   \n",
       "1466   39      Travel_Rarely           9991                1  29973   \n",
       "1467   27      Travel_Rarely           6142                2  24568   \n",
       "1468   49  Travel_Frequently           5390                2  16170   \n",
       "1469   34      Travel_Rarely           4404                3  13212   \n",
       "\n",
       "                  Department  DistanceFromHome  Education EducationField  \\\n",
       "0                      Sales                 1          2  Life Sciences   \n",
       "1     Research & Development                 8          1  Life Sciences   \n",
       "2     Research & Development                 2          2          Other   \n",
       "3     Research & Development                 3          4  Life Sciences   \n",
       "4     Research & Development                 2          1        Medical   \n",
       "...                      ...               ...        ...            ...   \n",
       "1465  Research & Development                23          2        Medical   \n",
       "1466  Research & Development                 6          1        Medical   \n",
       "1467  Research & Development                 4          3  Life Sciences   \n",
       "1468                   Sales                 2          3        Medical   \n",
       "1469  Research & Development                 8          3        Medical   \n",
       "\n",
       "      EmployeeCount  EmployeeNumber  EnvironmentSatisfaction  Gender  \\\n",
       "0                 1               1                        2  Female   \n",
       "1                 1               2                        3    Male   \n",
       "2                 1               4                        4    Male   \n",
       "3                 1               5                        4  Female   \n",
       "4                 1               7                        1    Male   \n",
       "...             ...             ...                      ...     ...   \n",
       "1465              1            2061                        3    Male   \n",
       "1466              1            2062                        4    Male   \n",
       "1467              1            2064                        2    Male   \n",
       "1468              1            2065                        4    Male   \n",
       "1469              1            2068                        2    Male   \n",
       "\n",
       "      JobLevel                    JobRole MaritalStatus  PerformanceRating  \\\n",
       "0            2            Sales Executive        Single                  3   \n",
       "1            2         Research Scientist       Married                  4   \n",
       "2            1      Laboratory Technician        Single                  3   \n",
       "3            1         Research Scientist       Married                  3   \n",
       "4            1      Laboratory Technician       Married                  3   \n",
       "...        ...                        ...           ...                ...   \n",
       "1465         2      Laboratory Technician       Married                  3   \n",
       "1466         3  Healthcare Representative       Married                  3   \n",
       "1467         2     Manufacturing Director       Married                  4   \n",
       "1468         2            Sales Executive       Married                  3   \n",
       "1469         2      Laboratory Technician       Married                  3   \n",
       "\n",
       "      StockOptionLevel  TrainingTimesLastYear  WorkLifeBalance  \\\n",
       "0                    0                      0                1   \n",
       "1                    1                      3                3   \n",
       "2                    0                      3                3   \n",
       "3                    0                      3                3   \n",
       "4                    1                      3                3   \n",
       "...                ...                    ...              ...   \n",
       "1465                 1                      3                3   \n",
       "1466                 1                      5                3   \n",
       "1467                 1                      0                3   \n",
       "1468                 0                      3                2   \n",
       "1469                 0                      3                4   \n",
       "\n",
       "      YearsAtCompany  YearsSinceLastPromotion OverTime Attrition  \n",
       "0                  6                        0      Yes       Yes  \n",
       "1                 10                        1       No        No  \n",
       "2                  0                        0      Yes       Yes  \n",
       "3                  8                        3      Yes        No  \n",
       "4                  2                        2       No        No  \n",
       "...              ...                      ...      ...       ...  \n",
       "1465               5                        0       No        No  \n",
       "1466               7                        1       No        No  \n",
       "1467               6                        0      Yes        No  \n",
       "1468               9                        0       No        No  \n",
       "1469               4                        1       No        No  \n",
       "\n",
       "[1470 rows x 24 columns]"
      ]
     },
     "execution_count": 3,
     "metadata": {},
     "output_type": "execute_result"
    }
   ],
   "source": [
    "#Display full column\n",
    "pd.set_option('display.max_column',500)\n",
    "df"
   ]
  },
  {
   "cell_type": "code",
   "execution_count": 4,
   "metadata": {},
   "outputs": [
    {
     "data": {
      "text/plain": [
       "(1470, 24)"
      ]
     },
     "metadata": {},
     "output_type": "display_data"
    }
   ],
   "source": [
    "#A1: Attributes & Dimension\n",
    "display(df.shape)\n",
    "\n",
    "#The results shows a total of 24 attributes with 1470 rows."
   ]
  },
  {
   "cell_type": "code",
   "execution_count": 5,
   "metadata": {},
   "outputs": [
    {
     "data": {
      "text/plain": [
       "2"
      ]
     },
     "metadata": {},
     "output_type": "display_data"
    }
   ],
   "source": [
    "#A2: Dimension\n",
    "display(df.ndim)\n",
    "\n",
    "#It is a 2 dimension dataset"
   ]
  },
  {
   "cell_type": "code",
   "execution_count": 6,
   "metadata": {},
   "outputs": [
    {
     "name": "stdout",
     "output_type": "stream",
     "text": [
      "Average of Age:  36.92\n",
      "Average of Monthly Income:  6502.93\n",
      "Average of Years at Company:  7.01\n"
     ]
    }
   ],
   "source": [
    "#A3: Avg of 'Age','Monthly Income','Years at Company'\n",
    "avg_Age = round(df['Age'].mean(),2)\n",
    "avg_MonthlyIncome = round(df['MonthlyIncome'].mean(),2)\n",
    "avg_YearsAtCompany = round(df['YearsAtCompany'].mean(),2)\n",
    "\n",
    "print('Average of Age: ', avg_Age)\n",
    "print('Average of Monthly Income: ', avg_MonthlyIncome)\n",
    "print('Average of Years at Company: ', avg_YearsAtCompany)"
   ]
  },
  {
   "cell_type": "code",
   "execution_count": 7,
   "metadata": {},
   "outputs": [
    {
     "name": "stdout",
     "output_type": "stream",
     "text": [
      "Min Monthly Income:  1009\n",
      "Max Monthly Income:  19999\n"
     ]
    }
   ],
   "source": [
    "#A4: Min and max of Monthly Income\n",
    "min_MonthlyIncome = df['MonthlyIncome'].min()\n",
    "max_MonthlyIncome = df['MonthlyIncome'].max()\n",
    "print('Min Monthly Income: ', min_MonthlyIncome)\n",
    "print('Max Monthly Income: ', max_MonthlyIncome)"
   ]
  },
  {
   "cell_type": "code",
   "execution_count": 8,
   "metadata": {},
   "outputs": [
    {
     "data": {
      "text/plain": [
       "Text(0, 0.5, 'Total Staff')"
      ]
     },
     "execution_count": 8,
     "metadata": {},
     "output_type": "execute_result"
    },
    {
     "data": {
      "image/png": "[encoded data removed]",
      "text/plain": [
       "<Figure size 432x288 with 1 Axes>"
      ]
     },
     "metadata": {
      "needs_background": "light"
     },
     "output_type": "display_data"
    }
   ],
   "source": [
    "#A5: Histogram\n",
    "plt.hist(df['MonthlyIncome'])\n",
    "plt.title('Histogram of Monthly Income')\n",
    "plt.xlabel('Monthly Income')\n",
    "plt.ylabel('Total Staff')"
   ]
  },
  {
   "cell_type": "code",
   "execution_count": 9,
   "metadata": {},
   "outputs": [
    {
     "data": {
      "text/plain": [
       "Text(0, 0.5, 'Monthly Income')"
      ]
     },
     "execution_count": 9,
     "metadata": {},
     "output_type": "execute_result"
    },
    {
     "data": {
      "image/png": "[encoded data removed]",
      "text/plain": [
       "<Figure size 432x288 with 1 Axes>"
      ]
     },
     "metadata": {
      "needs_background": "light"
     },
     "output_type": "display_data"
    }
   ],
   "source": [
    "#A6: Scatter plot\n",
    "x = df['YearsAtCompany']\n",
    "y = df['MonthlyIncome']\n",
    "plt.scatter(x,y,label = 'Monthly Income VS Years at Company')\n",
    "plt.xlabel('Years at Company')\n",
    "plt.ylabel('Monthly Income')"
   ]
  },
  {
   "cell_type": "code",
   "execution_count": 10,
   "metadata": {},
   "outputs": [
    {
     "data": {
      "text/plain": [
       "array([[1.        , 0.51428483],\n",
       "       [0.51428483, 1.        ]])"
      ]
     },
     "execution_count": 10,
     "metadata": {},
     "output_type": "execute_result"
    }
   ],
   "source": [
    "#A7: Correlation\n",
    "corr = np.corrcoef(df['YearsAtCompany'], df['MonthlyIncome'])\n",
    "corr"
   ]
  },
  {
   "cell_type": "code",
   "execution_count": 11,
   "metadata": {},
   "outputs": [
    {
     "name": "stdout",
     "output_type": "stream",
     "text": [
      "18990\n"
     ]
    }
   ],
   "source": [
    "#A8.1: Range of Monthly Income\n",
    "range_MonthlyIncome = max_MonthlyIncome - min_MonthlyIncome\n",
    "print(range_MonthlyIncome)"
   ]
  },
  {
   "cell_type": "code",
   "execution_count": 12,
   "metadata": {},
   "outputs": [
    {
     "data": {
      "text/plain": [
       "2342     4\n",
       "6142     3\n",
       "2741     3\n",
       "2559     3\n",
       "2610     3\n",
       "        ..\n",
       "7104     1\n",
       "2773     1\n",
       "19513    1\n",
       "3447     1\n",
       "4404     1\n",
       "Name: MonthlyIncome, Length: 1349, dtype: int64"
      ]
     },
     "execution_count": 12,
     "metadata": {},
     "output_type": "execute_result"
    }
   ],
   "source": [
    "#A8.2: Most and least frequent of Monthly Income\n",
    "df.MonthlyIncome.value_counts()\n",
    "\n",
    "#the least frequent Monthly Income ranges from 1009 to 19999\n",
    "#while the most frequent is 2342"
   ]
  },
  {
   "cell_type": "code",
   "execution_count": 13,
   "metadata": {},
   "outputs": [
    {
     "name": "stdout",
     "output_type": "stream",
     "text": [
      "4919.0\n"
     ]
    }
   ],
   "source": [
    "#additional: find median of Monthly Income\n",
    "print(df['MonthlyIncome'].median())"
   ]
  },
  {
   "cell_type": "code",
   "execution_count": null,
   "metadata": {},
   "outputs": [],
   "source": [
    "#A8.3: Observation\n",
    "#Histogram of Monthly Income shows a right-skewed distribution which has a peak to the left of the distribution,\n",
    " #and data values that taper off to the right.\n",
    "#This distribution has a single peak and is also unimodal.\n",
    "#For a histogram that is skewed to the right, the mean is located to the right on the distribution\n",
    " #(mean = 6502.93) and is the largest value of the measures of central tendency.\n",
    "#The mean has the largest value because it is strongly affected by the outliers on the right tail\n",
    " #that pull the mean to the right.\n",
    "#The mode (mode = 2342) is the smallest value, and it is located to the left on the distribution.\n",
    " #The mode always occurs at the highest point of the peak.\n",
    "#The median (median = 4919) is located in between the mode and the mean."
   ]
  },
  {
   "cell_type": "code",
   "execution_count": null,
   "metadata": {},
   "outputs": [],
   "source": [
    "#A8.4\n",
    "#There is no linear relationship between Years at Company and Monthly Income\n",
    "#The positive correlation value of 0.51 indicates that both variables move in the same direction\n",
    "#In other words, as Years at Company increases, Monthly Income also increases\n",
    "#There is no apparent relationship between between Years at Company and Monthly Income\n",
    "#Both attributes cannot be represented using regression or classification models"
   ]
  },
  {
   "cell_type": "code",
   "execution_count": null,
   "metadata": {},
   "outputs": [],
   "source": []
  }
 ],
 "metadata": {
  "kernelspec": {
   "display_name": "Python 3",
   "language": "python",
   "name": "python3"
  },
  "language_info": {
   "codemirror_mode": {
    "name": "ipython",
    "version": 3
   },
   "file_extension": ".py",
   "mimetype": "text/x-python",
   "name": "python",
   "nbconvert_exporter": "python",
   "pygments_lexer": "ipython3",
   "version": "3.8.8"
  }
 },
 "nbformat": 4,
 "nbformat_minor": 2
}
