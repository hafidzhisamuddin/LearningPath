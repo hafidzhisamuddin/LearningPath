{
 "cells": [
  {
   "cell_type": "markdown",
   "id": "17f0fde0",
   "metadata": {},
   "source": [
    "##  Sections A. Conduct simple data exploration and data analysis on the given dataset "
   ]
  },
  {
   "cell_type": "code",
   "execution_count": 1,
   "id": "0be8bfa2",
   "metadata": {},
   "outputs": [],
   "source": [
    "#import libraries\n",
    "import numpy as np\n",
    "import pandas as pd\n",
    "import matplotlib.pyplot as plt\n",
    "%matplotlib inline"
   ]
  },
  {
   "cell_type": "code",
   "execution_count": 6,
   "id": "d24cc859",
   "metadata": {},
   "outputs": [
    {
     "data": {
      "text/html": [
       "<div>\n",
       "<style scoped>\n",
       "    .dataframe tbody tr th:only-of-type {\n",
       "        vertical-align: middle;\n",
       "    }\n",
       "\n",
       "    .dataframe tbody tr th {\n",
       "        vertical-align: top;\n",
       "    }\n",
       "\n",
       "    .dataframe thead th {\n",
       "        text-align: right;\n",
       "    }\n",
       "</style>\n",
       "<table border=\"1\" class=\"dataframe\">\n",
       "  <thead>\n",
       "    <tr style=\"text-align: right;\">\n",
       "      <th></th>\n",
       "      <th>Age</th>\n",
       "      <th>BusinessTravel</th>\n",
       "      <th>MonthlyIncome</th>\n",
       "      <th>JobSatisfaction</th>\n",
       "      <th>Bonus</th>\n",
       "      <th>Department</th>\n",
       "      <th>DistanceFromHome</th>\n",
       "      <th>Education</th>\n",
       "      <th>EducationField</th>\n",
       "      <th>EmployeeCount</th>\n",
       "      <th>EmployeeNumber</th>\n",
       "      <th>EnvironmentSatisfaction</th>\n",
       "      <th>Gender</th>\n",
       "      <th>JobLevel</th>\n",
       "      <th>JobRole</th>\n",
       "      <th>MaritalStatus</th>\n",
       "      <th>PerformanceRating</th>\n",
       "      <th>StockOptionLevel</th>\n",
       "      <th>TrainingTimesLastYear</th>\n",
       "      <th>WorkLifeBalance</th>\n",
       "      <th>YearsAtCompany</th>\n",
       "      <th>YearsSinceLastPromotion</th>\n",
       "      <th>OverTime</th>\n",
       "      <th>Attrition</th>\n",
       "    </tr>\n",
       "  </thead>\n",
       "  <tbody>\n",
       "    <tr>\n",
       "      <th>0</th>\n",
       "      <td>41</td>\n",
       "      <td>Travel_Rarely</td>\n",
       "      <td>5993</td>\n",
       "      <td>4</td>\n",
       "      <td>17979</td>\n",
       "      <td>Sales</td>\n",
       "      <td>1</td>\n",
       "      <td>2</td>\n",
       "      <td>Life Sciences</td>\n",
       "      <td>1</td>\n",
       "      <td>1</td>\n",
       "      <td>2</td>\n",
       "      <td>Female</td>\n",
       "      <td>2</td>\n",
       "      <td>Sales Executive</td>\n",
       "      <td>Single</td>\n",
       "      <td>3</td>\n",
       "      <td>0</td>\n",
       "      <td>0</td>\n",
       "      <td>1</td>\n",
       "      <td>6</td>\n",
       "      <td>0</td>\n",
       "      <td>Yes</td>\n",
       "      <td>Yes</td>\n",
       "    </tr>\n",
       "    <tr>\n",
       "      <th>1</th>\n",
       "      <td>49</td>\n",
       "      <td>Travel_Frequently</td>\n",
       "      <td>5130</td>\n",
       "      <td>2</td>\n",
       "      <td>20520</td>\n",
       "      <td>Research &amp; Development</td>\n",
       "      <td>8</td>\n",
       "      <td>1</td>\n",
       "      <td>Life Sciences</td>\n",
       "      <td>1</td>\n",
       "      <td>2</td>\n",
       "      <td>3</td>\n",
       "      <td>Male</td>\n",
       "      <td>2</td>\n",
       "      <td>Research Scientist</td>\n",
       "      <td>Married</td>\n",
       "      <td>4</td>\n",
       "      <td>1</td>\n",
       "      <td>3</td>\n",
       "      <td>3</td>\n",
       "      <td>10</td>\n",
       "      <td>1</td>\n",
       "      <td>No</td>\n",
       "      <td>No</td>\n",
       "    </tr>\n",
       "    <tr>\n",
       "      <th>2</th>\n",
       "      <td>37</td>\n",
       "      <td>Travel_Rarely</td>\n",
       "      <td>2090</td>\n",
       "      <td>3</td>\n",
       "      <td>6270</td>\n",
       "      <td>Research &amp; Development</td>\n",
       "      <td>2</td>\n",
       "      <td>2</td>\n",
       "      <td>Other</td>\n",
       "      <td>1</td>\n",
       "      <td>4</td>\n",
       "      <td>4</td>\n",
       "      <td>Male</td>\n",
       "      <td>1</td>\n",
       "      <td>Laboratory Technician</td>\n",
       "      <td>Single</td>\n",
       "      <td>3</td>\n",
       "      <td>0</td>\n",
       "      <td>3</td>\n",
       "      <td>3</td>\n",
       "      <td>0</td>\n",
       "      <td>0</td>\n",
       "      <td>Yes</td>\n",
       "      <td>Yes</td>\n",
       "    </tr>\n",
       "    <tr>\n",
       "      <th>3</th>\n",
       "      <td>33</td>\n",
       "      <td>Travel_Frequently</td>\n",
       "      <td>2909</td>\n",
       "      <td>3</td>\n",
       "      <td>8727</td>\n",
       "      <td>Research &amp; Development</td>\n",
       "      <td>3</td>\n",
       "      <td>4</td>\n",
       "      <td>Life Sciences</td>\n",
       "      <td>1</td>\n",
       "      <td>5</td>\n",
       "      <td>4</td>\n",
       "      <td>Female</td>\n",
       "      <td>1</td>\n",
       "      <td>Research Scientist</td>\n",
       "      <td>Married</td>\n",
       "      <td>3</td>\n",
       "      <td>0</td>\n",
       "      <td>3</td>\n",
       "      <td>3</td>\n",
       "      <td>8</td>\n",
       "      <td>3</td>\n",
       "      <td>Yes</td>\n",
       "      <td>No</td>\n",
       "    </tr>\n",
       "    <tr>\n",
       "      <th>4</th>\n",
       "      <td>27</td>\n",
       "      <td>Travel_Rarely</td>\n",
       "      <td>3468</td>\n",
       "      <td>2</td>\n",
       "      <td>10404</td>\n",
       "      <td>Research &amp; Development</td>\n",
       "      <td>2</td>\n",
       "      <td>1</td>\n",
       "      <td>Medical</td>\n",
       "      <td>1</td>\n",
       "      <td>7</td>\n",
       "      <td>1</td>\n",
       "      <td>Male</td>\n",
       "      <td>1</td>\n",
       "      <td>Laboratory Technician</td>\n",
       "      <td>Married</td>\n",
       "      <td>3</td>\n",
       "      <td>1</td>\n",
       "      <td>3</td>\n",
       "      <td>3</td>\n",
       "      <td>2</td>\n",
       "      <td>2</td>\n",
       "      <td>No</td>\n",
       "      <td>No</td>\n",
       "    </tr>\n",
       "    <tr>\n",
       "      <th>...</th>\n",
       "      <td>...</td>\n",
       "      <td>...</td>\n",
       "      <td>...</td>\n",
       "      <td>...</td>\n",
       "      <td>...</td>\n",
       "      <td>...</td>\n",
       "      <td>...</td>\n",
       "      <td>...</td>\n",
       "      <td>...</td>\n",
       "      <td>...</td>\n",
       "      <td>...</td>\n",
       "      <td>...</td>\n",
       "      <td>...</td>\n",
       "      <td>...</td>\n",
       "      <td>...</td>\n",
       "      <td>...</td>\n",
       "      <td>...</td>\n",
       "      <td>...</td>\n",
       "      <td>...</td>\n",
       "      <td>...</td>\n",
       "      <td>...</td>\n",
       "      <td>...</td>\n",
       "      <td>...</td>\n",
       "      <td>...</td>\n",
       "    </tr>\n",
       "    <tr>\n",
       "      <th>1465</th>\n",
       "      <td>36</td>\n",
       "      <td>Travel_Frequently</td>\n",
       "      <td>2571</td>\n",
       "      <td>4</td>\n",
       "      <td>7713</td>\n",
       "      <td>Research &amp; Development</td>\n",
       "      <td>23</td>\n",
       "      <td>2</td>\n",
       "      <td>Medical</td>\n",
       "      <td>1</td>\n",
       "      <td>2061</td>\n",
       "      <td>3</td>\n",
       "      <td>Male</td>\n",
       "      <td>2</td>\n",
       "      <td>Laboratory Technician</td>\n",
       "      <td>Married</td>\n",
       "      <td>3</td>\n",
       "      <td>1</td>\n",
       "      <td>3</td>\n",
       "      <td>3</td>\n",
       "      <td>5</td>\n",
       "      <td>0</td>\n",
       "      <td>No</td>\n",
       "      <td>No</td>\n",
       "    </tr>\n",
       "    <tr>\n",
       "      <th>1466</th>\n",
       "      <td>39</td>\n",
       "      <td>Travel_Rarely</td>\n",
       "      <td>9991</td>\n",
       "      <td>1</td>\n",
       "      <td>29973</td>\n",
       "      <td>Research &amp; Development</td>\n",
       "      <td>6</td>\n",
       "      <td>1</td>\n",
       "      <td>Medical</td>\n",
       "      <td>1</td>\n",
       "      <td>2062</td>\n",
       "      <td>4</td>\n",
       "      <td>Male</td>\n",
       "      <td>3</td>\n",
       "      <td>Healthcare Representative</td>\n",
       "      <td>Married</td>\n",
       "      <td>3</td>\n",
       "      <td>1</td>\n",
       "      <td>5</td>\n",
       "      <td>3</td>\n",
       "      <td>7</td>\n",
       "      <td>1</td>\n",
       "      <td>No</td>\n",
       "      <td>No</td>\n",
       "    </tr>\n",
       "    <tr>\n",
       "      <th>1467</th>\n",
       "      <td>27</td>\n",
       "      <td>Travel_Rarely</td>\n",
       "      <td>6142</td>\n",
       "      <td>2</td>\n",
       "      <td>24568</td>\n",
       "      <td>Research &amp; Development</td>\n",
       "      <td>4</td>\n",
       "      <td>3</td>\n",
       "      <td>Life Sciences</td>\n",
       "      <td>1</td>\n",
       "      <td>2064</td>\n",
       "      <td>2</td>\n",
       "      <td>Male</td>\n",
       "      <td>2</td>\n",
       "      <td>Manufacturing Director</td>\n",
       "      <td>Married</td>\n",
       "      <td>4</td>\n",
       "      <td>1</td>\n",
       "      <td>0</td>\n",
       "      <td>3</td>\n",
       "      <td>6</td>\n",
       "      <td>0</td>\n",
       "      <td>Yes</td>\n",
       "      <td>No</td>\n",
       "    </tr>\n",
       "    <tr>\n",
       "      <th>1468</th>\n",
       "      <td>49</td>\n",
       "      <td>Travel_Frequently</td>\n",
       "      <td>5390</td>\n",
       "      <td>2</td>\n",
       "      <td>16170</td>\n",
       "      <td>Sales</td>\n",
       "      <td>2</td>\n",
       "      <td>3</td>\n",
       "      <td>Medical</td>\n",
       "      <td>1</td>\n",
       "      <td>2065</td>\n",
       "      <td>4</td>\n",
       "      <td>Male</td>\n",
       "      <td>2</td>\n",
       "      <td>Sales Executive</td>\n",
       "      <td>Married</td>\n",
       "      <td>3</td>\n",
       "      <td>0</td>\n",
       "      <td>3</td>\n",
       "      <td>2</td>\n",
       "      <td>9</td>\n",
       "      <td>0</td>\n",
       "      <td>No</td>\n",
       "      <td>No</td>\n",
       "    </tr>\n",
       "    <tr>\n",
       "      <th>1469</th>\n",
       "      <td>34</td>\n",
       "      <td>Travel_Rarely</td>\n",
       "      <td>4404</td>\n",
       "      <td>3</td>\n",
       "      <td>13212</td>\n",
       "      <td>Research &amp; Development</td>\n",
       "      <td>8</td>\n",
       "      <td>3</td>\n",
       "      <td>Medical</td>\n",
       "      <td>1</td>\n",
       "      <td>2068</td>\n",
       "      <td>2</td>\n",
       "      <td>Male</td>\n",
       "      <td>2</td>\n",
       "      <td>Laboratory Technician</td>\n",
       "      <td>Married</td>\n",
       "      <td>3</td>\n",
       "      <td>0</td>\n",
       "      <td>3</td>\n",
       "      <td>4</td>\n",
       "      <td>4</td>\n",
       "      <td>1</td>\n",
       "      <td>No</td>\n",
       "      <td>No</td>\n",
       "    </tr>\n",
       "  </tbody>\n",
       "</table>\n",
       "<p>1470 rows × 24 columns</p>\n",
       "</div>"
      ],
      "text/plain": [
       "      Age     BusinessTravel  MonthlyIncome  JobSatisfaction  Bonus  \\\n",
       "0      41      Travel_Rarely           5993                4  17979   \n",
       "1      49  Travel_Frequently           5130                2  20520   \n",
       "2      37      Travel_Rarely           2090                3   6270   \n",
       "3      33  Travel_Frequently           2909                3   8727   \n",
       "4      27      Travel_Rarely           3468                2  10404   \n",
       "...   ...                ...            ...              ...    ...   \n",
       "1465   36  Travel_Frequently           2571                4   7713   \n",
       "1466   39      Travel_Rarely           9991                1  29973   \n",
       "1467   27      Travel_Rarely           6142                2  24568   \n",
       "1468   49  Travel_Frequently           5390                2  16170   \n",
       "1469   34      Travel_Rarely           4404                3  13212   \n",
       "\n",
       "                  Department  DistanceFromHome  Education EducationField  \\\n",
       "0                      Sales                 1          2  Life Sciences   \n",
       "1     Research & Development                 8          1  Life Sciences   \n",
       "2     Research & Development                 2          2          Other   \n",
       "3     Research & Development                 3          4  Life Sciences   \n",
       "4     Research & Development                 2          1        Medical   \n",
       "...                      ...               ...        ...            ...   \n",
       "1465  Research & Development                23          2        Medical   \n",
       "1466  Research & Development                 6          1        Medical   \n",
       "1467  Research & Development                 4          3  Life Sciences   \n",
       "1468                   Sales                 2          3        Medical   \n",
       "1469  Research & Development                 8          3        Medical   \n",
       "\n",
       "      EmployeeCount  EmployeeNumber  EnvironmentSatisfaction  Gender  \\\n",
       "0                 1               1                        2  Female   \n",
       "1                 1               2                        3    Male   \n",
       "2                 1               4                        4    Male   \n",
       "3                 1               5                        4  Female   \n",
       "4                 1               7                        1    Male   \n",
       "...             ...             ...                      ...     ...   \n",
       "1465              1            2061                        3    Male   \n",
       "1466              1            2062                        4    Male   \n",
       "1467              1            2064                        2    Male   \n",
       "1468              1            2065                        4    Male   \n",
       "1469              1            2068                        2    Male   \n",
       "\n",
       "      JobLevel                    JobRole MaritalStatus  PerformanceRating  \\\n",
       "0            2            Sales Executive        Single                  3   \n",
       "1            2         Research Scientist       Married                  4   \n",
       "2            1      Laboratory Technician        Single                  3   \n",
       "3            1         Research Scientist       Married                  3   \n",
       "4            1      Laboratory Technician       Married                  3   \n",
       "...        ...                        ...           ...                ...   \n",
       "1465         2      Laboratory Technician       Married                  3   \n",
       "1466         3  Healthcare Representative       Married                  3   \n",
       "1467         2     Manufacturing Director       Married                  4   \n",
       "1468         2            Sales Executive       Married                  3   \n",
       "1469         2      Laboratory Technician       Married                  3   \n",
       "\n",
       "      StockOptionLevel  TrainingTimesLastYear  WorkLifeBalance  \\\n",
       "0                    0                      0                1   \n",
       "1                    1                      3                3   \n",
       "2                    0                      3                3   \n",
       "3                    0                      3                3   \n",
       "4                    1                      3                3   \n",
       "...                ...                    ...              ...   \n",
       "1465                 1                      3                3   \n",
       "1466                 1                      5                3   \n",
       "1467                 1                      0                3   \n",
       "1468                 0                      3                2   \n",
       "1469                 0                      3                4   \n",
       "\n",
       "      YearsAtCompany  YearsSinceLastPromotion OverTime Attrition  \n",
       "0                  6                        0      Yes       Yes  \n",
       "1                 10                        1       No        No  \n",
       "2                  0                        0      Yes       Yes  \n",
       "3                  8                        3      Yes        No  \n",
       "4                  2                        2       No        No  \n",
       "...              ...                      ...      ...       ...  \n",
       "1465               5                        0       No        No  \n",
       "1466               7                        1       No        No  \n",
       "1467               6                        0      Yes        No  \n",
       "1468               9                        0       No        No  \n",
       "1469               4                        1       No        No  \n",
       "\n",
       "[1470 rows x 24 columns]"
      ]
     },
     "execution_count": 6,
     "metadata": {},
     "output_type": "execute_result"
    }
   ],
   "source": [
    "# Import dataset\n",
    "\n",
    "df = pd.read_csv('exam_dataset.csv')\n",
    "\n",
    "pd.set_option('display.max_column',500)\n",
    "df"
   ]
  },
  {
   "cell_type": "code",
   "execution_count": 9,
   "id": "18fb8304",
   "metadata": {},
   "outputs": [
    {
     "data": {
      "text/plain": [
       "(1470, 24)"
      ]
     },
     "metadata": {},
     "output_type": "display_data"
    },
    {
     "name": "stdout",
     "output_type": "stream",
     "text": [
      "The number of attribute  is :  24\n"
     ]
    }
   ],
   "source": [
    "# 1) Display the number of attributes available in the dataset (exam_dataset.csv)?\n",
    "\n",
    "display(df.shape)\n",
    "\n",
    "print('The number of attribute  is : ',len(df.columns))"
   ]
  },
  {
   "cell_type": "code",
   "execution_count": 12,
   "id": "b25ab374",
   "metadata": {},
   "outputs": [
    {
     "name": "stdout",
     "output_type": "stream",
     "text": [
      "The dimension of this dataset: 2\n"
     ]
    }
   ],
   "source": [
    "# 2) Find the dimension number of this dataset\n",
    "\n",
    "print('The dimension of this dataset:', df.ndim)"
   ]
  },
  {
   "cell_type": "code",
   "execution_count": 13,
   "id": "0745b75d",
   "metadata": {},
   "outputs": [
    {
     "name": "stdout",
     "output_type": "stream",
     "text": [
      "Average of Age: 36.92\n",
      "Average of Monthly Income: 6502.93\n",
      "Average of Years At Company: 7.01\n"
     ]
    }
   ],
   "source": [
    "# 3) Display the average of these attributes: ‘Age’, ‘Monthly Income’ and ‘Years at  Company’.\n",
    "# Be sure to round your answer to 2 decimal places\n",
    "\n",
    "age_avg = np.average(df['Age'])\n",
    "income_avg = np.average(df['MonthlyIncome'])\n",
    "years_avg = np.average(df['YearsAtCompany'])\n",
    "\n",
    "print('Average of Age:', round (age_avg, 2))\n",
    "print('Average of Monthly Income:', round(income_avg, 2))\n",
    "print('Average of Years At Company:', round(years_avg, 2))\n"
   ]
  },
  {
   "cell_type": "code",
   "execution_count": 15,
   "id": "9d251d09",
   "metadata": {},
   "outputs": [
    {
     "name": "stdout",
     "output_type": "stream",
     "text": [
      "Minimum of monthly income:  1009\n",
      "Maximum of monthly income:  19999\n"
     ]
    }
   ],
   "source": [
    "# 4) Find the minimum and maximum ‘Monthly Income’\n",
    "\n",
    "min_monthlyincome = min(df['MonthlyIncome'])\n",
    "max_monthlyincome = max(df['MonthlyIncome'])\n",
    "\n",
    "print('The minimum of monthly income: ', min_monthlyincome)\n",
    "print('The maximum of monthly income: ', max_monthlyincome)"
   ]
  },
  {
   "cell_type": "code",
   "execution_count": 17,
   "id": "bee750d7",
   "metadata": {},
   "outputs": [
    {
     "data": {
      "text/plain": [
       "Text(0, 0.5, 'Staff Numbers')"
      ]
     },
     "execution_count": 17,
     "metadata": {},
     "output_type": "execute_result"
    },
    {
     "data": {
      "image/png": "[encoded data removed]",
      "text/plain": [
       "<Figure size 432x288 with 1 Axes>"
      ]
     },
     "metadata": {
      "needs_background": "light"
     },
     "output_type": "display_data"
    }
   ],
   "source": [
    "# 5) Provide graphical visualization by plotting Histogram of ‘Monthly Income vs staff numbers’\n",
    "\n",
    "plt.hist(df['MonthlyIncome'])\n",
    "plt.title('Histogram of Monthly Income')\n",
    "plt.xlabel('Monthly Income')\n",
    "plt.ylabel('Staff Numbers')"
   ]
  },
  {
   "cell_type": "code",
   "execution_count": 18,
   "id": "ecab3673",
   "metadata": {},
   "outputs": [
    {
     "data": {
      "text/plain": [
       "Text(0, 0.5, 'Monthly Income')"
      ]
     },
     "execution_count": 18,
     "metadata": {},
     "output_type": "execute_result"
    },
    {
     "data": {
      "image/png": "[encoded data removed]",
      "text/plain": [
       "<Figure size 432x288 with 1 Axes>"
      ]
     },
     "metadata": {
      "needs_background": "light"
     },
     "output_type": "display_data"
    }
   ],
   "source": [
    "# 6) Provide graphical Visualization of the distribution between ‘Year at Company’ and ‘Monthly Income’ using the scatter plot\n",
    "\n",
    "x = df['YearsAtCompany']\n",
    "y = df['MonthlyIncome']\n",
    "\n",
    "plt.scatter(x,y,label = 'Scatter Plot of Monthly Income VS Years at Company')\n",
    "plt.xlabel('Years at Company')\n",
    "plt.ylabel('Monthly Income')"
   ]
  },
  {
   "cell_type": "code",
   "execution_count": 23,
   "id": "5a706f9f",
   "metadata": {},
   "outputs": [
    {
     "name": "stdout",
     "output_type": "stream",
     "text": [
      "[[1.         0.51428483]\n",
      " [0.51428483 1.        ]]\n",
      "The correlation coefficient between ‘Years at Company’ and ‘Monthly Income’:  0.51428483 \n"
     ]
    }
   ],
   "source": [
    "# 7) Find the correlation between ‘Years at Company’ and ‘Monthly Income’\n",
    "\n",
    "corr = np.corrcoef(df['YearsAtCompany'], df['MonthlyIncome'])\n",
    "print(corr)\n",
    "print('The correlation coefficient between ‘Years at Company’ and ‘Monthly Income’:  0.51428483 ')"
   ]
  },
  {
   "cell_type": "code",
   "execution_count": 25,
   "id": "e1fa8b1c",
   "metadata": {},
   "outputs": [
    {
     "name": "stdout",
     "output_type": "stream",
     "text": [
      "Range of monthly income at company A: 18990\n"
     ]
    }
   ],
   "source": [
    "# 8 a) Range of monthly income at Company A\n",
    "\n",
    "income_range = max_monthlyincome - min_monthlyincome\n",
    "print('The range of monthly income at company A:', income_range)"
   ]
  },
  {
   "cell_type": "code",
   "execution_count": 28,
   "id": "50581c51",
   "metadata": {},
   "outputs": [
    {
     "name": "stdout",
     "output_type": "stream",
     "text": [
      "Median of Monthly Income at Company A: 4919.0\n",
      "Mean of Monthly Income at Company A: 6502.93\n",
      "Most Frequent income value at Company A: 2342\n",
      "Most and Least Frequent income value at Company A:\n"
     ]
    },
    {
     "data": {
      "text/plain": [
       "2342     4\n",
       "6142     3\n",
       "2741     3\n",
       "2559     3\n",
       "2610     3\n",
       "        ..\n",
       "7104     1\n",
       "2773     1\n",
       "19513    1\n",
       "3447     1\n",
       "4404     1\n",
       "Name: MonthlyIncome, Length: 1349, dtype: int64"
      ]
     },
     "execution_count": 28,
     "metadata": {},
     "output_type": "execute_result"
    }
   ],
   "source": [
    "# 8 b) Most and Least Frequent monthly income values at Company A\n",
    "\n",
    "from statistics import mode, median, mean\n",
    "\n",
    "income_median = median(df['MonthlyIncome'])\n",
    "print('Median of Monthly Income at Company A:', income_median)\n",
    "income_mean = mean(df['MonthlyIncome'])\n",
    "print('Mean of Monthly Income at Company A:', round(income_mean,2))\n",
    "frequent = mode(df['MonthlyIncome'])\n",
    "print('Most Frequent income value at Company A:', frequent)\n",
    "\n",
    "print('Most and Least Frequent income value at Company A:')\n",
    "df['MonthlyIncome'].value_counts()\n"
   ]
  },
  {
   "cell_type": "code",
   "execution_count": null,
   "id": "91b446b1",
   "metadata": {},
   "outputs": [],
   "source": [
    "# 8 c) Discuss your observation on the distribution of monthly income values"
   ]
  },
  {
   "cell_type": "markdown",
   "id": "5d5ccfa2",
   "metadata": {},
   "source": [
    "- Based on the histogram, it shows that the data is right skewed and not normally distributed\n",
    "- The distribution of monthly income values is positively skewed. We can see that the monthly income values are mostly clustered around the left tail of the distribution while the right tail of the distribution is longer.(mode=2342, median=4919.0, mean=6502.93)\n",
    "- The  median is 4919 but the mean is 6502 meaning that there are few outliers who has big income as what seen in the histogram\n"
   ]
  },
  {
   "cell_type": "code",
   "execution_count": null,
   "id": "991ba731",
   "metadata": {},
   "outputs": [],
   "source": [
    "# 8 d) Is there a linear relationship between monthly income and employees’ individual years at the company? "
   ]
  },
  {
   "cell_type": "markdown",
   "id": "1748b5cb",
   "metadata": {},
   "source": [
    "- The correlation between \"MonthlyIncome\" and \"YearAtCompany\" is a positive correlation but not very strong and weak at 0.5142848. \n",
    "- Hence, we can say that the results shows a weak and poor relationship between monthly income and years at company. This shows that montly income have a low impact to the years at company A.\n"
   ]
  },
  {
   "cell_type": "markdown",
   "id": "77340856",
   "metadata": {},
   "source": [
    "## Section B. Classification using Naïve Bayes for: ‘Age’, ‘BusinessTravel’, ‘MonthlyIncome’ and ‘JobSatisfaction’ to predict ‘Attrition"
   ]
  },
  {
   "cell_type": "code",
   "execution_count": 29,
   "id": "635c86c3",
   "metadata": {},
   "outputs": [],
   "source": [
    "# 1) Import necessary libraries \n",
    "\n",
    "import numpy as np\n",
    "import pandas as pd\n",
    "import matplotlib.pyplot as plt\n",
    "%matplotlib inline"
   ]
  },
  {
   "cell_type": "code",
   "execution_count": 30,
   "id": "bfdbb7ea",
   "metadata": {},
   "outputs": [
    {
     "data": {
      "text/html": [
       "<div>\n",
       "<style scoped>\n",
       "    .dataframe tbody tr th:only-of-type {\n",
       "        vertical-align: middle;\n",
       "    }\n",
       "\n",
       "    .dataframe tbody tr th {\n",
       "        vertical-align: top;\n",
       "    }\n",
       "\n",
       "    .dataframe thead th {\n",
       "        text-align: right;\n",
       "    }\n",
       "</style>\n",
       "<table border=\"1\" class=\"dataframe\">\n",
       "  <thead>\n",
       "    <tr style=\"text-align: right;\">\n",
       "      <th></th>\n",
       "      <th>Age</th>\n",
       "      <th>BusinessTravel</th>\n",
       "      <th>MonthlyIncome</th>\n",
       "      <th>JobSatisfaction</th>\n",
       "      <th>Bonus</th>\n",
       "      <th>Department</th>\n",
       "      <th>DistanceFromHome</th>\n",
       "      <th>Education</th>\n",
       "      <th>EducationField</th>\n",
       "      <th>EmployeeCount</th>\n",
       "      <th>EmployeeNumber</th>\n",
       "      <th>EnvironmentSatisfaction</th>\n",
       "      <th>Gender</th>\n",
       "      <th>JobLevel</th>\n",
       "      <th>JobRole</th>\n",
       "      <th>MaritalStatus</th>\n",
       "      <th>PerformanceRating</th>\n",
       "      <th>StockOptionLevel</th>\n",
       "      <th>TrainingTimesLastYear</th>\n",
       "      <th>WorkLifeBalance</th>\n",
       "      <th>YearsAtCompany</th>\n",
       "      <th>YearsSinceLastPromotion</th>\n",
       "      <th>OverTime</th>\n",
       "      <th>Attrition</th>\n",
       "    </tr>\n",
       "  </thead>\n",
       "  <tbody>\n",
       "    <tr>\n",
       "      <th>0</th>\n",
       "      <td>41</td>\n",
       "      <td>Travel_Rarely</td>\n",
       "      <td>5993</td>\n",
       "      <td>4</td>\n",
       "      <td>17979</td>\n",
       "      <td>Sales</td>\n",
       "      <td>1</td>\n",
       "      <td>2</td>\n",
       "      <td>Life Sciences</td>\n",
       "      <td>1</td>\n",
       "      <td>1</td>\n",
       "      <td>2</td>\n",
       "      <td>Female</td>\n",
       "      <td>2</td>\n",
       "      <td>Sales Executive</td>\n",
       "      <td>Single</td>\n",
       "      <td>3</td>\n",
       "      <td>0</td>\n",
       "      <td>0</td>\n",
       "      <td>1</td>\n",
       "      <td>6</td>\n",
       "      <td>0</td>\n",
       "      <td>Yes</td>\n",
       "      <td>Yes</td>\n",
       "    </tr>\n",
       "    <tr>\n",
       "      <th>1</th>\n",
       "      <td>49</td>\n",
       "      <td>Travel_Frequently</td>\n",
       "      <td>5130</td>\n",
       "      <td>2</td>\n",
       "      <td>20520</td>\n",
       "      <td>Research &amp; Development</td>\n",
       "      <td>8</td>\n",
       "      <td>1</td>\n",
       "      <td>Life Sciences</td>\n",
       "      <td>1</td>\n",
       "      <td>2</td>\n",
       "      <td>3</td>\n",
       "      <td>Male</td>\n",
       "      <td>2</td>\n",
       "      <td>Research Scientist</td>\n",
       "      <td>Married</td>\n",
       "      <td>4</td>\n",
       "      <td>1</td>\n",
       "      <td>3</td>\n",
       "      <td>3</td>\n",
       "      <td>10</td>\n",
       "      <td>1</td>\n",
       "      <td>No</td>\n",
       "      <td>No</td>\n",
       "    </tr>\n",
       "    <tr>\n",
       "      <th>2</th>\n",
       "      <td>37</td>\n",
       "      <td>Travel_Rarely</td>\n",
       "      <td>2090</td>\n",
       "      <td>3</td>\n",
       "      <td>6270</td>\n",
       "      <td>Research &amp; Development</td>\n",
       "      <td>2</td>\n",
       "      <td>2</td>\n",
       "      <td>Other</td>\n",
       "      <td>1</td>\n",
       "      <td>4</td>\n",
       "      <td>4</td>\n",
       "      <td>Male</td>\n",
       "      <td>1</td>\n",
       "      <td>Laboratory Technician</td>\n",
       "      <td>Single</td>\n",
       "      <td>3</td>\n",
       "      <td>0</td>\n",
       "      <td>3</td>\n",
       "      <td>3</td>\n",
       "      <td>0</td>\n",
       "      <td>0</td>\n",
       "      <td>Yes</td>\n",
       "      <td>Yes</td>\n",
       "    </tr>\n",
       "    <tr>\n",
       "      <th>3</th>\n",
       "      <td>33</td>\n",
       "      <td>Travel_Frequently</td>\n",
       "      <td>2909</td>\n",
       "      <td>3</td>\n",
       "      <td>8727</td>\n",
       "      <td>Research &amp; Development</td>\n",
       "      <td>3</td>\n",
       "      <td>4</td>\n",
       "      <td>Life Sciences</td>\n",
       "      <td>1</td>\n",
       "      <td>5</td>\n",
       "      <td>4</td>\n",
       "      <td>Female</td>\n",
       "      <td>1</td>\n",
       "      <td>Research Scientist</td>\n",
       "      <td>Married</td>\n",
       "      <td>3</td>\n",
       "      <td>0</td>\n",
       "      <td>3</td>\n",
       "      <td>3</td>\n",
       "      <td>8</td>\n",
       "      <td>3</td>\n",
       "      <td>Yes</td>\n",
       "      <td>No</td>\n",
       "    </tr>\n",
       "    <tr>\n",
       "      <th>4</th>\n",
       "      <td>27</td>\n",
       "      <td>Travel_Rarely</td>\n",
       "      <td>3468</td>\n",
       "      <td>2</td>\n",
       "      <td>10404</td>\n",
       "      <td>Research &amp; Development</td>\n",
       "      <td>2</td>\n",
       "      <td>1</td>\n",
       "      <td>Medical</td>\n",
       "      <td>1</td>\n",
       "      <td>7</td>\n",
       "      <td>1</td>\n",
       "      <td>Male</td>\n",
       "      <td>1</td>\n",
       "      <td>Laboratory Technician</td>\n",
       "      <td>Married</td>\n",
       "      <td>3</td>\n",
       "      <td>1</td>\n",
       "      <td>3</td>\n",
       "      <td>3</td>\n",
       "      <td>2</td>\n",
       "      <td>2</td>\n",
       "      <td>No</td>\n",
       "      <td>No</td>\n",
       "    </tr>\n",
       "    <tr>\n",
       "      <th>...</th>\n",
       "      <td>...</td>\n",
       "      <td>...</td>\n",
       "      <td>...</td>\n",
       "      <td>...</td>\n",
       "      <td>...</td>\n",
       "      <td>...</td>\n",
       "      <td>...</td>\n",
       "      <td>...</td>\n",
       "      <td>...</td>\n",
       "      <td>...</td>\n",
       "      <td>...</td>\n",
       "      <td>...</td>\n",
       "      <td>...</td>\n",
       "      <td>...</td>\n",
       "      <td>...</td>\n",
       "      <td>...</td>\n",
       "      <td>...</td>\n",
       "      <td>...</td>\n",
       "      <td>...</td>\n",
       "      <td>...</td>\n",
       "      <td>...</td>\n",
       "      <td>...</td>\n",
       "      <td>...</td>\n",
       "      <td>...</td>\n",
       "    </tr>\n",
       "    <tr>\n",
       "      <th>1465</th>\n",
       "      <td>36</td>\n",
       "      <td>Travel_Frequently</td>\n",
       "      <td>2571</td>\n",
       "      <td>4</td>\n",
       "      <td>7713</td>\n",
       "      <td>Research &amp; Development</td>\n",
       "      <td>23</td>\n",
       "      <td>2</td>\n",
       "      <td>Medical</td>\n",
       "      <td>1</td>\n",
       "      <td>2061</td>\n",
       "      <td>3</td>\n",
       "      <td>Male</td>\n",
       "      <td>2</td>\n",
       "      <td>Laboratory Technician</td>\n",
       "      <td>Married</td>\n",
       "      <td>3</td>\n",
       "      <td>1</td>\n",
       "      <td>3</td>\n",
       "      <td>3</td>\n",
       "      <td>5</td>\n",
       "      <td>0</td>\n",
       "      <td>No</td>\n",
       "      <td>No</td>\n",
       "    </tr>\n",
       "    <tr>\n",
       "      <th>1466</th>\n",
       "      <td>39</td>\n",
       "      <td>Travel_Rarely</td>\n",
       "      <td>9991</td>\n",
       "      <td>1</td>\n",
       "      <td>29973</td>\n",
       "      <td>Research &amp; Development</td>\n",
       "      <td>6</td>\n",
       "      <td>1</td>\n",
       "      <td>Medical</td>\n",
       "      <td>1</td>\n",
       "      <td>2062</td>\n",
       "      <td>4</td>\n",
       "      <td>Male</td>\n",
       "      <td>3</td>\n",
       "      <td>Healthcare Representative</td>\n",
       "      <td>Married</td>\n",
       "      <td>3</td>\n",
       "      <td>1</td>\n",
       "      <td>5</td>\n",
       "      <td>3</td>\n",
       "      <td>7</td>\n",
       "      <td>1</td>\n",
       "      <td>No</td>\n",
       "      <td>No</td>\n",
       "    </tr>\n",
       "    <tr>\n",
       "      <th>1467</th>\n",
       "      <td>27</td>\n",
       "      <td>Travel_Rarely</td>\n",
       "      <td>6142</td>\n",
       "      <td>2</td>\n",
       "      <td>24568</td>\n",
       "      <td>Research &amp; Development</td>\n",
       "      <td>4</td>\n",
       "      <td>3</td>\n",
       "      <td>Life Sciences</td>\n",
       "      <td>1</td>\n",
       "      <td>2064</td>\n",
       "      <td>2</td>\n",
       "      <td>Male</td>\n",
       "      <td>2</td>\n",
       "      <td>Manufacturing Director</td>\n",
       "      <td>Married</td>\n",
       "      <td>4</td>\n",
       "      <td>1</td>\n",
       "      <td>0</td>\n",
       "      <td>3</td>\n",
       "      <td>6</td>\n",
       "      <td>0</td>\n",
       "      <td>Yes</td>\n",
       "      <td>No</td>\n",
       "    </tr>\n",
       "    <tr>\n",
       "      <th>1468</th>\n",
       "      <td>49</td>\n",
       "      <td>Travel_Frequently</td>\n",
       "      <td>5390</td>\n",
       "      <td>2</td>\n",
       "      <td>16170</td>\n",
       "      <td>Sales</td>\n",
       "      <td>2</td>\n",
       "      <td>3</td>\n",
       "      <td>Medical</td>\n",
       "      <td>1</td>\n",
       "      <td>2065</td>\n",
       "      <td>4</td>\n",
       "      <td>Male</td>\n",
       "      <td>2</td>\n",
       "      <td>Sales Executive</td>\n",
       "      <td>Married</td>\n",
       "      <td>3</td>\n",
       "      <td>0</td>\n",
       "      <td>3</td>\n",
       "      <td>2</td>\n",
       "      <td>9</td>\n",
       "      <td>0</td>\n",
       "      <td>No</td>\n",
       "      <td>No</td>\n",
       "    </tr>\n",
       "    <tr>\n",
       "      <th>1469</th>\n",
       "      <td>34</td>\n",
       "      <td>Travel_Rarely</td>\n",
       "      <td>4404</td>\n",
       "      <td>3</td>\n",
       "      <td>13212</td>\n",
       "      <td>Research &amp; Development</td>\n",
       "      <td>8</td>\n",
       "      <td>3</td>\n",
       "      <td>Medical</td>\n",
       "      <td>1</td>\n",
       "      <td>2068</td>\n",
       "      <td>2</td>\n",
       "      <td>Male</td>\n",
       "      <td>2</td>\n",
       "      <td>Laboratory Technician</td>\n",
       "      <td>Married</td>\n",
       "      <td>3</td>\n",
       "      <td>0</td>\n",
       "      <td>3</td>\n",
       "      <td>4</td>\n",
       "      <td>4</td>\n",
       "      <td>1</td>\n",
       "      <td>No</td>\n",
       "      <td>No</td>\n",
       "    </tr>\n",
       "  </tbody>\n",
       "</table>\n",
       "<p>1470 rows × 24 columns</p>\n",
       "</div>"
      ],
      "text/plain": [
       "      Age     BusinessTravel  MonthlyIncome  JobSatisfaction  Bonus  \\\n",
       "0      41      Travel_Rarely           5993                4  17979   \n",
       "1      49  Travel_Frequently           5130                2  20520   \n",
       "2      37      Travel_Rarely           2090                3   6270   \n",
       "3      33  Travel_Frequently           2909                3   8727   \n",
       "4      27      Travel_Rarely           3468                2  10404   \n",
       "...   ...                ...            ...              ...    ...   \n",
       "1465   36  Travel_Frequently           2571                4   7713   \n",
       "1466   39      Travel_Rarely           9991                1  29973   \n",
       "1467   27      Travel_Rarely           6142                2  24568   \n",
       "1468   49  Travel_Frequently           5390                2  16170   \n",
       "1469   34      Travel_Rarely           4404                3  13212   \n",
       "\n",
       "                  Department  DistanceFromHome  Education EducationField  \\\n",
       "0                      Sales                 1          2  Life Sciences   \n",
       "1     Research & Development                 8          1  Life Sciences   \n",
       "2     Research & Development                 2          2          Other   \n",
       "3     Research & Development                 3          4  Life Sciences   \n",
       "4     Research & Development                 2          1        Medical   \n",
       "...                      ...               ...        ...            ...   \n",
       "1465  Research & Development                23          2        Medical   \n",
       "1466  Research & Development                 6          1        Medical   \n",
       "1467  Research & Development                 4          3  Life Sciences   \n",
       "1468                   Sales                 2          3        Medical   \n",
       "1469  Research & Development                 8          3        Medical   \n",
       "\n",
       "      EmployeeCount  EmployeeNumber  EnvironmentSatisfaction  Gender  \\\n",
       "0                 1               1                        2  Female   \n",
       "1                 1               2                        3    Male   \n",
       "2                 1               4                        4    Male   \n",
       "3                 1               5                        4  Female   \n",
       "4                 1               7                        1    Male   \n",
       "...             ...             ...                      ...     ...   \n",
       "1465              1            2061                        3    Male   \n",
       "1466              1            2062                        4    Male   \n",
       "1467              1            2064                        2    Male   \n",
       "1468              1            2065                        4    Male   \n",
       "1469              1            2068                        2    Male   \n",
       "\n",
       "      JobLevel                    JobRole MaritalStatus  PerformanceRating  \\\n",
       "0            2            Sales Executive        Single                  3   \n",
       "1            2         Research Scientist       Married                  4   \n",
       "2            1      Laboratory Technician        Single                  3   \n",
       "3            1         Research Scientist       Married                  3   \n",
       "4            1      Laboratory Technician       Married                  3   \n",
       "...        ...                        ...           ...                ...   \n",
       "1465         2      Laboratory Technician       Married                  3   \n",
       "1466         3  Healthcare Representative       Married                  3   \n",
       "1467         2     Manufacturing Director       Married                  4   \n",
       "1468         2            Sales Executive       Married                  3   \n",
       "1469         2      Laboratory Technician       Married                  3   \n",
       "\n",
       "      StockOptionLevel  TrainingTimesLastYear  WorkLifeBalance  \\\n",
       "0                    0                      0                1   \n",
       "1                    1                      3                3   \n",
       "2                    0                      3                3   \n",
       "3                    0                      3                3   \n",
       "4                    1                      3                3   \n",
       "...                ...                    ...              ...   \n",
       "1465                 1                      3                3   \n",
       "1466                 1                      5                3   \n",
       "1467                 1                      0                3   \n",
       "1468                 0                      3                2   \n",
       "1469                 0                      3                4   \n",
       "\n",
       "      YearsAtCompany  YearsSinceLastPromotion OverTime Attrition  \n",
       "0                  6                        0      Yes       Yes  \n",
       "1                 10                        1       No        No  \n",
       "2                  0                        0      Yes       Yes  \n",
       "3                  8                        3      Yes        No  \n",
       "4                  2                        2       No        No  \n",
       "...              ...                      ...      ...       ...  \n",
       "1465               5                        0       No        No  \n",
       "1466               7                        1       No        No  \n",
       "1467               6                        0      Yes        No  \n",
       "1468               9                        0       No        No  \n",
       "1469               4                        1       No        No  \n",
       "\n",
       "[1470 rows x 24 columns]"
      ]
     },
     "execution_count": 30,
     "metadata": {},
     "output_type": "execute_result"
    }
   ],
   "source": [
    "# 2) Import dataset (exam_dataset.csv)\n",
    "\n",
    "ds = pd.read_csv('exam_dataset.csv')\n",
    "pd.set_option('display.max_column',500)\n",
    "ds"
   ]
  },
  {
   "cell_type": "code",
   "execution_count": 31,
   "id": "6d27f783",
   "metadata": {},
   "outputs": [],
   "source": [
    "# 3) Allocate the relevant attributes as input and output\n",
    "\n",
    "x = ds.iloc[:, 0:4].values # Age, BusinessTravel, MonthlyIncome, JobSatisfiction\n",
    "y = ds.iloc[:,-1].values # Attrition\n"
   ]
  },
  {
   "cell_type": "code",
   "execution_count": 33,
   "id": "a217fbe4",
   "metadata": {},
   "outputs": [
    {
     "name": "stdout",
     "output_type": "stream",
     "text": [
      "['Non-Travel' 'Travel_Frequently' 'Travel_Rarely']\n",
      "[[41 2 5993 4]\n",
      " [49 1 5130 2]\n",
      " [37 2 2090 3]\n",
      " ...\n",
      " [27 2 6142 2]\n",
      " [49 1 5390 2]\n",
      " [34 2 4404 3]]\n",
      "[1 0 1 ... 0 0 0]\n"
     ]
    }
   ],
   "source": [
    "# 4) Use LabelEncoder to encode categorical data\n",
    "\n",
    "from sklearn.preprocessing import LabelEncoder\n",
    "\n",
    "d= ds['BusinessTravel'].unique()\n",
    "d.sort()\n",
    "print(d)\n",
    "\n",
    "labelencoder_x = LabelEncoder()\n",
    "x[:, 1] = labelencoder_x.fit_transform (x[:,1]) # BusinessTravel (Non-Travel/Travel_Frequently/Travel_Rarely)\n",
    "print(x)\n",
    "\n",
    "labelencoder_y = LabelEncoder()\n",
    "y = labelencoder_y.fit_transform(y) # Attrition (yes/no)\n",
    "print(y)"
   ]
  },
  {
   "cell_type": "code",
   "execution_count": 34,
   "id": "4c017c70",
   "metadata": {},
   "outputs": [],
   "source": [
    "# 5) Split your data into training and test sets with the appropriate proportions (70/30)\n",
    "\n",
    "from sklearn.model_selection import train_test_split\n",
    "x_train,x_test,y_train,y_test = train_test_split(x, y, test_size = 0.3, random_state = 0)"
   ]
  },
  {
   "cell_type": "code",
   "execution_count": 35,
   "id": "3692c8b7",
   "metadata": {},
   "outputs": [],
   "source": [
    "# 6) Normalized your data using StandardScaler\n",
    "\n",
    "from sklearn.preprocessing import StandardScaler\n",
    "sc_x = StandardScaler()\n",
    "x_train = sc_x.fit_transform(x_train)\n",
    "x_test = sc_x.transform(x_test)\n"
   ]
  },
  {
   "cell_type": "code",
   "execution_count": 36,
   "id": "4eacc8d4",
   "metadata": {},
   "outputs": [
    {
     "name": "stdout",
     "output_type": "stream",
     "text": [
      "[0 0 1 0 1 0 1 0 0 1 0 1 0 1 0 0 0 1 0 0 0 0 0 0 0 0 0 0 0 0 0 0 0 1 0 0 0\n",
      " 0 1 0 0 0 0 0 0 1 0 0 1 1 0 1 0 0 1 0 0 1 0 0 0 0 0 0 0 0 1 1 0 1 0 0 0 0\n",
      " 0 0 0 0 1 0 0 0 0 0 0 0 0 0 0 0 0 0 0 0 0 0 0 0 0 0 1 1 0 0 0 0 0 0 0 0 0\n",
      " 0 0 0 0 0 0 0 0 0 0 0 0 1 0 0 0 0 0 0 0 1 1 0 0 0 1 0 0 0 0 0 0 0 0 1 0 0\n",
      " 1 0 0 0 0 1 0 0 0 0 0 0 1 0 0 1 0 0 0 0 0 0 0 1 0 0 1 0 0 0 0 0 0 0 0 1 0\n",
      " 0 0 0 1 0 0 1 0 0 0 0 0 0 1 0 0 0 1 0 0 0 0 0 0 0 0 0 0 1 1 0 0 0 0 0 0 0\n",
      " 0 0 0 0 0 0 1 0 0 0 0 0 0 0 0 0 0 0 1 0 0 0 0 0 0 0 0 0 0 0 1 0 0 0 0 1 0\n",
      " 1 0 0 0 0 0 0 0 1 1 0 0 0 0 0 0 0 0 0 0 0 1 0 0 0 0 0 0 1 0 0 0 1 0 0 0 0\n",
      " 0 0 1 0 0 0 0 0 0 0 0 1 0 0 0 0 0 0 0 0 0 0 0 0 1 0 0 1 0 0 0 0 0 0 0 0 0\n",
      " 1 0 0 0 0 0 0 0 1 0 0 0 0 0 0 0 0 0 0 0 0 0 0 0 0 0 0 0 1 0 0 1 0 0 1 0 0\n",
      " 0 0 0 0 1 0 0 0 1 0 0 0 0 0 0 1 0 0 0 0 0 1 0 0 1 0 0 0 0 0 1 0 0 0 0 0 0\n",
      " 0 0 0 1 1 0 0 0 0 0 1 0 0 1 0 1 0 0 0 0 0 0 0 1 0 0 0 0 0 0 0 0 0 0]\n",
      "[0 0 0 0 0 0 0 0 0 0 0 0 0 0 0 0 0 0 0 0 1 0 0 0 0 0 0 0 1 0 0 0 0 0 0 0 0\n",
      " 0 0 0 0 0 0 0 0 0 0 0 0 0 0 0 0 0 0 0 0 0 0 0 0 0 0 0 0 0 0 0 0 0 0 0 0 0\n",
      " 0 0 0 0 0 0 0 0 0 0 0 0 0 0 0 0 0 0 0 0 0 0 0 0 0 0 0 0 0 0 0 0 0 0 0 0 0\n",
      " 0 0 0 0 0 0 0 0 0 0 0 0 0 0 0 0 0 0 0 0 0 0 0 0 0 0 0 0 0 0 0 0 0 0 0 0 0\n",
      " 0 0 0 0 0 0 0 0 0 0 0 0 0 0 0 0 0 0 0 0 0 0 0 0 0 0 0 1 0 0 0 0 0 0 0 0 0\n",
      " 0 0 0 0 0 0 1 0 0 0 0 0 0 0 0 0 0 0 0 0 0 0 0 0 0 0 0 0 0 0 0 0 0 0 0 0 0\n",
      " 0 0 0 0 0 0 1 0 0 0 0 0 0 0 0 0 0 0 0 0 0 0 0 0 0 0 0 0 0 0 0 0 0 0 0 0 0\n",
      " 0 0 0 0 0 0 0 0 0 0 0 0 0 0 0 0 0 0 0 0 0 0 0 1 0 0 0 0 0 0 0 0 0 0 0 0 0\n",
      " 0 0 0 0 0 0 0 0 0 0 0 0 0 0 0 0 0 0 0 0 0 0 0 0 0 0 0 0 0 0 0 0 0 0 0 0 0\n",
      " 0 0 0 0 0 0 0 0 0 0 0 0 0 0 0 0 0 0 0 0 0 0 0 0 0 0 0 0 0 0 0 0 0 0 0 0 0\n",
      " 0 0 0 0 0 0 0 0 0 0 0 0 0 0 0 0 0 0 0 0 0 0 0 0 1 0 0 0 0 0 0 0 0 0 0 0 0\n",
      " 0 0 0 0 0 0 0 0 0 0 0 0 0 0 0 0 0 0 0 0 0 0 0 0 0 0 0 0 0 0 0 0 0 0]\n"
     ]
    }
   ],
   "source": [
    "# 7) Fit the and predict results using the Naïve Bayes Classifier\n",
    "\n",
    "from sklearn.naive_bayes import GaussianNB\n",
    "classifier=GaussianNB()\n",
    "classifier.fit(x_train, y_train)\n",
    "\n",
    "#Predict the results for the Test set\n",
    "y_pred = classifier.predict(x_test)\n",
    "print(y_test)\n",
    "print(y_pred)"
   ]
  },
  {
   "cell_type": "code",
   "execution_count": 43,
   "id": "f5dbb575",
   "metadata": {},
   "outputs": [
    {
     "name": "stdout",
     "output_type": "stream",
     "text": [
      "[[367   4]\n",
      " [ 67   3]]\n",
      "The model accuracy is : 0.8390022675736961\n",
      "              precision    recall  f1-score   support\n",
      "\n",
      "           0       0.85      0.99      0.91       371\n",
      "           1       0.43      0.04      0.08        70\n",
      "\n",
      "    accuracy                           0.84       441\n",
      "   macro avg       0.64      0.52      0.49       441\n",
      "weighted avg       0.78      0.84      0.78       441\n",
      "\n"
     ]
    }
   ],
   "source": [
    "# 8) Evaluate your results using confusion matrix and calculate the prediction accuracy\n",
    "\n",
    "# Using confusion matrix \n",
    "from sklearn.metrics import confusion_matrix\n",
    "cm = confusion_matrix(y_test,y_pred)\n",
    "print(cm)\n",
    "\n",
    "# Calculate the accuracy \n",
    "from sklearn.metrics import accuracy_score,classification_report\n",
    "accuracy = accuracy_score(y_test,y_pred)\n",
    "print('The model accuracy is :', accuracy)\n",
    "print(classification_report(y_test, y_pred))"
   ]
  },
  {
   "cell_type": "code",
   "execution_count": 44,
   "id": "8881a389",
   "metadata": {},
   "outputs": [],
   "source": [
    "# 9) Discuss your results and findings"
   ]
  },
  {
   "cell_type": "markdown",
   "id": "7bd4db6e",
   "metadata": {},
   "source": [
    "- The model shows a good accuracy of 83.9% which is just fine and can be improve. \n",
    "- F1 score also showing good result which is 0.91 meaning the model has low false positives and low false negatives \n",
    "- Improvement of the model to get higher accuracy could be done by using different classification model ( Decision Tree, Random Forest, etc). \n",
    "- Cross fold validation also could be done to check on the variance between the fold, to understand more on the distribution of the dataset for accuracy. "
   ]
  },
  {
   "cell_type": "markdown",
   "id": "6d6f6b96",
   "metadata": {},
   "source": [
    "## Section C. Clustering comparison between K-Means and DBSCAN"
   ]
  },
  {
   "cell_type": "markdown",
   "id": "f424fbb5",
   "metadata": {},
   "source": [
    "1) Perform K-Means clustering (use WCSS to help find best K value) on the given dataset, display clustering results with graphical visualization, provide any necessary comments and discussions. \n",
    "\n"
   ]
  },
  {
   "cell_type": "code",
   "execution_count": 57,
   "id": "7d1e145f",
   "metadata": {},
   "outputs": [],
   "source": [
    "# import libraries \n",
    "\n",
    "import numpy as np\n",
    "import pandas as pd \n",
    "import matplotlib.pyplot as plt\n",
    "%matplotlib inline\n",
    "import seaborn as sns\n",
    "\n",
    "from sklearn.cluster import KMeans\n",
    "from sklearn.metrics import silhouette_score\n",
    "from sklearn.preprocessing import StandardScaler\n",
    "\n",
    "import warnings\n",
    "warnings.filterwarnings(\"ignore\")"
   ]
  },
  {
   "cell_type": "code",
   "execution_count": 58,
   "id": "914e7a84",
   "metadata": {},
   "outputs": [
    {
     "data": {
      "text/html": [
       "<div>\n",
       "<style scoped>\n",
       "    .dataframe tbody tr th:only-of-type {\n",
       "        vertical-align: middle;\n",
       "    }\n",
       "\n",
       "    .dataframe tbody tr th {\n",
       "        vertical-align: top;\n",
       "    }\n",
       "\n",
       "    .dataframe thead th {\n",
       "        text-align: right;\n",
       "    }\n",
       "</style>\n",
       "<table border=\"1\" class=\"dataframe\">\n",
       "  <thead>\n",
       "    <tr style=\"text-align: right;\">\n",
       "      <th></th>\n",
       "      <th>Unnamed: 0</th>\n",
       "      <th>A</th>\n",
       "      <th>B</th>\n",
       "    </tr>\n",
       "  </thead>\n",
       "  <tbody>\n",
       "    <tr>\n",
       "      <th>0</th>\n",
       "      <td>0</td>\n",
       "      <td>2.853203</td>\n",
       "      <td>0.301197</td>\n",
       "    </tr>\n",
       "    <tr>\n",
       "      <th>1</th>\n",
       "      <td>1</td>\n",
       "      <td>3.246967</td>\n",
       "      <td>0.556022</td>\n",
       "    </tr>\n",
       "    <tr>\n",
       "      <th>2</th>\n",
       "      <td>2</td>\n",
       "      <td>0.276892</td>\n",
       "      <td>-0.452540</td>\n",
       "    </tr>\n",
       "    <tr>\n",
       "      <th>3</th>\n",
       "      <td>3</td>\n",
       "      <td>2.029198</td>\n",
       "      <td>1.597280</td>\n",
       "    </tr>\n",
       "    <tr>\n",
       "      <th>4</th>\n",
       "      <td>4</td>\n",
       "      <td>0.171107</td>\n",
       "      <td>-1.738766</td>\n",
       "    </tr>\n",
       "    <tr>\n",
       "      <th>5</th>\n",
       "      <td>5</td>\n",
       "      <td>1.730352</td>\n",
       "      <td>2.115204</td>\n",
       "    </tr>\n",
       "    <tr>\n",
       "      <th>6</th>\n",
       "      <td>6</td>\n",
       "      <td>3.316303</td>\n",
       "      <td>0.494084</td>\n",
       "    </tr>\n",
       "    <tr>\n",
       "      <th>7</th>\n",
       "      <td>7</td>\n",
       "      <td>2.686455</td>\n",
       "      <td>0.556210</td>\n",
       "    </tr>\n",
       "    <tr>\n",
       "      <th>8</th>\n",
       "      <td>8</td>\n",
       "      <td>-0.847576</td>\n",
       "      <td>-0.603578</td>\n",
       "    </tr>\n",
       "    <tr>\n",
       "      <th>9</th>\n",
       "      <td>9</td>\n",
       "      <td>1.467940</td>\n",
       "      <td>1.932057</td>\n",
       "    </tr>\n",
       "  </tbody>\n",
       "</table>\n",
       "</div>"
      ],
      "text/plain": [
       "   Unnamed: 0         A         B\n",
       "0           0  2.853203  0.301197\n",
       "1           1  3.246967  0.556022\n",
       "2           2  0.276892 -0.452540\n",
       "3           3  2.029198  1.597280\n",
       "4           4  0.171107 -1.738766\n",
       "5           5  1.730352  2.115204\n",
       "6           6  3.316303  0.494084\n",
       "7           7  2.686455  0.556210\n",
       "8           8 -0.847576 -0.603578\n",
       "9           9  1.467940  1.932057"
      ]
     },
     "execution_count": 58,
     "metadata": {},
     "output_type": "execute_result"
    }
   ],
   "source": [
    "# import dataset \n",
    "X = pd.read_csv('clustering.csv')\n",
    "X.head(10)"
   ]
  },
  {
   "cell_type": "code",
   "execution_count": 59,
   "id": "4c16e696",
   "metadata": {},
   "outputs": [
    {
     "name": "stdout",
     "output_type": "stream",
     "text": [
      "<class 'pandas.core.frame.DataFrame'>\n",
      "RangeIndex: 1000 entries, 0 to 999\n",
      "Data columns (total 3 columns):\n",
      " #   Column      Non-Null Count  Dtype  \n",
      "---  ------      --------------  -----  \n",
      " 0   Unnamed: 0  1000 non-null   int64  \n",
      " 1   A           1000 non-null   float64\n",
      " 2   B           1000 non-null   float64\n",
      "dtypes: float64(2), int64(1)\n",
      "memory usage: 23.6 KB\n"
     ]
    }
   ],
   "source": [
    "# understand dataset \n",
    "X.info()"
   ]
  },
  {
   "cell_type": "code",
   "execution_count": 60,
   "id": "bd2a776f",
   "metadata": {},
   "outputs": [
    {
     "name": "stdout",
     "output_type": "stream",
     "text": [
      "            A         B\n",
      "0    2.853203  0.301197\n",
      "1    3.246967  0.556022\n",
      "2    0.276892 -0.452540\n",
      "3    2.029198  1.597280\n",
      "4    0.171107 -1.738766\n",
      "..        ...       ...\n",
      "995  1.518647  1.730725\n",
      "996  2.086662  1.680210\n",
      "997  1.651778  1.737957\n",
      "998  1.907899  2.094440\n",
      "999  0.062419 -0.394201\n",
      "\n",
      "[1000 rows x 2 columns]\n"
     ]
    }
   ],
   "source": [
    "# select data\n",
    "X1 = X.iloc[:,[1,2]]\n",
    "print(X1)"
   ]
  },
  {
   "cell_type": "code",
   "execution_count": 61,
   "id": "ce0b5685",
   "metadata": {},
   "outputs": [
    {
     "data": {
      "text/plain": [
       "<AxesSubplot:>"
      ]
     },
     "execution_count": 61,
     "metadata": {},
     "output_type": "execute_result"
    },
    {
     "data": {
      "image/png": "[encoded data removed]",
      "text/plain": [
       "<Figure size 432x288 with 2 Axes>"
      ]
     },
     "metadata": {
      "needs_background": "light"
     },
     "output_type": "display_data"
    }
   ],
   "source": [
    "# checkk correlation \n",
    "cor = X1.corr()\n",
    "sns.heatmap(cor, square = True)"
   ]
  },
  {
   "cell_type": "code",
   "execution_count": 62,
   "id": "9d276128",
   "metadata": {},
   "outputs": [
    {
     "data": {
      "text/plain": [
       "array([[ 1.11124427, -0.16100989],\n",
       "       [ 1.47890512,  0.04317835],\n",
       "       [-1.29427461, -0.76497192],\n",
       "       ...,\n",
       "       [-0.0105342 ,  0.99025088],\n",
       "       [ 0.22860815,  1.27589652],\n",
       "       [-1.49452983, -0.71822508]])"
      ]
     },
     "execution_count": 62,
     "metadata": {},
     "output_type": "execute_result"
    }
   ],
   "source": [
    "# scalling the dataset \n",
    "from sklearn.preprocessing import StandardScaler\n",
    "\n",
    "ss = StandardScaler()\n",
    "XX = ss.fit_transform(X1)\n",
    "XX"
   ]
  },
  {
   "cell_type": "code",
   "execution_count": 63,
   "id": "e928759f",
   "metadata": {},
   "outputs": [
    {
     "data": {
      "image/png": "[encoded data removed]",
      "text/plain": [
       "<Figure size 432x288 with 1 Axes>"
      ]
     },
     "metadata": {
      "needs_background": "light"
     },
     "output_type": "display_data"
    }
   ],
   "source": [
    "# find number of cluster, K \n",
    "from sklearn.cluster import KMeans\n",
    "wcss = []\n",
    "for i in range (1,11):\n",
    "    kmeans = KMeans(n_clusters = i, init='k-means++', random_state = 42)\n",
    "    kmeans.fit(XX) # using dataset after scalled \n",
    "    wcss.append(kmeans.inertia_) #inertia is the wcss value \n",
    "plt.plot(range(1,11),wcss)\n",
    "plt.title('The Elbow Method')\n",
    "plt.xlabel('Number of clusters')\n",
    "plt.ylabel('WCSS')\n",
    "plt.show()"
   ]
  },
  {
   "cell_type": "code",
   "execution_count": 64,
   "id": "7872fe91",
   "metadata": {},
   "outputs": [
    {
     "data": {
      "text/plain": [
       "array([0, 0, 1, 2, 1, 2, 0, 0, 1, 2, 2, 0, 1, 0, 1, 0, 2, 1, 1, 1, 1, 1,\n",
       "       0, 1, 0, 2, 2, 0, 0, 2, 2, 1, 1, 1, 2, 2, 1, 2, 0, 1, 1, 1, 0, 0,\n",
       "       1, 1, 1, 0, 0, 2, 2, 0, 0, 0, 2, 1, 2, 1, 0, 2, 0, 2, 0, 0, 2, 2,\n",
       "       0, 1, 0, 0, 0, 2, 0, 0, 2, 0, 0, 1, 0, 0, 0, 2, 1, 0, 1, 2, 2, 0,\n",
       "       2, 0, 1, 2, 2, 0, 0, 0, 1, 2, 2, 0, 1, 0, 0, 2, 1, 0, 2, 1, 0, 0,\n",
       "       1, 0, 1, 0, 1, 1, 2, 2, 0, 0, 1, 1, 0, 0, 2, 0, 0, 0, 2, 0, 0, 2,\n",
       "       1, 1, 0, 1, 2, 0, 1, 0, 2, 1, 1, 0, 1, 1, 1, 0, 1, 0, 0, 2, 0, 0,\n",
       "       2, 2, 1, 0, 0, 0, 0, 0, 1, 1, 0, 0, 2, 2, 0, 2, 1, 1, 0, 1, 2, 0,\n",
       "       2, 0, 0, 0, 2, 2, 2, 1, 2, 1, 2, 2, 1, 2, 0, 1, 2, 0, 2, 2, 2, 0,\n",
       "       1, 2, 1, 0, 1, 2, 1, 0, 0, 1, 0, 0, 0, 0, 0, 0, 1, 1, 2, 1, 2, 0,\n",
       "       2, 0, 0, 0, 1, 1, 1, 2, 0, 1, 2, 2, 1, 1, 0, 2, 1, 1, 0, 0, 1, 1,\n",
       "       0, 1, 1, 2, 1, 1, 1, 0, 2, 0, 1, 1, 1, 0, 1, 2, 2, 0, 1, 1, 1, 2,\n",
       "       0, 1, 1, 1, 1, 1, 2, 2, 0, 2, 2, 0, 0, 2, 2, 0, 1, 2, 1, 2, 0, 1,\n",
       "       1, 2, 2, 0, 0, 2, 0, 1, 1, 2, 2, 1, 0, 0, 2, 0, 0, 0, 1, 0, 1, 0,\n",
       "       1, 2, 1, 2, 0, 2, 0, 2, 2, 0, 1, 2, 1, 1, 0, 2, 2, 2, 1, 2, 0, 2,\n",
       "       0, 2, 0, 1, 0, 1, 1, 2, 2, 0, 2, 0, 1, 0, 0, 1, 2, 1, 1, 0, 0, 0,\n",
       "       0, 1, 1, 1, 1, 1, 1, 0, 1, 0, 2, 1, 1, 2, 0, 1, 2, 1, 0, 1, 1, 0,\n",
       "       1, 1, 1, 1, 1, 1, 2, 1, 2, 2, 1, 2, 0, 1, 1, 1, 2, 1, 2, 2, 0, 1,\n",
       "       0, 2, 2, 0, 1, 2, 1, 0, 0, 2, 0, 2, 2, 2, 2, 2, 1, 0, 1, 2, 0, 0,\n",
       "       2, 2, 1, 1, 0, 1, 0, 1, 1, 2, 1, 1, 1, 2, 0, 2, 0, 0, 0, 2, 2, 0,\n",
       "       2, 2, 1, 2, 0, 2, 0, 0, 0, 1, 2, 1, 1, 1, 2, 0, 2, 0, 0, 0, 0, 0,\n",
       "       0, 2, 0, 1, 0, 0, 0, 1, 1, 1, 1, 1, 1, 2, 2, 1, 2, 2, 0, 2, 0, 1,\n",
       "       0, 2, 2, 2, 1, 0, 1, 0, 1, 1, 2, 2, 2, 2, 0, 1, 0, 2, 1, 2, 2, 0,\n",
       "       2, 1, 2, 1, 2, 0, 0, 1, 0, 0, 1, 2, 0, 2, 0, 2, 2, 2, 2, 2, 1, 1,\n",
       "       2, 0, 1, 2, 2, 0, 0, 0, 2, 0, 1, 1, 2, 0, 1, 0, 1, 1, 1, 0, 1, 2,\n",
       "       0, 0, 0, 1, 2, 2, 0, 0, 2, 1, 2, 1, 1, 1, 0, 2, 1, 2, 2, 2, 0, 2,\n",
       "       0, 0, 2, 1, 1, 2, 0, 0, 0, 1, 1, 0, 1, 0, 1, 0, 2, 2, 1, 2, 1, 1,\n",
       "       2, 2, 0, 2, 0, 1, 1, 0, 2, 0, 1, 1, 0, 2, 2, 2, 0, 0, 0, 2, 1, 1,\n",
       "       2, 1, 1, 1, 2, 0, 1, 1, 1, 2, 1, 0, 0, 2, 2, 2, 2, 2, 2, 0, 0, 0,\n",
       "       0, 0, 1, 1, 1, 0, 2, 0, 1, 1, 0, 2, 1, 0, 1, 1, 2, 0, 2, 0, 2, 2,\n",
       "       1, 0, 1, 2, 2, 0, 2, 1, 2, 1, 0, 2, 1, 0, 0, 0, 2, 2, 0, 1, 1, 0,\n",
       "       1, 1, 2, 2, 0, 0, 2, 1, 2, 0, 0, 1, 2, 1, 0, 2, 2, 1, 0, 0, 0, 0,\n",
       "       2, 2, 1, 0, 2, 0, 1, 2, 2, 1, 2, 1, 2, 0, 1, 0, 2, 2, 0, 0, 1, 0,\n",
       "       0, 0, 2, 2, 0, 0, 1, 2, 2, 1, 2, 1, 2, 0, 0, 2, 2, 2, 0, 2, 2, 2,\n",
       "       0, 2, 0, 1, 1, 2, 2, 1, 1, 0, 2, 2, 2, 1, 0, 2, 0, 2, 0, 1, 1, 2,\n",
       "       2, 0, 1, 1, 0, 2, 1, 1, 0, 2, 1, 0, 1, 1, 0, 1, 0, 1, 1, 2, 2, 2,\n",
       "       2, 1, 1, 0, 0, 1, 0, 0, 0, 2, 0, 2, 1, 0, 2, 1, 0, 1, 0, 1, 2, 1,\n",
       "       2, 0, 2, 0, 0, 0, 2, 1, 1, 2, 2, 0, 2, 2, 2, 2, 2, 2, 2, 1, 2, 1,\n",
       "       2, 1, 1, 2, 0, 2, 1, 0, 1, 0, 1, 0, 1, 2, 1, 0, 1, 0, 1, 1, 1, 2,\n",
       "       1, 2, 2, 2, 1, 1, 2, 2, 0, 0, 2, 2, 1, 0, 0, 2, 1, 2, 0, 1, 2, 1,\n",
       "       1, 0, 0, 0, 0, 2, 1, 0, 0, 2, 2, 0, 2, 1, 1, 0, 1, 0, 2, 1, 2, 0,\n",
       "       0, 1, 2, 0, 1, 2, 0, 2, 0, 0, 0, 0, 2, 0, 1, 2, 0, 2, 1, 2, 2, 2,\n",
       "       2, 2, 0, 0, 1, 2, 2, 2, 0, 1, 2, 0, 1, 1, 1, 2, 0, 2, 1, 1, 1, 1,\n",
       "       0, 1, 2, 0, 1, 2, 2, 2, 2, 2, 2, 0, 2, 2, 2, 2, 1, 2, 1, 1, 1, 1,\n",
       "       1, 1, 2, 1, 0, 2, 2, 1, 1, 1, 1, 2, 1, 2, 1, 2, 1, 0, 0, 1, 0, 1,\n",
       "       0, 0, 0, 1, 1, 2, 2, 2, 2, 1])"
      ]
     },
     "execution_count": 64,
     "metadata": {},
     "output_type": "execute_result"
    }
   ],
   "source": [
    "# K = 3 was chosen based on Elbow method , fitting K-means clustering\n",
    "kmeans = KMeans(n_clusters = 3, init = 'k-means++', random_state = 0)\n",
    "y_kmeans = kmeans.fit_predict(XX)\n",
    "y_kmeans"
   ]
  },
  {
   "cell_type": "code",
   "execution_count": 65,
   "id": "2a73f96c",
   "metadata": {},
   "outputs": [
    {
     "data": {
      "text/plain": [
       "<function matplotlib.pyplot.show(close=None, block=None)>"
      ]
     },
     "execution_count": 65,
     "metadata": {},
     "output_type": "execute_result"
    },
    {
     "data": {
      "image/png": "[encoded data removed]",
      "text/plain": [
       "<Figure size 432x288 with 1 Axes>"
      ]
     },
     "metadata": {
      "needs_background": "light"
     },
     "output_type": "display_data"
    }
   ],
   "source": [
    "# visualizing K- Means Clustering \n",
    "sns.scatterplot(XX[:,0], XX[:,1], hue =['cluster-{}'.format(x) for x in y_kmeans])\n",
    "plt.scatter(kmeans.cluster_centers_[:, 0], kmeans.cluster_centers_[:,1], s = 200, c ='orange', label = 'Centroids')\n",
    "plt.title('Clusters and Centroids')\n",
    "plt.xlabel('X-axis')\n",
    "plt.ylabel('Y-axis')\n",
    "plt.legend()\n",
    "plt.show"
   ]
  },
  {
   "cell_type": "code",
   "execution_count": 66,
   "id": "a967eae1",
   "metadata": {},
   "outputs": [
    {
     "name": "stdout",
     "output_type": "stream",
     "text": [
      "0.8000577764601403\n"
     ]
    }
   ],
   "source": [
    "# check silhouette score \n",
    "score = silhouette_score(XX, kmeans.labels_, metric = 'euclidean')\n",
    "print(score)"
   ]
  },
  {
   "cell_type": "markdown",
   "id": "11a5bf56",
   "metadata": {},
   "source": [
    "2) Perform DBSCAN clustering (use knee locator to help find optimal parameter) on the given dataset, display clustering results with graphical visualization, provide any necessary comments and discussions."
   ]
  },
  {
   "cell_type": "code",
   "execution_count": 74,
   "id": "e63ee635",
   "metadata": {},
   "outputs": [
    {
     "data": {
      "image/png": "[encoded data removed]",
      "text/plain": [
       "<Figure size 360x360 with 1 Axes>"
      ]
     },
     "metadata": {
      "needs_background": "light"
     },
     "output_type": "display_data"
    }
   ],
   "source": [
    "# import libraries \n",
    "\n",
    "import numpy as np\n",
    "import seaborn as sns\n",
    "import matplotlib.pyplot as plt\n",
    "%matplotlib inline\n",
    "from sklearn.cluster import DBSCAN\n",
    "from sklearn.datasets import make_blobs\n",
    "from sklearn.neighbors import NearestNeighbors\n",
    "from kneed import KneeLocator\n",
    "\n",
    "db = DBSCAN(eps=0.5, min_samples=10).fit(X)\n",
    "labels = db.labels_\n",
    "\n",
    "\n",
    "# DBSCAN - Fine Tuning with Knee Locator\n",
    "\n",
    "nearest_neighbors = NearestNeighbors(n_neighbors=11)\n",
    "neighbors = nearest_neighbors.fit(X)\n",
    "distances, indices = neighbors.kneighbors(X)\n",
    "\n",
    "distances = np.sort(distances[:,10], axis=0)\n",
    "i = np.arange(len(distances))\n",
    "knee = KneeLocator(i, distances, S=1, curve='convex', \n",
    "direction='increasing', interp_method='polynomial')\n",
    "\n",
    "fig = plt.figure(figsize=(5, 5))\n",
    "plt.plot(distances)\n",
    "plt.xlabel(\"Points\")\n",
    "plt.ylabel(\"Distance\")\n",
    "plt.savefig(\"Distance_curve.png\", dpi=300)\n"
   ]
  },
  {
   "cell_type": "code",
   "execution_count": 75,
   "id": "e73b5393",
   "metadata": {},
   "outputs": [
    {
     "name": "stdout",
     "output_type": "stream",
     "text": [
      "6.121554773816991\n"
     ]
    },
    {
     "data": {
      "text/plain": [
       "<Figure size 360x360 with 0 Axes>"
      ]
     },
     "metadata": {},
     "output_type": "display_data"
    },
    {
     "data": {
      "image/png": "[encoded data removed]",
      "text/plain": [
       "<Figure size 432x432 with 1 Axes>"
      ]
     },
     "metadata": {
      "needs_background": "light"
     },
     "output_type": "display_data"
    }
   ],
   "source": [
    "fig = plt.figure(figsize=(5, 5))\n",
    "knee.plot_knee()\n",
    "plt.xlabel(\"Points\")\n",
    "plt.ylabel(\"Distance\")\n",
    "plt.savefig(\"knee.png\", dpi=300)\n",
    "print(distances[knee.knee])"
   ]
  },
  {
   "cell_type": "code",
   "execution_count": 78,
   "id": "03996972",
   "metadata": {},
   "outputs": [
    {
     "ename": "TypeError",
     "evalue": "'(slice(None, None, None), 0)' is an invalid key",
     "output_type": "error",
     "traceback": [
      "\u001b[1;31m---------------------------------------------------------------------------\u001b[0m",
      "\u001b[1;31mTypeError\u001b[0m                                 Traceback (most recent call last)",
      "\u001b[1;32m<ipython-input-78-d077626aa518>\u001b[0m in \u001b[0;36m<module>\u001b[1;34m\u001b[0m\n\u001b[0;32m      2\u001b[0m \u001b[0mlabels\u001b[0m \u001b[1;33m=\u001b[0m \u001b[0mdb\u001b[0m\u001b[1;33m.\u001b[0m\u001b[0mlabels_\u001b[0m\u001b[1;33m\u001b[0m\u001b[1;33m\u001b[0m\u001b[0m\n\u001b[0;32m      3\u001b[0m \u001b[0mfig\u001b[0m \u001b[1;33m=\u001b[0m \u001b[0mplt\u001b[0m\u001b[1;33m.\u001b[0m\u001b[0mfigure\u001b[0m\u001b[1;33m(\u001b[0m\u001b[0mfigsize\u001b[0m\u001b[1;33m=\u001b[0m\u001b[1;33m(\u001b[0m\u001b[1;36m5\u001b[0m\u001b[1;33m,\u001b[0m \u001b[1;36m5\u001b[0m\u001b[1;33m)\u001b[0m\u001b[1;33m)\u001b[0m\u001b[1;33m\u001b[0m\u001b[1;33m\u001b[0m\u001b[0m\n\u001b[1;32m----> 4\u001b[1;33m sns.scatterplot(X[:,0], X[:,1], hue=[\"cluster-{}\".format(x) for x in \n\u001b[0m\u001b[0;32m      5\u001b[0m labels])\n\u001b[0;32m      6\u001b[0m \u001b[0mplt\u001b[0m\u001b[1;33m.\u001b[0m\u001b[0msavefig\u001b[0m\u001b[1;33m(\u001b[0m\u001b[1;34m\"dbscan_with_knee.png\"\u001b[0m\u001b[1;33m,\u001b[0m \u001b[0mdpi\u001b[0m\u001b[1;33m=\u001b[0m\u001b[1;36m300\u001b[0m\u001b[1;33m)\u001b[0m\u001b[1;33m\u001b[0m\u001b[1;33m\u001b[0m\u001b[0m\n",
      "\u001b[1;32m~\\anaconda3\\lib\\site-packages\\pandas\\core\\frame.py\u001b[0m in \u001b[0;36m__getitem__\u001b[1;34m(self, key)\u001b[0m\n\u001b[0;32m   3453\u001b[0m             \u001b[1;32mif\u001b[0m \u001b[0mself\u001b[0m\u001b[1;33m.\u001b[0m\u001b[0mcolumns\u001b[0m\u001b[1;33m.\u001b[0m\u001b[0mnlevels\u001b[0m \u001b[1;33m>\u001b[0m \u001b[1;36m1\u001b[0m\u001b[1;33m:\u001b[0m\u001b[1;33m\u001b[0m\u001b[1;33m\u001b[0m\u001b[0m\n\u001b[0;32m   3454\u001b[0m                 \u001b[1;32mreturn\u001b[0m \u001b[0mself\u001b[0m\u001b[1;33m.\u001b[0m\u001b[0m_getitem_multilevel\u001b[0m\u001b[1;33m(\u001b[0m\u001b[0mkey\u001b[0m\u001b[1;33m)\u001b[0m\u001b[1;33m\u001b[0m\u001b[1;33m\u001b[0m\u001b[0m\n\u001b[1;32m-> 3455\u001b[1;33m             \u001b[0mindexer\u001b[0m \u001b[1;33m=\u001b[0m \u001b[0mself\u001b[0m\u001b[1;33m.\u001b[0m\u001b[0mcolumns\u001b[0m\u001b[1;33m.\u001b[0m\u001b[0mget_loc\u001b[0m\u001b[1;33m(\u001b[0m\u001b[0mkey\u001b[0m\u001b[1;33m)\u001b[0m\u001b[1;33m\u001b[0m\u001b[1;33m\u001b[0m\u001b[0m\n\u001b[0m\u001b[0;32m   3456\u001b[0m             \u001b[1;32mif\u001b[0m \u001b[0mis_integer\u001b[0m\u001b[1;33m(\u001b[0m\u001b[0mindexer\u001b[0m\u001b[1;33m)\u001b[0m\u001b[1;33m:\u001b[0m\u001b[1;33m\u001b[0m\u001b[1;33m\u001b[0m\u001b[0m\n\u001b[0;32m   3457\u001b[0m                 \u001b[0mindexer\u001b[0m \u001b[1;33m=\u001b[0m \u001b[1;33m[\u001b[0m\u001b[0mindexer\u001b[0m\u001b[1;33m]\u001b[0m\u001b[1;33m\u001b[0m\u001b[1;33m\u001b[0m\u001b[0m\n",
      "\u001b[1;32m~\\anaconda3\\lib\\site-packages\\pandas\\core\\indexes\\base.py\u001b[0m in \u001b[0;36mget_loc\u001b[1;34m(self, key, method, tolerance)\u001b[0m\n\u001b[0;32m   3359\u001b[0m             \u001b[0mcasted_key\u001b[0m \u001b[1;33m=\u001b[0m \u001b[0mself\u001b[0m\u001b[1;33m.\u001b[0m\u001b[0m_maybe_cast_indexer\u001b[0m\u001b[1;33m(\u001b[0m\u001b[0mkey\u001b[0m\u001b[1;33m)\u001b[0m\u001b[1;33m\u001b[0m\u001b[1;33m\u001b[0m\u001b[0m\n\u001b[0;32m   3360\u001b[0m             \u001b[1;32mtry\u001b[0m\u001b[1;33m:\u001b[0m\u001b[1;33m\u001b[0m\u001b[1;33m\u001b[0m\u001b[0m\n\u001b[1;32m-> 3361\u001b[1;33m                 \u001b[1;32mreturn\u001b[0m \u001b[0mself\u001b[0m\u001b[1;33m.\u001b[0m\u001b[0m_engine\u001b[0m\u001b[1;33m.\u001b[0m\u001b[0mget_loc\u001b[0m\u001b[1;33m(\u001b[0m\u001b[0mcasted_key\u001b[0m\u001b[1;33m)\u001b[0m\u001b[1;33m\u001b[0m\u001b[1;33m\u001b[0m\u001b[0m\n\u001b[0m\u001b[0;32m   3362\u001b[0m             \u001b[1;32mexcept\u001b[0m \u001b[0mKeyError\u001b[0m \u001b[1;32mas\u001b[0m \u001b[0merr\u001b[0m\u001b[1;33m:\u001b[0m\u001b[1;33m\u001b[0m\u001b[1;33m\u001b[0m\u001b[0m\n\u001b[0;32m   3363\u001b[0m                 \u001b[1;32mraise\u001b[0m \u001b[0mKeyError\u001b[0m\u001b[1;33m(\u001b[0m\u001b[0mkey\u001b[0m\u001b[1;33m)\u001b[0m \u001b[1;32mfrom\u001b[0m \u001b[0merr\u001b[0m\u001b[1;33m\u001b[0m\u001b[1;33m\u001b[0m\u001b[0m\n",
      "\u001b[1;32m~\\anaconda3\\lib\\site-packages\\pandas\\_libs\\index.pyx\u001b[0m in \u001b[0;36mpandas._libs.index.IndexEngine.get_loc\u001b[1;34m()\u001b[0m\n",
      "\u001b[1;32m~\\anaconda3\\lib\\site-packages\\pandas\\_libs\\index.pyx\u001b[0m in \u001b[0;36mpandas._libs.index.IndexEngine.get_loc\u001b[1;34m()\u001b[0m\n",
      "\u001b[1;31mTypeError\u001b[0m: '(slice(None, None, None), 0)' is an invalid key"
     ]
    },
    {
     "data": {
      "text/plain": [
       "<Figure size 360x360 with 0 Axes>"
      ]
     },
     "metadata": {},
     "output_type": "display_data"
    }
   ],
   "source": [
    "db = DBSCAN(eps=distances[knee.knee], min_samples=10).fit(X)\n",
    "labels = db.labels_\n",
    "fig = plt.figure(figsize=(5, 5))\n",
    "sns.scatterplot(X[:,0], X[:,1], hue=[\"cluster-{}\".format(x) for x in \n",
    "labels])\n",
    "plt.savefig(\"dbscan_with_knee.png\", dpi=300)\n"
   ]
  },
  {
   "cell_type": "markdown",
   "id": "d35475f1",
   "metadata": {},
   "source": [
    "3) Conduct comparison studies on the two techniques (K-Means and DBSCAN), with graphical visualization comparisons, discuss your results and decide on whether:\n"
   ]
  },
  {
   "cell_type": "markdown",
   "id": "32cdcc68",
   "metadata": {},
   "source": [
    "\n",
    "- K-Means is the better clustering technique for this dataset "
   ]
  },
  {
   "cell_type": "code",
   "execution_count": null,
   "id": "77675928",
   "metadata": {},
   "outputs": [],
   "source": []
  }
 ],
 "metadata": {
  "kernelspec": {
   "display_name": "Python 3",
   "language": "python",
   "name": "python3"
  },
  "language_info": {
   "codemirror_mode": {
    "name": "ipython",
    "version": 3
   },
   "file_extension": ".py",
   "mimetype": "text/x-python",
   "name": "python",
   "nbconvert_exporter": "python",
   "pygments_lexer": "ipython3",
   "version": "3.8.8"
  }
 },
 "nbformat": 4,
 "nbformat_minor": 5
}
